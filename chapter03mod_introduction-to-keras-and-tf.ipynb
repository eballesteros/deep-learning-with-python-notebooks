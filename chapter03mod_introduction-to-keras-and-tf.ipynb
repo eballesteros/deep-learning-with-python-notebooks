{
 "cells": [
  {
   "cell_type": "markdown",
   "metadata": {},
   "source": [
    "## First Steps with TensorFlow"
   ]
  },
  {
   "cell_type": "markdown",
   "metadata": {},
   "source": [
    "### Contant tensors and variables"
   ]
  },
  {
   "cell_type": "code",
   "execution_count": 3,
   "metadata": {},
   "outputs": [],
   "source": [
    "import numpy as np\n",
    "import tensorflow as tf"
   ]
  },
  {
   "cell_type": "code",
   "execution_count": 4,
   "metadata": {},
   "outputs": [
    {
     "name": "stdout",
     "output_type": "stream",
     "text": [
      "x = array([[0., 1.],\n",
      "       [1., 1.]])\n"
     ]
    }
   ],
   "source": [
    "# np ndarrays are assignable\n",
    "x = np.ones(shape=(2, 2))\n",
    "x[0, 0] = 0.\n",
    "\n",
    "print(f\"{x = }\")"
   ]
  },
  {
   "cell_type": "code",
   "execution_count": 6,
   "metadata": {},
   "outputs": [
    {
     "ename": "TypeError",
     "evalue": "'tensorflow.python.framework.ops.EagerTensor' object does not support item assignment",
     "output_type": "error",
     "traceback": [
      "\u001b[0;31m---------------------------------------------------------------------------\u001b[0m",
      "\u001b[0;31mTypeError\u001b[0m                                 Traceback (most recent call last)",
      "\u001b[0;32m/tmp/ipykernel_1795/2035685555.py\u001b[0m in \u001b[0;36m<module>\u001b[0;34m\u001b[0m\n\u001b[1;32m      1\u001b[0m \u001b[0;31m# tf tensors are not\u001b[0m\u001b[0;34m\u001b[0m\u001b[0;34m\u001b[0m\u001b[0;34m\u001b[0m\u001b[0m\n\u001b[1;32m      2\u001b[0m \u001b[0mx\u001b[0m \u001b[0;34m=\u001b[0m \u001b[0mtf\u001b[0m\u001b[0;34m.\u001b[0m\u001b[0mones\u001b[0m\u001b[0;34m(\u001b[0m\u001b[0mshape\u001b[0m\u001b[0;34m=\u001b[0m\u001b[0;34m(\u001b[0m\u001b[0;36m2\u001b[0m\u001b[0;34m,\u001b[0m \u001b[0;36m2\u001b[0m\u001b[0;34m)\u001b[0m\u001b[0;34m)\u001b[0m\u001b[0;34m\u001b[0m\u001b[0;34m\u001b[0m\u001b[0m\n\u001b[0;32m----> 3\u001b[0;31m \u001b[0mx\u001b[0m\u001b[0;34m[\u001b[0m\u001b[0;36m0\u001b[0m\u001b[0;34m,\u001b[0m \u001b[0;36m0\u001b[0m\u001b[0;34m]\u001b[0m \u001b[0;34m=\u001b[0m \u001b[0;36m0.\u001b[0m\u001b[0;34m\u001b[0m\u001b[0;34m\u001b[0m\u001b[0m\n\u001b[0m",
      "\u001b[0;31mTypeError\u001b[0m: 'tensorflow.python.framework.ops.EagerTensor' object does not support item assignment"
     ]
    }
   ],
   "source": [
    "# tf tensors are not\n",
    "x = tf.ones(shape=(2, 2))\n",
    "x[0, 0] = 0.\n"
   ]
  },
  {
   "cell_type": "code",
   "execution_count": 9,
   "metadata": {},
   "outputs": [
    {
     "name": "stdout",
     "output_type": "stream",
     "text": [
      "v = <tf.Variable 'Variable:0' shape=(2, 2) dtype=float32, numpy=\n",
      "array([[1., 1.],\n",
      "       [1., 1.]], dtype=float32)>\n"
     ]
    }
   ],
   "source": [
    "# use variables instead to manage state\n",
    "v = tf.Variable(initial_value=tf.ones(shape=(2, 2)))\n",
    "print(f\"{v = }\")"
   ]
  },
  {
   "cell_type": "code",
   "execution_count": 10,
   "metadata": {},
   "outputs": [
    {
     "name": "stdout",
     "output_type": "stream",
     "text": [
      "v = <tf.Variable 'Variable:0' shape=(2, 2) dtype=float32, numpy=\n",
      "array([[0., 0.],\n",
      "       [0., 0.]], dtype=float32)>\n"
     ]
    }
   ],
   "source": [
    "v.assign(tf.zeros(shape=(2, 2)))\n",
    "print(f\"{v = }\")"
   ]
  },
  {
   "cell_type": "code",
   "execution_count": 11,
   "metadata": {},
   "outputs": [
    {
     "name": "stdout",
     "output_type": "stream",
     "text": [
      "v = <tf.Variable 'Variable:0' shape=(2, 2) dtype=float32, numpy=\n",
      "array([[3., 0.],\n",
      "       [0., 0.]], dtype=float32)>\n"
     ]
    }
   ],
   "source": [
    "# also works in subset of coefficients\n",
    "v[0, 0].assign(3.)\n",
    "print(f\"{v = }\")"
   ]
  },
  {
   "cell_type": "markdown",
   "metadata": {},
   "source": [
    "you also have `assign_add()` and `addign_sub()`"
   ]
  },
  {
   "cell_type": "markdown",
   "metadata": {},
   "source": [
    "### Tensorflow operations"
   ]
  },
  {
   "cell_type": "code",
   "execution_count": 14,
   "metadata": {},
   "outputs": [
    {
     "name": "stdout",
     "output_type": "stream",
     "text": [
      "a = <tf.Tensor: shape=(2, 2), dtype=float32, numpy=\n",
      "array([[1., 1.],\n",
      "       [1., 1.]], dtype=float32)>\n",
      "b = <tf.Tensor: shape=(2, 2), dtype=float32, numpy=\n",
      "array([[1., 1.],\n",
      "       [1., 1.]], dtype=float32)>\n",
      "c = <tf.Tensor: shape=(2, 2), dtype=float32, numpy=\n",
      "array([[1., 1.],\n",
      "       [1., 1.]], dtype=float32)>\n",
      "d = <tf.Tensor: shape=(2, 2), dtype=float32, numpy=\n",
      "array([[2., 2.],\n",
      "       [2., 2.]], dtype=float32)>\n",
      "e = <tf.Tensor: shape=(2, 2), dtype=float32, numpy=\n",
      "array([[2., 2.],\n",
      "       [2., 2.]], dtype=float32)>\n",
      "e = <tf.Tensor: shape=(2, 2), dtype=float32, numpy=\n",
      "array([[4., 4.],\n",
      "       [4., 4.]], dtype=float32)>\n"
     ]
    }
   ],
   "source": [
    "a = tf.ones((2, 2))\n",
    "print(f\"{a = }\")\n",
    "\n",
    "b = tf.square(a)\n",
    "print(f\"{b = }\")\n",
    "\n",
    "c = tf.sqrt(a)\n",
    "print(f\"{c = }\")\n",
    "\n",
    "d = b + c\n",
    "print(f\"{d = }\")\n",
    "\n",
    "e = tf.matmul(a, b)\n",
    "print(f\"{e = }\")\n",
    "\n",
    "e *= d\n",
    "print(f\"{e = }\")\n"
   ]
  },
  {
   "cell_type": "markdown",
   "metadata": {},
   "source": [
    "### A second look at the GradientTape API"
   ]
  },
  {
   "cell_type": "code",
   "execution_count": 17,
   "metadata": {},
   "outputs": [
    {
     "name": "stdout",
     "output_type": "stream",
     "text": [
      "gradient = <tf.Tensor: shape=(), dtype=float32, numpy=6.0>\n"
     ]
    }
   ],
   "source": [
    "input_var = tf.Variable(initial_value=3.)\n",
    "\n",
    "with tf.GradientTape() as tape:\n",
    "    result = tf.square(input_var)\n",
    "\n",
    "gradient = tape.gradient(result, input_var)\n",
    "\n",
    "print(f\"{gradient = }\")"
   ]
  },
  {
   "cell_type": "code",
   "execution_count": 19,
   "metadata": {},
   "outputs": [
    {
     "name": "stdout",
     "output_type": "stream",
     "text": [
      "gradient = <tf.Tensor: shape=(), dtype=float32, numpy=6.0>\n"
     ]
    }
   ],
   "source": [
    "# only trainable variables are tracked by default, but you can specify any arbitrary tensor\n",
    "input_const = tf.constant(3.)\n",
    "\n",
    "with tf.GradientTape() as tape:\n",
    "    tape.watch(input_const)\n",
    "    result = tf.square(input_const)\n",
    "\n",
    "gradient = tape.gradient(result, input_const)\n",
    "\n",
    "print(f\"{gradient = }\")"
   ]
  },
  {
   "cell_type": "code",
   "execution_count": 21,
   "metadata": {},
   "outputs": [
    {
     "name": "stdout",
     "output_type": "stream",
     "text": [
      "speed = <tf.Tensor: shape=(), dtype=float32, numpy=0.0>\n",
      "acceleration = <tf.Tensor: shape=(), dtype=float32, numpy=9.8>\n"
     ]
    }
   ],
   "source": [
    "# you can nest to calculate higher-order derivative\n",
    "time = tf.Variable(0.)\n",
    "\n",
    "with tf.GradientTape() as outer_tape:\n",
    "    with tf.GradientTape() as inner_tape:\n",
    "        position = 4.9 * time ** 2\n",
    "    \n",
    "    speed = inner_tape.gradient(position, time)\n",
    "acceleration = outer_tape.gradient(speed, time)\n",
    "\n",
    "print(f\"{speed = }\")\n",
    "print(f\"{acceleration = }\")"
   ]
  },
  {
   "cell_type": "markdown",
   "metadata": {},
   "source": [
    "### End-to-end example: A linear classifier in pure TensorFlow"
   ]
  },
  {
   "cell_type": "markdown",
   "metadata": {},
   "source": [
    "#### generating 2 classes or ranfom points in 2D"
   ]
  },
  {
   "cell_type": "code",
   "execution_count": 27,
   "metadata": {},
   "outputs": [
    {
     "name": "stdout",
     "output_type": "stream",
     "text": [
      "inputs.shape = (2000, 2)\n",
      "targets.shape = (2000, 1)\n"
     ]
    }
   ],
   "source": [
    "samples_per_class = 1_000\n",
    "\n",
    "negative_samples = np.random.multivariate_normal(mean=[0, 3], cov=[[1, .5], [.5, 1]], size=samples_per_class)\n",
    "positive_samples = np.random.multivariate_normal(mean=[3, 0], cov=[[1, .5], [.5, 1]], size=samples_per_class)\n",
    "\n",
    "inputs = np.vstack((negative_samples, positive_samples)).astype(np.float32)\n",
    "print(f\"{inputs.shape = }\")\n",
    "\n",
    "targets = np.vstack((\n",
    "    np.zeros((samples_per_class, 1), dtype=\"float32\"),\n",
    "    np.ones((samples_per_class, 1), dtype=\"float32\"),\n",
    "))\n",
    "\n",
    "print(f\"{targets.shape = }\")"
   ]
  },
  {
   "cell_type": "code",
   "execution_count": 30,
   "metadata": {},
   "outputs": [],
   "source": [
    "import matplotlib.pyplot as plt\n",
    "%matplotlib inline"
   ]
  },
  {
   "cell_type": "code",
   "execution_count": 31,
   "metadata": {},
   "outputs": [
    {
     "data": {
      "image/png": "[encoded data removed]",
      "text/plain": [
       "<Figure size 432x288 with 1 Axes>"
      ]
     },
     "metadata": {
      "needs_background": "light"
     },
     "output_type": "display_data"
    }
   ],
   "source": [
    "plt.scatter(inputs[:, 0], inputs[:, 1], c=targets[:, 0])\n",
    "plt.show()"
   ]
  },
  {
   "cell_type": "code",
   "execution_count": 32,
   "metadata": {},
   "outputs": [],
   "source": [
    "# lets train a linear classifier y = W @ inputs + b\n",
    "input_dim = 2\n",
    "output_dim = 1\n",
    "\n",
    "\n",
    "W = tf.Variable(initial_value=tf.random.uniform(shape=(input_dim, output_dim)))\n",
    "b = tf.Variable(initial_value=tf.zeros(shape=(output_dim, )))\n",
    "\n",
    "def model(inputs):\n",
    "    return tf.matmul(inputs, W) + b"
   ]
  },
  {
   "cell_type": "code",
   "execution_count": 33,
   "metadata": {},
   "outputs": [],
   "source": [
    "def square_loss(targets, predictions):\n",
    "    per_sample_losses = tf.square(targets - predictions)\n",
    "    return tf.reduce_mean(per_sample_losses)"
   ]
  },
  {
   "cell_type": "code",
   "execution_count": 35,
   "metadata": {},
   "outputs": [],
   "source": [
    "LR = .1\n",
    "\n",
    "def train_step(inputs, targets):\n",
    "    \"\"\"\"\"\"\n",
    "    # forward pass\n",
    "    with tf.GradientTape() as tape:\n",
    "        predictions = model(inputs)\n",
    "        loss = square_loss(targets, predictions)\n",
    "\n",
    "    # backwards\n",
    "    grad_wrt_W, grad_wrt_b = tape.gradient(loss, [W, b])\n",
    "    \n",
    "    # step\n",
    "    W.assign_sub(LR* grad_wrt_W)\n",
    "    b.assign_sub(LR* grad_wrt_b)\n",
    "\n",
    "    return loss\n",
    "\n",
    "    "
   ]
  },
  {
   "cell_type": "markdown",
   "metadata": {},
   "source": [
    "for simplicity, and since we have a small ds, we'll do GD instead og SGD"
   ]
  },
  {
   "cell_type": "code",
   "execution_count": 36,
   "metadata": {},
   "outputs": [
    {
     "name": "stdout",
     "output_type": "stream",
     "text": [
      "step = 0: loss = <tf.Tensor: shape=(), dtype=float32, numpy=1.1120797>\n",
      "step = 1: loss = <tf.Tensor: shape=(), dtype=float32, numpy=0.088712744>\n",
      "step = 2: loss = <tf.Tensor: shape=(), dtype=float32, numpy=0.08198974>\n",
      "step = 3: loss = <tf.Tensor: shape=(), dtype=float32, numpy=0.077011235>\n",
      "step = 4: loss = <tf.Tensor: shape=(), dtype=float32, numpy=0.07256667>\n",
      "step = 5: loss = <tf.Tensor: shape=(), dtype=float32, numpy=0.0685148>\n",
      "step = 6: loss = <tf.Tensor: shape=(), dtype=float32, numpy=0.064810574>\n",
      "step = 7: loss = <tf.Tensor: shape=(), dtype=float32, numpy=0.06142294>\n",
      "step = 8: loss = <tf.Tensor: shape=(), dtype=float32, numpy=0.058324654>\n",
      "step = 9: loss = <tf.Tensor: shape=(), dtype=float32, numpy=0.05549099>\n",
      "step = 10: loss = <tf.Tensor: shape=(), dtype=float32, numpy=0.052899368>\n",
      "step = 11: loss = <tf.Tensor: shape=(), dtype=float32, numpy=0.05052909>\n",
      "step = 12: loss = <tf.Tensor: shape=(), dtype=float32, numpy=0.04836125>\n",
      "step = 13: loss = <tf.Tensor: shape=(), dtype=float32, numpy=0.04637858>\n",
      "step = 14: loss = <tf.Tensor: shape=(), dtype=float32, numpy=0.04456524>\n",
      "step = 15: loss = <tf.Tensor: shape=(), dtype=float32, numpy=0.042906784>\n",
      "step = 16: loss = <tf.Tensor: shape=(), dtype=float32, numpy=0.04138998>\n",
      "step = 17: loss = <tf.Tensor: shape=(), dtype=float32, numpy=0.040002726>\n",
      "step = 18: loss = <tf.Tensor: shape=(), dtype=float32, numpy=0.038733955>\n",
      "step = 19: loss = <tf.Tensor: shape=(), dtype=float32, numpy=0.037573554>\n",
      "step = 20: loss = <tf.Tensor: shape=(), dtype=float32, numpy=0.036512263>\n",
      "step = 21: loss = <tf.Tensor: shape=(), dtype=float32, numpy=0.03554162>\n",
      "step = 22: loss = <tf.Tensor: shape=(), dtype=float32, numpy=0.034653876>\n",
      "step = 23: loss = <tf.Tensor: shape=(), dtype=float32, numpy=0.03384196>\n",
      "step = 24: loss = <tf.Tensor: shape=(), dtype=float32, numpy=0.03309938>\n",
      "step = 25: loss = <tf.Tensor: shape=(), dtype=float32, numpy=0.032420233>\n",
      "step = 26: loss = <tf.Tensor: shape=(), dtype=float32, numpy=0.031799093>\n",
      "step = 27: loss = <tf.Tensor: shape=(), dtype=float32, numpy=0.031231>\n",
      "step = 28: loss = <tf.Tensor: shape=(), dtype=float32, numpy=0.03071143>\n",
      "step = 29: loss = <tf.Tensor: shape=(), dtype=float32, numpy=0.030236237>\n",
      "step = 30: loss = <tf.Tensor: shape=(), dtype=float32, numpy=0.02980163>\n",
      "step = 31: loss = <tf.Tensor: shape=(), dtype=float32, numpy=0.029404147>\n",
      "step = 32: loss = <tf.Tensor: shape=(), dtype=float32, numpy=0.029040607>\n",
      "step = 33: loss = <tf.Tensor: shape=(), dtype=float32, numpy=0.02870812>\n",
      "step = 34: loss = <tf.Tensor: shape=(), dtype=float32, numpy=0.028404031>\n",
      "step = 35: loss = <tf.Tensor: shape=(), dtype=float32, numpy=0.028125914>\n",
      "step = 36: loss = <tf.Tensor: shape=(), dtype=float32, numpy=0.027871551>\n",
      "step = 37: loss = <tf.Tensor: shape=(), dtype=float32, numpy=0.027638914>\n",
      "step = 38: loss = <tf.Tensor: shape=(), dtype=float32, numpy=0.027426148>\n",
      "step = 39: loss = <tf.Tensor: shape=(), dtype=float32, numpy=0.027231552>\n"
     ]
    }
   ],
   "source": [
    "for step in range(40):\n",
    "    loss = train_step(inputs, targets)\n",
    "    print(f\"{step = }: {loss = }\")"
   ]
  },
  {
   "cell_type": "code",
   "execution_count": 39,
   "metadata": {},
   "outputs": [
    {
     "data": {
      "image/png": "[encoded data removed]",
      "text/plain": [
       "<Figure size 432x288 with 1 Axes>"
      ]
     },
     "metadata": {
      "needs_background": "light"
     },
     "output_type": "display_data"
    }
   ],
   "source": [
    "plt.figure()\n",
    "\n",
    "# plot data\n",
    "plt.scatter(inputs[:, 0], inputs[:, 1], c=targets[:, 0])\n",
    "\n",
    "# plot learned classifier\n",
    "x = np.linspace(-1, 4, 100)\n",
    "y = - W[0] / W[1] * x + (.5 - b) / W[1]\n",
    "\n",
    "plt.plot(x, y, '-r')\n",
    "plt.show()"
   ]
  },
  {
   "cell_type": "code",
   "execution_count": null,
   "metadata": {},
   "outputs": [],
   "source": []
  }
 ],
 "metadata": {
  "interpreter": {
   "hash": "916dbcbb3f70747c44a77c7bcd40155683ae19c65e1c03b4aa3499c5328201f1"
  },
  "kernelspec": {
   "display_name": "Python 3.8.10 64-bit",
   "language": "python",
   "name": "python3"
  },
  "language_info": {
   "codemirror_mode": {
    "name": "ipython",
    "version": 3
   },
   "file_extension": ".py",
   "mimetype": "text/x-python",
   "name": "python",
   "nbconvert_exporter": "python",
   "pygments_lexer": "ipython3",
   "version": "3.8.10"
  },
  "orig_nbformat": 4
 },
 "nbformat": 4,
 "nbformat_minor": 2
}
