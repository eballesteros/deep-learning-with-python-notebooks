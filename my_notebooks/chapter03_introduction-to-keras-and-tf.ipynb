{
 "cells": [
  {
   "cell_type": "markdown",
   "metadata": {},
   "source": [
    "## First Steps with TensorFlow"
   ]
  },
  {
   "cell_type": "markdown",
   "metadata": {},
   "source": [
    "### Contant tensors and variables"
   ]
  },
  {
   "cell_type": "code",
   "execution_count": 2,
   "metadata": {},
   "outputs": [],
   "source": [
    "import numpy as np\n",
    "import tensorflow as tf"
   ]
  },
  {
   "cell_type": "code",
   "execution_count": 3,
   "metadata": {},
   "outputs": [
    {
     "name": "stdout",
     "output_type": "stream",
     "text": [
      "x = array([[0., 1.],\n",
      "       [1., 1.]])\n"
     ]
    }
   ],
   "source": [
    "# np ndarrays are assignable\n",
    "x = np.ones(shape=(2, 2))\n",
    "x[0, 0] = 0.\n",
    "\n",
    "print(f\"{x = }\")"
   ]
  },
  {
   "cell_type": "code",
   "execution_count": 5,
   "metadata": {},
   "outputs": [
    {
     "ename": "TypeError",
     "evalue": "'tensorflow.python.framework.ops.EagerTensor' object does not support item assignment",
     "output_type": "error",
     "traceback": [
      "\u001b[0;31m---------------------------------------------------------------------------\u001b[0m",
      "\u001b[0;31mTypeError\u001b[0m                                 Traceback (most recent call last)",
      "\u001b[0;32m/tmp/ipykernel_483/2035685555.py\u001b[0m in \u001b[0;36m<module>\u001b[0;34m\u001b[0m\n\u001b[1;32m      1\u001b[0m \u001b[0;31m# tf tensors are not\u001b[0m\u001b[0;34m\u001b[0m\u001b[0;34m\u001b[0m\u001b[0;34m\u001b[0m\u001b[0m\n\u001b[1;32m      2\u001b[0m \u001b[0mx\u001b[0m \u001b[0;34m=\u001b[0m \u001b[0mtf\u001b[0m\u001b[0;34m.\u001b[0m\u001b[0mones\u001b[0m\u001b[0;34m(\u001b[0m\u001b[0mshape\u001b[0m\u001b[0;34m=\u001b[0m\u001b[0;34m(\u001b[0m\u001b[0;36m2\u001b[0m\u001b[0;34m,\u001b[0m \u001b[0;36m2\u001b[0m\u001b[0;34m)\u001b[0m\u001b[0;34m)\u001b[0m\u001b[0;34m\u001b[0m\u001b[0;34m\u001b[0m\u001b[0m\n\u001b[0;32m----> 3\u001b[0;31m \u001b[0mx\u001b[0m\u001b[0;34m[\u001b[0m\u001b[0;36m0\u001b[0m\u001b[0;34m,\u001b[0m \u001b[0;36m0\u001b[0m\u001b[0;34m]\u001b[0m \u001b[0;34m=\u001b[0m \u001b[0;36m0.\u001b[0m\u001b[0;34m\u001b[0m\u001b[0;34m\u001b[0m\u001b[0m\n\u001b[0m",
      "\u001b[0;31mTypeError\u001b[0m: 'tensorflow.python.framework.ops.EagerTensor' object does not support item assignment"
     ]
    }
   ],
   "source": [
    "# tf tensors are not\n",
    "x = tf.ones(shape=(2, 2))\n",
    "x[0, 0] = 0.\n"
   ]
  },
  {
   "cell_type": "code",
   "execution_count": 6,
   "metadata": {},
   "outputs": [
    {
     "name": "stdout",
     "output_type": "stream",
     "text": [
      "v = <tf.Variable 'Variable:0' shape=(2, 2) dtype=float32, numpy=\n",
      "array([[1., 1.],\n",
      "       [1., 1.]], dtype=float32)>\n"
     ]
    }
   ],
   "source": [
    "# use variables instead to manage state\n",
    "v = tf.Variable(initial_value=tf.ones(shape=(2, 2)))\n",
    "print(f\"{v = }\")"
   ]
  },
  {
   "cell_type": "code",
   "execution_count": 7,
   "metadata": {},
   "outputs": [
    {
     "name": "stdout",
     "output_type": "stream",
     "text": [
      "v = <tf.Variable 'Variable:0' shape=(2, 2) dtype=float32, numpy=\n",
      "array([[0., 0.],\n",
      "       [0., 0.]], dtype=float32)>\n"
     ]
    }
   ],
   "source": [
    "v.assign(tf.zeros(shape=(2, 2)))\n",
    "print(f\"{v = }\")"
   ]
  },
  {
   "cell_type": "code",
   "execution_count": 8,
   "metadata": {},
   "outputs": [
    {
     "name": "stdout",
     "output_type": "stream",
     "text": [
      "v = <tf.Variable 'Variable:0' shape=(2, 2) dtype=float32, numpy=\n",
      "array([[3., 0.],\n",
      "       [0., 0.]], dtype=float32)>\n"
     ]
    }
   ],
   "source": [
    "# also works in subset of coefficients\n",
    "v[0, 0].assign(3.)\n",
    "print(f\"{v = }\")"
   ]
  },
  {
   "cell_type": "markdown",
   "metadata": {},
   "source": [
    "you also have `assign_add()` and `addign_sub()`"
   ]
  },
  {
   "cell_type": "markdown",
   "metadata": {},
   "source": [
    "### Tensorflow operations"
   ]
  },
  {
   "cell_type": "code",
   "execution_count": 9,
   "metadata": {},
   "outputs": [
    {
     "name": "stdout",
     "output_type": "stream",
     "text": [
      "a = <tf.Tensor: shape=(2, 2), dtype=float32, numpy=\n",
      "array([[1., 1.],\n",
      "       [1., 1.]], dtype=float32)>\n",
      "b = <tf.Tensor: shape=(2, 2), dtype=float32, numpy=\n",
      "array([[1., 1.],\n",
      "       [1., 1.]], dtype=float32)>\n",
      "c = <tf.Tensor: shape=(2, 2), dtype=float32, numpy=\n",
      "array([[1., 1.],\n",
      "       [1., 1.]], dtype=float32)>\n",
      "d = <tf.Tensor: shape=(2, 2), dtype=float32, numpy=\n",
      "array([[2., 2.],\n",
      "       [2., 2.]], dtype=float32)>\n",
      "e = <tf.Tensor: shape=(2, 2), dtype=float32, numpy=\n",
      "array([[2., 2.],\n",
      "       [2., 2.]], dtype=float32)>\n",
      "e = <tf.Tensor: shape=(2, 2), dtype=float32, numpy=\n",
      "array([[4., 4.],\n",
      "       [4., 4.]], dtype=float32)>\n"
     ]
    }
   ],
   "source": [
    "a = tf.ones((2, 2))\n",
    "print(f\"{a = }\")\n",
    "\n",
    "b = tf.square(a)\n",
    "print(f\"{b = }\")\n",
    "\n",
    "c = tf.sqrt(a)\n",
    "print(f\"{c = }\")\n",
    "\n",
    "d = b + c\n",
    "print(f\"{d = }\")\n",
    "\n",
    "e = tf.matmul(a, b)\n",
    "print(f\"{e = }\")\n",
    "\n",
    "e *= d\n",
    "print(f\"{e = }\")\n"
   ]
  },
  {
   "cell_type": "markdown",
   "metadata": {},
   "source": [
    "### A second look at the GradientTape API"
   ]
  },
  {
   "cell_type": "code",
   "execution_count": 10,
   "metadata": {},
   "outputs": [
    {
     "name": "stdout",
     "output_type": "stream",
     "text": [
      "gradient = <tf.Tensor: shape=(), dtype=float32, numpy=6.0>\n"
     ]
    }
   ],
   "source": [
    "input_var = tf.Variable(initial_value=3.)\n",
    "\n",
    "with tf.GradientTape() as tape:\n",
    "    result = tf.square(input_var)\n",
    "\n",
    "gradient = tape.gradient(result, input_var)\n",
    "\n",
    "print(f\"{gradient = }\")"
   ]
  },
  {
   "cell_type": "code",
   "execution_count": 11,
   "metadata": {},
   "outputs": [
    {
     "name": "stdout",
     "output_type": "stream",
     "text": [
      "gradient = <tf.Tensor: shape=(), dtype=float32, numpy=6.0>\n"
     ]
    }
   ],
   "source": [
    "# only trainable variables are tracked by default, but you can specify any arbitrary tensor\n",
    "input_const = tf.constant(3.)\n",
    "\n",
    "with tf.GradientTape() as tape:\n",
    "    tape.watch(input_const)\n",
    "    result = tf.square(input_const)\n",
    "\n",
    "gradient = tape.gradient(result, input_const)\n",
    "\n",
    "print(f\"{gradient = }\")"
   ]
  },
  {
   "cell_type": "code",
   "execution_count": 12,
   "metadata": {},
   "outputs": [
    {
     "name": "stdout",
     "output_type": "stream",
     "text": [
      "speed = <tf.Tensor: shape=(), dtype=float32, numpy=0.0>\n",
      "acceleration = <tf.Tensor: shape=(), dtype=float32, numpy=9.8>\n"
     ]
    }
   ],
   "source": [
    "# you can nest to calculate higher-order derivative\n",
    "time = tf.Variable(0.)\n",
    "\n",
    "with tf.GradientTape() as outer_tape:\n",
    "    with tf.GradientTape() as inner_tape:\n",
    "        position = 4.9 * time ** 2\n",
    "    \n",
    "    speed = inner_tape.gradient(position, time)\n",
    "acceleration = outer_tape.gradient(speed, time)\n",
    "\n",
    "print(f\"{speed = }\")\n",
    "print(f\"{acceleration = }\")"
   ]
  },
  {
   "cell_type": "markdown",
   "metadata": {},
   "source": [
    "### End-to-end example: A linear classifier in pure TensorFlow"
   ]
  },
  {
   "cell_type": "markdown",
   "metadata": {},
   "source": [
    "#### generating 2 classes or ranfom points in 2D"
   ]
  },
  {
   "cell_type": "code",
   "execution_count": 13,
   "metadata": {},
   "outputs": [
    {
     "name": "stdout",
     "output_type": "stream",
     "text": [
      "inputs.shape = (2000, 2)\n",
      "targets.shape = (2000, 1)\n"
     ]
    }
   ],
   "source": [
    "samples_per_class = 1_000\n",
    "\n",
    "negative_samples = np.random.multivariate_normal(mean=[0, 3], cov=[[1, .5], [.5, 1]], size=samples_per_class)\n",
    "positive_samples = np.random.multivariate_normal(mean=[3, 0], cov=[[1, .5], [.5, 1]], size=samples_per_class)\n",
    "\n",
    "inputs = np.vstack((negative_samples, positive_samples)).astype(np.float32)\n",
    "print(f\"{inputs.shape = }\")\n",
    "\n",
    "targets = np.vstack((\n",
    "    np.zeros((samples_per_class, 1), dtype=\"float32\"),\n",
    "    np.ones((samples_per_class, 1), dtype=\"float32\"),\n",
    "))\n",
    "\n",
    "print(f\"{targets.shape = }\")"
   ]
  },
  {
   "cell_type": "code",
   "execution_count": 14,
   "metadata": {},
   "outputs": [],
   "source": [
    "import matplotlib.pyplot as plt\n",
    "%matplotlib inline"
   ]
  },
  {
   "cell_type": "code",
   "execution_count": 15,
   "metadata": {},
   "outputs": [
    {
     "data": {
      "image/png": "[encoded data removed]",
      "text/plain": [
       "<Figure size 432x288 with 1 Axes>"
      ]
     },
     "metadata": {
      "needs_background": "light"
     },
     "output_type": "display_data"
    }
   ],
   "source": [
    "plt.scatter(inputs[:, 0], inputs[:, 1], c=targets[:, 0])\n",
    "plt.show()"
   ]
  },
  {
   "cell_type": "code",
   "execution_count": 16,
   "metadata": {},
   "outputs": [],
   "source": [
    "# lets train a linear classifier y = W @ inputs + b\n",
    "input_dim = 2\n",
    "output_dim = 1\n",
    "\n",
    "\n",
    "W = tf.Variable(initial_value=tf.random.uniform(shape=(input_dim, output_dim)))\n",
    "b = tf.Variable(initial_value=tf.zeros(shape=(output_dim, )))\n",
    "\n",
    "def model(inputs):\n",
    "    return tf.matmul(inputs, W) + b"
   ]
  },
  {
   "cell_type": "code",
   "execution_count": 17,
   "metadata": {},
   "outputs": [],
   "source": [
    "def square_loss(targets, predictions):\n",
    "    per_sample_losses = tf.square(targets - predictions)\n",
    "    return tf.reduce_mean(per_sample_losses)"
   ]
  },
  {
   "cell_type": "code",
   "execution_count": 18,
   "metadata": {},
   "outputs": [],
   "source": [
    "LR = .1\n",
    "\n",
    "def train_step(inputs, targets):\n",
    "    \"\"\"\"\"\"\n",
    "    # forward pass\n",
    "    with tf.GradientTape() as tape:\n",
    "        predictions = model(inputs)\n",
    "        loss = square_loss(targets, predictions)\n",
    "\n",
    "    # backwards\n",
    "    grad_wrt_W, grad_wrt_b = tape.gradient(loss, [W, b])\n",
    "    \n",
    "    # step\n",
    "    W.assign_sub(LR* grad_wrt_W)\n",
    "    b.assign_sub(LR* grad_wrt_b)\n",
    "\n",
    "    return loss\n",
    "\n",
    "    "
   ]
  },
  {
   "cell_type": "markdown",
   "metadata": {},
   "source": [
    "for simplicity, and since we have a small ds, we'll do GD instead og SGD"
   ]
  },
  {
   "cell_type": "code",
   "execution_count": 19,
   "metadata": {},
   "outputs": [
    {
     "name": "stdout",
     "output_type": "stream",
     "text": [
      "step = 0: loss = <tf.Tensor: shape=(), dtype=float32, numpy=4.219779>\n",
      "step = 1: loss = <tf.Tensor: shape=(), dtype=float32, numpy=0.68534774>\n",
      "step = 2: loss = <tf.Tensor: shape=(), dtype=float32, numpy=0.22008789>\n",
      "step = 3: loss = <tf.Tensor: shape=(), dtype=float32, numpy=0.14508058>\n",
      "step = 4: loss = <tf.Tensor: shape=(), dtype=float32, numpy=0.12627606>\n",
      "step = 5: loss = <tf.Tensor: shape=(), dtype=float32, numpy=0.11617005>\n",
      "step = 6: loss = <tf.Tensor: shape=(), dtype=float32, numpy=0.10795253>\n",
      "step = 7: loss = <tf.Tensor: shape=(), dtype=float32, numpy=0.100598894>\n",
      "step = 8: loss = <tf.Tensor: shape=(), dtype=float32, numpy=0.0939113>\n",
      "step = 9: loss = <tf.Tensor: shape=(), dtype=float32, numpy=0.087813936>\n",
      "step = 10: loss = <tf.Tensor: shape=(), dtype=float32, numpy=0.0822525>\n",
      "step = 11: loss = <tf.Tensor: shape=(), dtype=float32, numpy=0.07717956>\n",
      "step = 12: loss = <tf.Tensor: shape=(), dtype=float32, numpy=0.07255218>\n",
      "step = 13: loss = <tf.Tensor: shape=(), dtype=float32, numpy=0.06833121>\n",
      "step = 14: loss = <tf.Tensor: shape=(), dtype=float32, numpy=0.064480975>\n",
      "step = 15: loss = <tf.Tensor: shape=(), dtype=float32, numpy=0.060968883>\n",
      "step = 16: loss = <tf.Tensor: shape=(), dtype=float32, numpy=0.05776526>\n",
      "step = 17: loss = <tf.Tensor: shape=(), dtype=float32, numpy=0.054842994>\n",
      "step = 18: loss = <tf.Tensor: shape=(), dtype=float32, numpy=0.052177392>\n",
      "step = 19: loss = <tf.Tensor: shape=(), dtype=float32, numpy=0.049745895>\n",
      "step = 20: loss = <tf.Tensor: shape=(), dtype=float32, numpy=0.04752796>\n",
      "step = 21: loss = <tf.Tensor: shape=(), dtype=float32, numpy=0.045504823>\n",
      "step = 22: loss = <tf.Tensor: shape=(), dtype=float32, numpy=0.04365937>\n",
      "step = 23: loss = <tf.Tensor: shape=(), dtype=float32, numpy=0.041976>\n",
      "step = 24: loss = <tf.Tensor: shape=(), dtype=float32, numpy=0.040440477>\n",
      "step = 25: loss = <tf.Tensor: shape=(), dtype=float32, numpy=0.03903982>\n",
      "step = 26: loss = <tf.Tensor: shape=(), dtype=float32, numpy=0.03776217>\n",
      "step = 27: loss = <tf.Tensor: shape=(), dtype=float32, numpy=0.03659674>\n",
      "step = 28: loss = <tf.Tensor: shape=(), dtype=float32, numpy=0.03553367>\n",
      "step = 29: loss = <tf.Tensor: shape=(), dtype=float32, numpy=0.034563962>\n",
      "step = 30: loss = <tf.Tensor: shape=(), dtype=float32, numpy=0.033679426>\n",
      "step = 31: loss = <tf.Tensor: shape=(), dtype=float32, numpy=0.03287257>\n",
      "step = 32: loss = <tf.Tensor: shape=(), dtype=float32, numpy=0.032136578>\n",
      "step = 33: loss = <tf.Tensor: shape=(), dtype=float32, numpy=0.031465232>\n",
      "step = 34: loss = <tf.Tensor: shape=(), dtype=float32, numpy=0.030852849>\n",
      "step = 35: loss = <tf.Tensor: shape=(), dtype=float32, numpy=0.030294247>\n",
      "step = 36: loss = <tf.Tensor: shape=(), dtype=float32, numpy=0.02978471>\n",
      "step = 37: loss = <tf.Tensor: shape=(), dtype=float32, numpy=0.02931992>\n",
      "step = 38: loss = <tf.Tensor: shape=(), dtype=float32, numpy=0.028895954>\n",
      "step = 39: loss = <tf.Tensor: shape=(), dtype=float32, numpy=0.028509224>\n"
     ]
    }
   ],
   "source": [
    "for step in range(40):\n",
    "    loss = train_step(inputs, targets)\n",
    "    print(f\"{step = }: {loss = }\")"
   ]
  },
  {
   "cell_type": "code",
   "execution_count": 33,
   "metadata": {},
   "outputs": [
    {
     "data": {
      "image/png": "[encoded data removed]",
      "text/plain": [
       "<Figure size 432x288 with 1 Axes>"
      ]
     },
     "metadata": {
      "needs_background": "light"
     },
     "output_type": "display_data"
    }
   ],
   "source": [
    "plt.figure()\n",
    "\n",
    "# plot data\n",
    "plt.scatter(inputs[:, 0], inputs[:, 1], c=targets[:, 0])\n",
    "\n",
    "# plot learned classifier\n",
    "x = np.linspace(-1, 4, 100)\n",
    "y = - W[0] / W[1] * x + (.5 - b) / W[1]\n",
    "\n",
    "plt.plot(x, y, '-r')\n",
    "plt.show()"
   ]
  },
  {
   "cell_type": "markdown",
   "metadata": {},
   "source": [
    "## The base layer class in Keras"
   ]
  },
  {
   "cell_type": "code",
   "execution_count": 22,
   "metadata": {},
   "outputs": [
    {
     "data": {
      "text/plain": [
       "<function keras.engine.base_layer.Layer.add_weight(self, name=None, shape=None, dtype=None, initializer=None, regularizer=None, trainable=None, constraint=None, use_resource=None, synchronization=<VariableSynchronization.AUTO: 0>, aggregation=<VariableAggregationV2.NONE: 0>, **kwargs)>"
      ]
     },
     "execution_count": 22,
     "metadata": {},
     "output_type": "execute_result"
    }
   ],
   "source": [
    "tf.keras.layers.Layer.add_weight"
   ]
  },
  {
   "cell_type": "code",
   "execution_count": null,
   "metadata": {},
   "outputs": [],
   "source": [
    "# dense layer implementation as keras.layers.Layer subclass\n",
    "\n",
    "class SimpleDense(tf.keras.layers.Layer):\n",
    "    def __init__(self, units, activation=None):\n",
    "        self.units = units\n",
    "        self.activation = activation\n",
    "\n",
    "    def build(self, input_shape): # input_shape: shape of first input seen by layer\n",
    "        input_dim = input_shape[-1]\n",
    "\n",
    "        self.W = self.add_weights(shape=(input_dim, self.units), initializer='random_uniform')\n",
    "\n",
    "\n",
    "    def call(self, inputs):\n",
    "        pass\n",
    "# init params (units, activation=None)"
   ]
  },
  {
   "cell_type": "code",
   "execution_count": null,
   "metadata": {},
   "outputs": [],
   "source": [
    "# dense layer implementation as keras.layers.Layer subclass\n",
    "\n",
    "class SimpleDense(tf.keras.layers.Layer):\n",
    "    def __init__(self, units, activation=None):\n",
    "        self.units = units\n",
    "        self.activation = activation\n",
    "\n",
    "    def build(self, input_shape): # input_shape: shape of first input seen by layer\n",
    "        input_dim = input_shape[-1]\n",
    "\n",
    "        self.W = self.add_weights(shape=(input_dim, self.units), initializer='random_uniform')\n",
    "\n",
    "\n",
    "    def call(self, inputs):\n",
    "        pass\n",
    "# init params (units, activation=None)"
   ]
  },
  {
   "cell_type": "code",
   "execution_count": 31,
   "metadata": {},
   "outputs": [],
   "source": [
    "# dense layer implementation as keras.layers.Layer subclass\n",
    "\n",
    "class SimpleDense(tf.keras.layers.Layer):\n",
    "    def __init__(self, units, activation=None):\n",
    "        super().__init__()\n",
    "        self.units = units\n",
    "        self.activation = activation\n",
    "\n",
    "    def build(self, input_shape): # input_shape: shape of first input seen by layer\n",
    "        input_dim = input_shape[-1]\n",
    "\n",
    "        self.W = self.add_weight(shape=(input_dim, self.units), initializer='random_normal')\n",
    "        self.b = self.add_weight(shape=(self.units, ), initializer='zeros')\n",
    "\n",
    "\n",
    "    def call(self, inputs):\n",
    "        y = tf.matmul(inputs, self.W) + self.b\n",
    "\n",
    "        if self.activation is not None:\n",
    "            y = self.activation(y)\n",
    "\n",
    "        return y\n"
   ]
  },
  {
   "cell_type": "code",
   "execution_count": 32,
   "metadata": {},
   "outputs": [],
   "source": [
    "simple_dense = SimpleDense(32, activation=tf.keras.activations.softmax)\n",
    "\n",
    "random_input = tf.random.uniform(shape=(4, 64))\n",
    "y = simple_dense(random_input)\n",
    "\n",
    "assert y.shape == (4, 32)"
   ]
  },
  {
   "cell_type": "code",
   "execution_count": 34,
   "metadata": {},
   "outputs": [],
   "source": [
    "## Classify the 2D points with keras"
   ]
  },
  {
   "cell_type": "code",
   "execution_count": 36,
   "metadata": {},
   "outputs": [],
   "source": [
    "from tensorflow import keras"
   ]
  },
  {
   "cell_type": "code",
   "execution_count": 51,
   "metadata": {},
   "outputs": [],
   "source": [
    "model = keras.models.Sequential([SimpleDense(1)])"
   ]
  },
  {
   "cell_type": "code",
   "execution_count": 52,
   "metadata": {},
   "outputs": [],
   "source": [
    "model.compile(\n",
    "    optimizer='rmsprop', \n",
    "    loss='binary_crossentropy',\n",
    "    metrics=['accuracy'], \n",
    ")"
   ]
  },
  {
   "cell_type": "code",
   "execution_count": 53,
   "metadata": {},
   "outputs": [],
   "source": [
    "indices_permutations = np.random.permutation(len(targets))\n",
    "\n",
    "shuffled_inputs = inputs[indices_permutations]\n",
    "shuffled_targets = targets[indices_permutations]"
   ]
  },
  {
   "cell_type": "code",
   "execution_count": 54,
   "metadata": {},
   "outputs": [],
   "source": [
    "n_validation_samples = int(.3 * len(targets))\n",
    "\n",
    "train_inputs = shuffled_inputs[n_validation_samples:]\n",
    "train_targets = shuffled_targets[n_validation_samples:]\n",
    "valid_inputs = shuffled_inputs[:n_validation_samples]\n",
    "valid_targets = shuffled_targets[:n_validation_samples]\n",
    "\n",
    "assert len(valid_targets) == n_validation_samples"
   ]
  },
  {
   "cell_type": "code",
   "execution_count": 55,
   "metadata": {},
   "outputs": [
    {
     "name": "stdout",
     "output_type": "stream",
     "text": [
      "Epoch 1/5\n",
      "88/88 [==============================] - 4s 29ms/step - loss: 7.7664 - accuracy: 0.4857 - val_loss: 4.8065 - val_accuracy: 0.5333\n",
      "Epoch 2/5\n",
      "88/88 [==============================] - 1s 11ms/step - loss: 1.8895 - accuracy: 0.4857 - val_loss: 0.8524 - val_accuracy: 0.5333\n",
      "Epoch 3/5\n",
      "88/88 [==============================] - 1s 11ms/step - loss: 0.6604 - accuracy: 0.5121 - val_loss: 0.3922 - val_accuracy: 0.6867\n",
      "Epoch 4/5\n",
      "88/88 [==============================] - 1s 12ms/step - loss: 0.2885 - accuracy: 0.8529 - val_loss: 0.1506 - val_accuracy: 0.9783\n",
      "Epoch 5/5\n",
      "88/88 [==============================] - 1s 11ms/step - loss: 0.1018 - accuracy: 0.9821 - val_loss: 0.0516 - val_accuracy: 0.9950\n"
     ]
    }
   ],
   "source": [
    "history = model.fit(\n",
    "    train_inputs,\n",
    "    train_targets,\n",
    "    epochs=5,\n",
    "    batch_size=16,\n",
    "    validation_data=(valid_inputs, valid_targets),\n",
    ")"
   ]
  },
  {
   "cell_type": "code",
   "execution_count": 56,
   "metadata": {},
   "outputs": [
    {
     "data": {
      "text/plain": [
       "{'loss': [7.766387939453125,\n",
       "  1.8895339965820312,\n",
       "  0.66041499376297,\n",
       "  0.2884885370731354,\n",
       "  0.10178489983081818],\n",
       " 'accuracy': [0.48571428656578064,\n",
       "  0.48571428656578064,\n",
       "  0.5121428370475769,\n",
       "  0.8528571724891663,\n",
       "  0.9821428656578064],\n",
       " 'val_loss': [4.80648136138916,\n",
       "  0.8523696660995483,\n",
       "  0.3921537399291992,\n",
       "  0.15060272812843323,\n",
       "  0.05156012997031212],\n",
       " 'val_accuracy': [0.5333333611488342,\n",
       "  0.5333333611488342,\n",
       "  0.6866666674613953,\n",
       "  0.9783333539962769,\n",
       "  0.9950000047683716]}"
      ]
     },
     "execution_count": 56,
     "metadata": {},
     "output_type": "execute_result"
    }
   ],
   "source": [
    "history.history"
   ]
  },
  {
   "cell_type": "code",
   "execution_count": 57,
   "metadata": {},
   "outputs": [
    {
     "name": "stdout",
     "output_type": "stream",
     "text": [
      "5/5 [==============================] - 0s 10ms/step - loss: 0.0516 - accuracy: 0.9950\n"
     ]
    }
   ],
   "source": [
    "loss_and_metrics = model.evaluate(valid_inputs, valid_targets, batch_size=128)"
   ]
  },
  {
   "cell_type": "code",
   "execution_count": 58,
   "metadata": {},
   "outputs": [
    {
     "data": {
      "text/plain": [
       "[0.05156012997031212, 0.9950000047683716]"
      ]
     },
     "execution_count": 58,
     "metadata": {},
     "output_type": "execute_result"
    }
   ],
   "source": [
    "loss_and_metrics"
   ]
  },
  {
   "cell_type": "markdown",
   "metadata": {},
   "source": [
    "### inference "
   ]
  },
  {
   "cell_type": "code",
   "execution_count": 59,
   "metadata": {},
   "outputs": [],
   "source": [
    "# predict on entire ds\n",
    "predictions = model(valid_inputs)"
   ]
  },
  {
   "cell_type": "code",
   "execution_count": 60,
   "metadata": {},
   "outputs": [],
   "source": [
    "# if the ds was too big to fit in memory:\n",
    "predictions = model.predict(valid_inputs, batch_size=128)"
   ]
  }
 ],
 "metadata": {
  "interpreter": {
   "hash": "916dbcbb3f70747c44a77c7bcd40155683ae19c65e1c03b4aa3499c5328201f1"
  },
  "kernelspec": {
   "display_name": "Python 3.8.10 64-bit",
   "language": "python",
   "name": "python3"
  },
  "language_info": {
   "codemirror_mode": {
    "name": "ipython",
    "version": 3
   },
   "file_extension": ".py",
   "mimetype": "text/x-python",
   "name": "python",
   "nbconvert_exporter": "python",
   "pygments_lexer": "ipython3",
   "version": "3.8.10"
  },
  "orig_nbformat": 4
 },
 "nbformat": 4,
 "nbformat_minor": 2
}
