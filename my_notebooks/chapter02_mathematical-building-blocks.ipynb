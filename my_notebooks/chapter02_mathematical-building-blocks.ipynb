{
 "cells": [
  {
   "cell_type": "markdown",
   "metadata": {},
   "source": [
    "# The Mathematical building blocks of NNs"
   ]
  },
  {
   "cell_type": "markdown",
   "metadata": {},
   "source": [
    "## Imports"
   ]
  },
  {
   "cell_type": "code",
   "execution_count": 4,
   "metadata": {},
   "outputs": [
    {
     "name": "stdout",
     "output_type": "stream",
     "text": [
      "2.6.3\n"
     ]
    }
   ],
   "source": [
    "import tensorflow as tf\n",
    "print(tf.__version__)"
   ]
  },
  {
   "cell_type": "code",
   "execution_count": 5,
   "metadata": {},
   "outputs": [],
   "source": [
    "import numpy as np\n",
    "\n",
    "from tensorflow.keras.datasets import mnist\n",
    "from tensorflow import keras\n",
    "from tensorflow.keras import  layers\n",
    "\n",
    "import matplotlib.pyplot as plt\n",
    "%matplotlib inline"
   ]
  },
  {
   "cell_type": "markdown",
   "metadata": {},
   "source": [
    "## A first look at a NN"
   ]
  },
  {
   "cell_type": "code",
   "execution_count": 3,
   "metadata": {},
   "outputs": [],
   "source": [
    "(train_images, train_labels), (test_images, test_labels) = mnist.load_data() "
   ]
  },
  {
   "cell_type": "code",
   "execution_count": 9,
   "metadata": {},
   "outputs": [
    {
     "name": "stdout",
     "output_type": "stream",
     "text": [
      "type(train_images) = <class 'numpy.ndarray'>\n",
      "train_images.shape = (60000, 28, 28)\n",
      "type(train_labels) = <class 'numpy.ndarray'>\n",
      "train_labels.shape = (60000,)\n",
      "train_labels = array([5, 0, 4, ..., 5, 6, 8], dtype=uint8)\n",
      "\n",
      "type(test_images) = <class 'numpy.ndarray'>\n",
      "test_images.shape = (10000, 28, 28)\n",
      "type(test_labels) = <class 'numpy.ndarray'>\n",
      "test_labels.shape = (10000,)\n",
      "test_labels = array([7, 2, 1, ..., 4, 5, 6], dtype=uint8)\n"
     ]
    }
   ],
   "source": [
    "print(f\"{type(train_images) = }\")\n",
    "print(f\"{train_images.shape = }\")\n",
    "print(f\"{type(train_labels) = }\")\n",
    "print(f\"{train_labels.shape = }\")\n",
    "print(f\"{train_labels = }\")\n",
    "print(\"\")\n",
    "print(f\"{type(test_images) = }\")\n",
    "print(f\"{test_images.shape = }\")\n",
    "print(f\"{type(test_labels) = }\")\n",
    "print(f\"{test_labels.shape = }\")\n",
    "print(f\"{test_labels = }\")"
   ]
  },
  {
   "cell_type": "code",
   "execution_count": 7,
   "metadata": {},
   "outputs": [],
   "source": [
    "# define NN\n",
    "model = keras.Sequential(\n",
    "    [\n",
    "        layers.Dense(512, activation=\"relu\"),\n",
    "        layers.Dense(10, activation=\"softmax\"),\n",
    "    ]\n",
    ")"
   ]
  },
  {
   "cell_type": "code",
   "execution_count": 12,
   "metadata": {},
   "outputs": [],
   "source": [
    "# compile\n",
    "model.compile(\n",
    "    optimizer=\"rmsprop\",\n",
    "    loss=\"sparse_categorical_crossentropy\",\n",
    "    metrics=[\"accuracy\"]\n",
    ")"
   ]
  },
  {
   "cell_type": "code",
   "execution_count": 10,
   "metadata": {},
   "outputs": [],
   "source": [
    "#prep\n",
    "train_images = train_images.reshape((-1, 28 * 28))\n",
    "train_images = train_images.astype(\"float32\") / 255\n",
    "\n",
    "test_images = test_images.reshape((-1, 28 * 28))\n",
    "test_images = test_images.astype(\"float32\") / 255\n"
   ]
  },
  {
   "cell_type": "code",
   "execution_count": 13,
   "metadata": {},
   "outputs": [
    {
     "name": "stdout",
     "output_type": "stream",
     "text": [
      "Epoch 1/5\n",
      "469/469 [==============================] - 5s 9ms/step - loss: 0.2526 - accuracy: 0.9271\n",
      "Epoch 2/5\n",
      "469/469 [==============================] - 3s 7ms/step - loss: 0.1026 - accuracy: 0.9688\n",
      "Epoch 3/5\n",
      "469/469 [==============================] - 3s 7ms/step - loss: 0.0667 - accuracy: 0.9797\n",
      "Epoch 4/5\n",
      "469/469 [==============================] - 3s 7ms/step - loss: 0.0481 - accuracy: 0.9851\n",
      "Epoch 5/5\n",
      "469/469 [==============================] - 4s 8ms/step - loss: 0.0367 - accuracy: 0.9887\n"
     ]
    },
    {
     "data": {
      "text/plain": [
       "<keras.callbacks.History at 0x7fb4647f2c40>"
      ]
     },
     "execution_count": 13,
     "metadata": {},
     "output_type": "execute_result"
    }
   ],
   "source": [
    "model.fit(train_images, train_labels, epochs=5, batch_size=128)"
   ]
  },
  {
   "cell_type": "code",
   "execution_count": 17,
   "metadata": {},
   "outputs": [],
   "source": [
    "test_digits = test_images[0:8]\n",
    "predictions = model.predict(test_digits)"
   ]
  },
  {
   "cell_type": "code",
   "execution_count": 22,
   "metadata": {},
   "outputs": [],
   "source": [
    "predicted_clss = predictions.argmax(-1)"
   ]
  },
  {
   "cell_type": "code",
   "execution_count": 34,
   "metadata": {},
   "outputs": [
    {
     "data": {
      "image/png": "[encoded data removed]",
      "text/plain": [
       "<Figure size 864x576 with 8 Axes>"
      ]
     },
     "metadata": {
      "needs_background": "light"
     },
     "output_type": "display_data"
    }
   ],
   "source": [
    "fig = plt.figure(figsize=(12, 8))\n",
    "\n",
    "for i in range(8):\n",
    "    img = test_digits[i]\n",
    "    pred = predicted_clss[i]\n",
    "\n",
    "    ax = fig.add_subplot(2, 4, i + 1)\n",
    "    ax.imshow(img.reshape(28,28))\n",
    "    ax.title.set_text(f\"{pred = }\")\n",
    "    ax.set_axis_off()\n",
    "\n",
    "plt.show()"
   ]
  },
  {
   "cell_type": "code",
   "execution_count": 46,
   "metadata": {},
   "outputs": [
    {
     "name": "stdout",
     "output_type": "stream",
     "text": [
      "313/313 [==============================] - 1s 3ms/step - loss: 0.0689 - accuracy: 0.9785\n",
      "test_acc = 0.9785\n"
     ]
    }
   ],
   "source": [
    "test_loss, test_acc = model.evaluate(test_images, test_labels)\n",
    "print(f\"{test_acc = :.4f}\")"
   ]
  },
  {
   "cell_type": "markdown",
   "metadata": {},
   "source": [
    "## Chaining derivates: The backprop algorithm"
   ]
  },
  {
   "cell_type": "code",
   "execution_count": 5,
   "metadata": {},
   "outputs": [
    {
     "name": "stdout",
     "output_type": "stream",
     "text": [
      "grad_of_y_wrt_x = <tf.Tensor: shape=(), dtype=float32, numpy=2.0>\n"
     ]
    }
   ],
   "source": [
    "x = tf.Variable(0.)\n",
    "\n",
    "with tf.GradientTape() as tape:\n",
    "    y = 2 * x + 3\n",
    "\n",
    "grad_of_y_wrt_x = tape.gradient(y, x)\n",
    "print(f\"{grad_of_y_wrt_x = }\")"
   ]
  },
  {
   "cell_type": "code",
   "execution_count": 6,
   "metadata": {},
   "outputs": [
    {
     "name": "stdout",
     "output_type": "stream",
     "text": [
      "grad_of_y_wrt_x = <tf.Tensor: shape=(2, 2), dtype=float32, numpy=\n",
      "array([[2., 2.],\n",
      "       [2., 2.]], dtype=float32)>\n"
     ]
    }
   ],
   "source": [
    "x = tf.Variable(tf.random.uniform((2, 2)))\n",
    "\n",
    "with tf.GradientTape() as tape:\n",
    "    y = 2 * x + 3\n",
    "\n",
    "grad_of_y_wrt_x = tape.gradient(y, x)\n",
    "print(f\"{grad_of_y_wrt_x = }\")"
   ]
  },
  {
   "cell_type": "code",
   "execution_count": 9,
   "metadata": {},
   "outputs": [
    {
     "name": "stdout",
     "output_type": "stream",
     "text": [
      "grad_of_y_wrt_W_and_b = [<tf.Tensor: shape=(2, 2), dtype=float32, numpy=\n",
      "array([[0.3804127, 0.3804127],\n",
      "       [1.2618934, 1.2618934]], dtype=float32)>, <tf.Tensor: shape=(2,), dtype=float32, numpy=array([2., 2.], dtype=float32)>]\n"
     ]
    }
   ],
   "source": [
    "W = tf.Variable(tf.random.uniform((2, 2)))\n",
    "b = tf.Variable(tf.zeros((2,)))\n",
    "x = tf.random.uniform((2, 2))\n",
    "\n",
    "\n",
    "with tf.GradientTape() as tape:\n",
    "    y = tf.matmul(x, W) + b\n",
    "\n",
    "grad_of_y_wrt_W_and_b = tape.gradient(y, [W, b])\n",
    "print(f\"{grad_of_y_wrt_W_and_b = }\")"
   ]
  },
  {
   "cell_type": "markdown",
   "metadata": {},
   "source": [
    "## Reimplementing out first example from scratch in TF"
   ]
  },
  {
   "cell_type": "code",
   "execution_count": 6,
   "metadata": {},
   "outputs": [],
   "source": [
    "# output = activation( dot(input, W) + b)\n",
    "\n",
    "class NaiveDense:\n",
    "    def __init__(self, input_size, output_size, activation):\n",
    "        self.activation = activation\n",
    "\n",
    "        w_shape = (input_size, output_size)\n",
    "        w_initial_value = tf.random.uniform(w_shape, minval=0, maxval=1e-1)\n",
    "        self.W = tf.Variable(w_initial_value)\n",
    "\n",
    "        b_shape = (output_size,)\n",
    "        b_initial_value = tf.zeros(b_shape)\n",
    "        self.b = tf.Variable(b_initial_value)\n",
    "\n",
    "    def __call__(self, inputs):\n",
    "        return self.activation(tf.matmul(inputs, self.W) + self.b)\n",
    "\n",
    "    @property\n",
    "    def weights(self):\n",
    "        return [self.W, self.b]"
   ]
  },
  {
   "cell_type": "code",
   "execution_count": 7,
   "metadata": {},
   "outputs": [],
   "source": [
    "def test_naive_dense():\n",
    "    l = NaiveDense(10, 20, tf.nn.relu)\n",
    "\n",
    "    random_input = tf.random.uniform((128, 10))\n",
    "\n",
    "    l_out = l(random_input)\n",
    "\n",
    "    w, b = l.weights\n",
    "    expected_output = tf.maximum(random_input @ w + b, 0)\n",
    "\n",
    "    assert (l_out == expected_output).numpy().all()\n",
    "\n",
    "test_naive_dense()"
   ]
  },
  {
   "cell_type": "code",
   "execution_count": 8,
   "metadata": {},
   "outputs": [],
   "source": [
    "class NaiveSequential:\n",
    "    def __init__(self, layers):\n",
    "        self.layers = layers\n",
    "\n",
    "    def __call__(self, inputs):\n",
    "        x = inputs\n",
    "        for layer in self.layers:\n",
    "            x = layer(x)\n",
    "        return x\n",
    "\n",
    "    @property\n",
    "    def weights(self):\n",
    "        return [w for layer in self.layers for w in layer.weights]"
   ]
  },
  {
   "cell_type": "code",
   "execution_count": 9,
   "metadata": {},
   "outputs": [],
   "source": [
    "def test_naive_sequential():\n",
    "    ls = NaiveSequential(\n",
    "        [\n",
    "            NaiveDense(10, 20, tf.nn.relu),\n",
    "            NaiveDense(20, 5, tf.nn.relu),\n",
    "        ]\n",
    "    )\n",
    "\n",
    "    random_input = tf.random.uniform((128, 10))\n",
    "\n",
    "    ls_out = ls(random_input)\n",
    "\n",
    "    w1, b1, w2, b2 = ls.weights\n",
    "\n",
    "    x1 = tf.maximum(random_input @ w1 + b1, 0)\n",
    "    expected_output = tf.maximum(x1 @ w2 + b2, 0)\n",
    "\n",
    "    assert (ls_out == expected_output).numpy().all()\n",
    "\n",
    "test_naive_sequential()"
   ]
  },
  {
   "cell_type": "code",
   "execution_count": 10,
   "metadata": {},
   "outputs": [],
   "source": [
    "def get_batch_generator(images, labels, batch_size=128):\n",
    "        assert len(images) == len(labels)\n",
    "\n",
    "        for index in range(0, len(images), batch_size):\n",
    "            batch_images = images[index: index + batch_size]\n",
    "            batch_labels = labels[index: index + batch_size]\n",
    "            yield batch_images, batch_labels\n"
   ]
  },
  {
   "cell_type": "code",
   "execution_count": 11,
   "metadata": {},
   "outputs": [
    {
     "name": "stdout",
     "output_type": "stream",
     "text": [
      "batch_i = array([0, 1, 2])\n",
      "batch_l = array([0, 1, 2])\n",
      "\n",
      "batch_i = array([3, 4, 5])\n",
      "batch_l = array([3, 4, 5])\n",
      "\n",
      "batch_i = array([6, 7, 8])\n",
      "batch_l = array([6, 7, 8])\n",
      "\n",
      "batch_i = array([ 9, 10])\n",
      "batch_l = array([ 9, 10])\n",
      "\n"
     ]
    }
   ],
   "source": [
    "def test_batch_generator():\n",
    "    batch_gen = get_batch_generator(np.arange(11), np.arange(11), batch_size=3)\n",
    "\n",
    "    for batch_i, batch_l in batch_gen:\n",
    "        print(f\"{batch_i = }\")\n",
    "        print(f\"{batch_l = }\")\n",
    "        print(\"\")\n",
    "\n",
    "test_batch_generator()"
   ]
  },
  {
   "cell_type": "code",
   "execution_count": 12,
   "metadata": {},
   "outputs": [],
   "source": [
    "LR = 1e-3\n",
    "\n",
    "def update_weights(gradients, weights):\n",
    "    \"\"\"plain SGD step\"\"\"\n",
    "    for g, w in zip(gradients, weights):\n",
    "        w.assign_sub(g * LR)"
   ]
  },
  {
   "cell_type": "code",
   "execution_count": 21,
   "metadata": {},
   "outputs": [],
   "source": [
    "def test_update_weights():\n",
    "    # get random model\n",
    "    model = NaiveSequential(\n",
    "        [\n",
    "            NaiveDense(10, 20, tf.nn.relu),\n",
    "            NaiveDense(20, 5, tf.nn.relu),\n",
    "        ]\n",
    "    )\n",
    "\n",
    "    # get random input and targets\n",
    "    random_input = tf.random.uniform((128, 10))\n",
    "    random_target = tf.random.uniform((128, 5))\n",
    "    loss_f = tf.keras.losses.mean_squared_error\n",
    "\n",
    "    # forward pass and compute gradients\n",
    "    with tf.GradientTape() as tape:\n",
    "        predictions = model(random_input)\n",
    "        per_sample_losses = loss_f(random_target, predictions)\n",
    "        average_loss = tf.reduce_mean(per_sample_losses)\n",
    "\n",
    "    gradients = tape.gradient(average_loss, model.weights)\n",
    "\n",
    "    # optimizer step\n",
    "    update_weights(gradients, model.weights)\n",
    "\n",
    "    # check loss improves\n",
    "    new_predictions = model(random_input)\n",
    "    new_per_sample_losses = loss_f(random_target, new_predictions)\n",
    "    new_average_loss = tf.reduce_mean(new_per_sample_losses)\n",
    "\n",
    "    assert new_average_loss < average_loss\n",
    "\n",
    "\n",
    "test_update_weights()"
   ]
  },
  {
   "cell_type": "code",
   "execution_count": 22,
   "metadata": {},
   "outputs": [],
   "source": [
    "def training_step(model, batch_images, batch_labels, loss_f):\n",
    "    # forward pass and compute gradients\n",
    "    with tf.GradientTape() as tape:\n",
    "        predictions = model(batch_images)\n",
    "        per_sample_losses = loss_f(batch_labels, predictions)\n",
    "        average_loss = tf.reduce_mean(per_sample_losses)\n",
    "\n",
    "    gradients = tape.gradient(average_loss, model.weights)\n",
    "    update_weights(gradients, model.weights)\n",
    "\n",
    "    return average_loss"
   ]
  },
  {
   "cell_type": "code",
   "execution_count": 23,
   "metadata": {},
   "outputs": [],
   "source": [
    "def test_training_step():\n",
    "    # get random model\n",
    "    model = NaiveSequential(\n",
    "        [\n",
    "            NaiveDense(10, 20, tf.nn.relu),\n",
    "            NaiveDense(20, 5, tf.nn.relu),\n",
    "        ]\n",
    "    )\n",
    "\n",
    "    # get random input and targets\n",
    "    random_input = tf.random.uniform((128, 10))\n",
    "    random_target = tf.random.uniform((128, 5))\n",
    "    loss_f = tf.keras.losses.mean_squared_error\n",
    "\n",
    "    # training step\n",
    "    loss = training_step(model, random_input, random_target, loss_f)\n",
    "    for _ in range(10):\n",
    "        new_loss = training_step(model, random_input, random_target, loss_f)\n",
    "\n",
    "        # check loss improves\n",
    "        assert new_loss < loss\n",
    "\n",
    "\n",
    "test_training_step()   "
   ]
  },
  {
   "cell_type": "code",
   "execution_count": 28,
   "metadata": {},
   "outputs": [],
   "source": [
    "def fit(model, images, labels, *, epochs, loss_f, batch_size=128):\n",
    "    for epoch in range(epochs):\n",
    "        print(f\"{epoch = }\")\n",
    "        batch_generator = get_batch_generator(images, labels)\n",
    "\n",
    "        for batch_i, (batch_images, batch_labels) in enumerate(batch_generator):\n",
    "            loss = training_step(model, batch_images, batch_labels, loss_f)\n",
    "\n",
    "            if batch_i % 100 == 0:\n",
    "                print(f\"\\t{batch_i = }: {loss.numpy() = }\")"
   ]
  },
  {
   "cell_type": "code",
   "execution_count": 29,
   "metadata": {},
   "outputs": [],
   "source": [
    "# get data\n",
    "(train_images, train_labels), (test_images, test_labels) = mnist.load_data() \n",
    "\n",
    "#prep\n",
    "train_images = train_images.reshape((-1, 28 * 28))\n",
    "train_images = train_images.astype(\"float32\") / 255\n",
    "\n",
    "test_images = test_images.reshape((-1, 28 * 28))\n",
    "test_images = test_images.astype(\"float32\") / 255\n",
    "\n",
    "# get model\n",
    "model = NaiveSequential(\n",
    "    [\n",
    "        NaiveDense(28 * 28, 512, activation=tf.nn.relu),\n",
    "        NaiveDense(512, 10, activation=tf.nn.softmax),\n",
    "    ]\n",
    ")\n"
   ]
  },
  {
   "cell_type": "code",
   "execution_count": 30,
   "metadata": {},
   "outputs": [
    {
     "name": "stdout",
     "output_type": "stream",
     "text": [
      "epoch = 0\n",
      "\tbatch_i = 0: loss.numpy() = 4.4671254\n",
      "\tbatch_i = 100: loss.numpy() = 2.2328553\n",
      "\tbatch_i = 200: loss.numpy() = 2.2252636\n",
      "\tbatch_i = 300: loss.numpy() = 2.107552\n",
      "\tbatch_i = 400: loss.numpy() = 2.210085\n",
      "epoch = 1\n",
      "\tbatch_i = 0: loss.numpy() = 1.9298022\n",
      "\tbatch_i = 100: loss.numpy() = 1.8736537\n",
      "\tbatch_i = 200: loss.numpy() = 1.8420581\n",
      "\tbatch_i = 300: loss.numpy() = 1.7289224\n",
      "\tbatch_i = 400: loss.numpy() = 1.8202466\n",
      "epoch = 2\n",
      "\tbatch_i = 0: loss.numpy() = 1.6024339\n",
      "\tbatch_i = 100: loss.numpy() = 1.5763326\n",
      "\tbatch_i = 200: loss.numpy() = 1.5169283\n",
      "\tbatch_i = 300: loss.numpy() = 1.4394305\n",
      "\tbatch_i = 400: loss.numpy() = 1.5089933\n",
      "epoch = 3\n",
      "\tbatch_i = 0: loss.numpy() = 1.3403506\n",
      "\tbatch_i = 100: loss.numpy() = 1.3415992\n",
      "\tbatch_i = 200: loss.numpy() = 1.2544831\n",
      "\tbatch_i = 300: loss.numpy() = 1.2256455\n",
      "\tbatch_i = 400: loss.numpy() = 1.2820411\n",
      "epoch = 4\n",
      "\tbatch_i = 0: loss.numpy() = 1.1394812\n",
      "\tbatch_i = 100: loss.numpy() = 1.1605272\n",
      "\tbatch_i = 200: loss.numpy() = 1.0601858\n",
      "\tbatch_i = 300: loss.numpy() = 1.0655044\n",
      "\tbatch_i = 400: loss.numpy() = 1.119645\n"
     ]
    }
   ],
   "source": [
    "# train\n",
    "fit(model, train_images, train_labels, epochs=5, loss_f=tf.losses.sparse_categorical_crossentropy)"
   ]
  },
  {
   "cell_type": "code",
   "execution_count": 31,
   "metadata": {},
   "outputs": [
    {
     "name": "stdout",
     "output_type": "stream",
     "text": [
      "accuracy = 0.7624\n"
     ]
    }
   ],
   "source": [
    "# evaluate our naive model\n",
    "\n",
    "predictions = model(test_images)\n",
    "predicted_labels = np.argmax(predictions.numpy(), axis=1)\n",
    "\n",
    "accuracy = (predicted_labels == test_labels).mean()\n",
    "print(f\"{accuracy = }\")"
   ]
  },
  {
   "cell_type": "code",
   "execution_count": null,
   "metadata": {},
   "outputs": [],
   "source": []
  }
 ],
 "metadata": {
  "interpreter": {
   "hash": "d4d1e4263499bec80672ea0156c357c1ee493ec2b1c70f0acce89fc37c4a6abe"
  },
  "kernelspec": {
   "display_name": "Python 3.8.8 ('base')",
   "language": "python",
   "name": "python3"
  },
  "language_info": {
   "codemirror_mode": {
    "name": "ipython",
    "version": 3
   },
   "file_extension": ".py",
   "mimetype": "text/x-python",
   "name": "python",
   "nbconvert_exporter": "python",
   "pygments_lexer": "ipython3",
   "version": "3.8.8"
  },
  "orig_nbformat": 4
 },
 "nbformat": 4,
 "nbformat_minor": 2
}
