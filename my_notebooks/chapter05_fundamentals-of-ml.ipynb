{
 "cells": [
  {
   "cell_type": "markdown",
   "metadata": {},
   "source": [
    "# Fundamentals of ML"
   ]
  },
  {
   "cell_type": "code",
   "execution_count": 9,
   "metadata": {},
   "outputs": [
    {
     "name": "stdout",
     "output_type": "stream",
     "text": [
      "tf.__version__ = '2.6.1'\n"
     ]
    }
   ],
   "source": [
    "import numpy as np\n",
    "\n",
    "import tensorflow as tf\n",
    "from tensorflow import keras\n",
    "from tensorflow.keras import layers\n",
    "\n",
    "print(f\"{tf.__version__ = }\")"
   ]
  },
  {
   "cell_type": "markdown",
   "metadata": {},
   "source": [
    "## Spurious correlations"
   ]
  },
  {
   "cell_type": "markdown",
   "metadata": {},
   "source": [
    "Lets train on mnist twice, once adding random noise, once adding zeros"
   ]
  },
  {
   "cell_type": "code",
   "execution_count": 6,
   "metadata": {},
   "outputs": [
    {
     "name": "stdout",
     "output_type": "stream",
     "text": [
      "train_images.shape = (60000, 784)\n"
     ]
    }
   ],
   "source": [
    "from tensorflow.keras.datasets import mnist\n",
    "\n",
    "# load\n",
    "(train_images, train_labels), _ = mnist.load_data()\n",
    "\n",
    "# simple prep\n",
    "train_images = train_images.reshape((-1, 28 * 28)).astype(\"float32\") / 255\n",
    "print(f\"{train_images.shape = }\")"
   ]
  },
  {
   "cell_type": "code",
   "execution_count": 8,
   "metadata": {},
   "outputs": [
    {
     "name": "stdout",
     "output_type": "stream",
     "text": [
      "train_images_w_zeros.shape = (60000, 1568)\n",
      "train_images_w_noise.shape = (60000, 1568)\n"
     ]
    }
   ],
   "source": [
    "noise = np.random.random((len(train_images), 784))\n",
    "zeros = np.zeros_like(noise)\n",
    "\n",
    "train_images_w_zeros = np.concatenate((train_images, zeros), axis=1)\n",
    "train_images_w_noise = np.concatenate((train_images, noise), axis=1)\n",
    "\n",
    "print(f\"{train_images_w_zeros.shape = }\")\n",
    "print(f\"{train_images_w_noise.shape = }\")"
   ]
  },
  {
   "cell_type": "code",
   "execution_count": 12,
   "metadata": {},
   "outputs": [],
   "source": [
    "def get_model():\n",
    "    model = keras.Sequential(\n",
    "        [\n",
    "            layers.Dense(512, activation=\"relu\"),\n",
    "            layers.Dense(10, activation=\"softmax\"),\n",
    "        ]\n",
    "    )\n",
    "\n",
    "    model.compile(optimizer=\"rmsprop\", loss=\"sparse_categorical_crossentropy\", metrics=[\"accuracy\"])\n",
    "\n",
    "    return model"
   ]
  },
  {
   "cell_type": "code",
   "execution_count": 16,
   "metadata": {},
   "outputs": [
    {
     "name": "stdout",
     "output_type": "stream",
     "text": [
      "Epoch 1/30\n",
      "375/375 [==============================] - 2s 4ms/step - loss: 0.6420 - accuracy: 0.8105 - val_loss: 0.2603 - val_accuracy: 0.9194\n",
      "Epoch 2/30\n",
      "375/375 [==============================] - 1s 3ms/step - loss: 0.2531 - accuracy: 0.9216 - val_loss: 0.1875 - val_accuracy: 0.9463\n",
      "Epoch 3/30\n",
      "375/375 [==============================] - 1s 3ms/step - loss: 0.1633 - accuracy: 0.9492 - val_loss: 0.1598 - val_accuracy: 0.9505\n",
      "Epoch 4/30\n",
      "375/375 [==============================] - 1s 3ms/step - loss: 0.1146 - accuracy: 0.9644 - val_loss: 0.1364 - val_accuracy: 0.9588\n",
      "Epoch 5/30\n",
      "375/375 [==============================] - 1s 3ms/step - loss: 0.0851 - accuracy: 0.9730 - val_loss: 0.1290 - val_accuracy: 0.9625\n",
      "Epoch 6/30\n",
      "375/375 [==============================] - 1s 3ms/step - loss: 0.0625 - accuracy: 0.9798 - val_loss: 0.1264 - val_accuracy: 0.9653\n",
      "Epoch 7/30\n",
      "375/375 [==============================] - 1s 3ms/step - loss: 0.0460 - accuracy: 0.9856 - val_loss: 0.1265 - val_accuracy: 0.9691\n",
      "Epoch 8/30\n",
      "375/375 [==============================] - 1s 3ms/step - loss: 0.0355 - accuracy: 0.9881 - val_loss: 0.1354 - val_accuracy: 0.9643\n",
      "Epoch 9/30\n",
      "375/375 [==============================] - 1s 3ms/step - loss: 0.0274 - accuracy: 0.9910 - val_loss: 0.1346 - val_accuracy: 0.9663\n",
      "Epoch 10/30\n",
      "375/375 [==============================] - 1s 3ms/step - loss: 0.0218 - accuracy: 0.9928 - val_loss: 0.1363 - val_accuracy: 0.9703\n",
      "Epoch 11/30\n",
      "375/375 [==============================] - 1s 3ms/step - loss: 0.0177 - accuracy: 0.9943 - val_loss: 0.1322 - val_accuracy: 0.9716\n",
      "Epoch 12/30\n",
      "375/375 [==============================] - 1s 3ms/step - loss: 0.0135 - accuracy: 0.9960 - val_loss: 0.1734 - val_accuracy: 0.9631\n",
      "Epoch 13/30\n",
      "375/375 [==============================] - 1s 3ms/step - loss: 0.0128 - accuracy: 0.9954 - val_loss: 0.3221 - val_accuracy: 0.9370\n",
      "Epoch 14/30\n",
      "375/375 [==============================] - 1s 3ms/step - loss: 0.0120 - accuracy: 0.9963 - val_loss: 0.1595 - val_accuracy: 0.9688\n",
      "Epoch 15/30\n",
      "375/375 [==============================] - 1s 3ms/step - loss: 0.0100 - accuracy: 0.9969 - val_loss: 0.1611 - val_accuracy: 0.9699\n",
      "Epoch 16/30\n",
      "375/375 [==============================] - 1s 3ms/step - loss: 0.0098 - accuracy: 0.9969 - val_loss: 0.1681 - val_accuracy: 0.9712\n",
      "Epoch 17/30\n",
      "375/375 [==============================] - 1s 3ms/step - loss: 0.0119 - accuracy: 0.9965 - val_loss: 0.1962 - val_accuracy: 0.9689\n",
      "Epoch 18/30\n",
      "375/375 [==============================] - 1s 3ms/step - loss: 0.0071 - accuracy: 0.9977 - val_loss: 0.2436 - val_accuracy: 0.9585\n",
      "Epoch 19/30\n",
      "375/375 [==============================] - 1s 3ms/step - loss: 0.0075 - accuracy: 0.9979 - val_loss: 0.1926 - val_accuracy: 0.9703\n",
      "Epoch 20/30\n",
      "375/375 [==============================] - 1s 3ms/step - loss: 0.0069 - accuracy: 0.9977 - val_loss: 0.1961 - val_accuracy: 0.9717\n",
      "Epoch 21/30\n",
      "375/375 [==============================] - 1s 3ms/step - loss: 0.0060 - accuracy: 0.9978 - val_loss: 0.2281 - val_accuracy: 0.9677\n",
      "Epoch 22/30\n",
      "375/375 [==============================] - 1s 4ms/step - loss: 0.0063 - accuracy: 0.9980 - val_loss: 0.2014 - val_accuracy: 0.9717\n",
      "Epoch 23/30\n",
      "375/375 [==============================] - 1s 3ms/step - loss: 0.0058 - accuracy: 0.9984 - val_loss: 0.2093 - val_accuracy: 0.9716\n",
      "Epoch 24/30\n",
      "375/375 [==============================] - 1s 3ms/step - loss: 0.0056 - accuracy: 0.9985 - val_loss: 0.2347 - val_accuracy: 0.9684\n",
      "Epoch 25/30\n",
      "375/375 [==============================] - 1s 3ms/step - loss: 0.0045 - accuracy: 0.9984 - val_loss: 0.2163 - val_accuracy: 0.9718\n",
      "Epoch 26/30\n",
      "375/375 [==============================] - 1s 3ms/step - loss: 0.0060 - accuracy: 0.9982 - val_loss: 0.2276 - val_accuracy: 0.9704\n",
      "Epoch 27/30\n",
      "375/375 [==============================] - 1s 3ms/step - loss: 0.0044 - accuracy: 0.9985 - val_loss: 0.2441 - val_accuracy: 0.9684\n",
      "Epoch 28/30\n",
      "375/375 [==============================] - 1s 3ms/step - loss: 0.0051 - accuracy: 0.9984 - val_loss: 0.2460 - val_accuracy: 0.9693\n",
      "Epoch 29/30\n",
      "375/375 [==============================] - 1s 3ms/step - loss: 0.0065 - accuracy: 0.9985 - val_loss: 0.2487 - val_accuracy: 0.9698\n",
      "Epoch 30/30\n",
      "375/375 [==============================] - 1s 3ms/step - loss: 0.0048 - accuracy: 0.9986 - val_loss: 0.2452 - val_accuracy: 0.9711\n",
      "Epoch 1/30\n",
      "375/375 [==============================] - 2s 4ms/step - loss: 0.2887 - accuracy: 0.9164 - val_loss: 0.1476 - val_accuracy: 0.9580\n",
      "Epoch 2/30\n",
      "375/375 [==============================] - 1s 3ms/step - loss: 0.1183 - accuracy: 0.9656 - val_loss: 0.1077 - val_accuracy: 0.9692\n",
      "Epoch 3/30\n",
      "375/375 [==============================] - 1s 3ms/step - loss: 0.0773 - accuracy: 0.9765 - val_loss: 0.0952 - val_accuracy: 0.9722\n",
      "Epoch 4/30\n",
      "375/375 [==============================] - 1s 3ms/step - loss: 0.0556 - accuracy: 0.9837 - val_loss: 0.0787 - val_accuracy: 0.9757\n",
      "Epoch 5/30\n",
      "375/375 [==============================] - 1s 3ms/step - loss: 0.0413 - accuracy: 0.9879 - val_loss: 0.0782 - val_accuracy: 0.9778\n",
      "Epoch 6/30\n",
      "375/375 [==============================] - 1s 3ms/step - loss: 0.0307 - accuracy: 0.9909 - val_loss: 0.0781 - val_accuracy: 0.9785\n",
      "Epoch 7/30\n",
      "375/375 [==============================] - 1s 3ms/step - loss: 0.0236 - accuracy: 0.9931 - val_loss: 0.0803 - val_accuracy: 0.9775\n",
      "Epoch 8/30\n",
      "375/375 [==============================] - 1s 3ms/step - loss: 0.0181 - accuracy: 0.9947 - val_loss: 0.0825 - val_accuracy: 0.9784\n",
      "Epoch 9/30\n",
      "375/375 [==============================] - 1s 3ms/step - loss: 0.0139 - accuracy: 0.9961 - val_loss: 0.0841 - val_accuracy: 0.9805\n",
      "Epoch 10/30\n",
      "375/375 [==============================] - 1s 3ms/step - loss: 0.0105 - accuracy: 0.9971 - val_loss: 0.0814 - val_accuracy: 0.9806\n",
      "Epoch 11/30\n",
      "375/375 [==============================] - 1s 3ms/step - loss: 0.0078 - accuracy: 0.9979 - val_loss: 0.0843 - val_accuracy: 0.9804\n",
      "Epoch 12/30\n",
      "375/375 [==============================] - 1s 3ms/step - loss: 0.0059 - accuracy: 0.9985 - val_loss: 0.0868 - val_accuracy: 0.9808\n",
      "Epoch 13/30\n",
      "375/375 [==============================] - 1s 3ms/step - loss: 0.0046 - accuracy: 0.9987 - val_loss: 0.1051 - val_accuracy: 0.9772\n",
      "Epoch 14/30\n",
      "375/375 [==============================] - 1s 3ms/step - loss: 0.0036 - accuracy: 0.9990 - val_loss: 0.1043 - val_accuracy: 0.9787\n",
      "Epoch 15/30\n",
      "375/375 [==============================] - 1s 3ms/step - loss: 0.0027 - accuracy: 0.9993 - val_loss: 0.0971 - val_accuracy: 0.9813\n",
      "Epoch 16/30\n",
      "375/375 [==============================] - 1s 3ms/step - loss: 0.0019 - accuracy: 0.9995 - val_loss: 0.1033 - val_accuracy: 0.9808\n",
      "Epoch 17/30\n",
      "375/375 [==============================] - 1s 3ms/step - loss: 0.0015 - accuracy: 0.9996 - val_loss: 0.1041 - val_accuracy: 0.9811\n",
      "Epoch 18/30\n",
      "375/375 [==============================] - 1s 3ms/step - loss: 0.0012 - accuracy: 0.9998 - val_loss: 0.1133 - val_accuracy: 0.9810\n",
      "Epoch 19/30\n",
      "375/375 [==============================] - 1s 3ms/step - loss: 9.4014e-04 - accuracy: 0.9998 - val_loss: 0.1076 - val_accuracy: 0.9820\n",
      "Epoch 20/30\n",
      "375/375 [==============================] - 1s 3ms/step - loss: 8.3932e-04 - accuracy: 0.9998 - val_loss: 0.1146 - val_accuracy: 0.9806\n",
      "Epoch 21/30\n",
      "375/375 [==============================] - 1s 3ms/step - loss: 6.2299e-04 - accuracy: 0.9998 - val_loss: 0.1370 - val_accuracy: 0.9787\n",
      "Epoch 22/30\n",
      "375/375 [==============================] - 1s 3ms/step - loss: 4.5351e-04 - accuracy: 0.9999 - val_loss: 0.1279 - val_accuracy: 0.9812\n",
      "Epoch 23/30\n",
      "375/375 [==============================] - 1s 3ms/step - loss: 4.8983e-04 - accuracy: 0.9998 - val_loss: 0.1443 - val_accuracy: 0.9788\n",
      "Epoch 24/30\n",
      "375/375 [==============================] - 1s 3ms/step - loss: 3.1200e-04 - accuracy: 1.0000 - val_loss: 0.1327 - val_accuracy: 0.9803\n",
      "Epoch 25/30\n",
      "375/375 [==============================] - 1s 3ms/step - loss: 2.2377e-04 - accuracy: 0.9999 - val_loss: 0.1383 - val_accuracy: 0.9817\n",
      "Epoch 26/30\n",
      "375/375 [==============================] - 1s 3ms/step - loss: 2.3345e-04 - accuracy: 1.0000 - val_loss: 0.1331 - val_accuracy: 0.9819\n",
      "Epoch 27/30\n",
      "375/375 [==============================] - 1s 3ms/step - loss: 1.9309e-04 - accuracy: 0.9999 - val_loss: 0.1558 - val_accuracy: 0.9792\n",
      "Epoch 28/30\n",
      "375/375 [==============================] - 1s 3ms/step - loss: 1.5253e-04 - accuracy: 0.9999 - val_loss: 0.1451 - val_accuracy: 0.9815\n",
      "Epoch 29/30\n",
      "375/375 [==============================] - 1s 3ms/step - loss: 9.8785e-05 - accuracy: 1.0000 - val_loss: 0.1472 - val_accuracy: 0.9811\n",
      "Epoch 30/30\n",
      "375/375 [==============================] - 1s 3ms/step - loss: 6.3277e-05 - accuracy: 1.0000 - val_loss: 0.1424 - val_accuracy: 0.9828\n"
     ]
    }
   ],
   "source": [
    "model = get_model()\n",
    "history_noise = model.fit(train_images_w_noise, train_labels, epochs=30, batch_size=128, validation_split=.2)\n",
    "\n",
    "model = get_model()\n",
    "history_zeros = model.fit(train_images_w_zeros, train_labels, epochs=30, batch_size=128, validation_split=.2)"
   ]
  },
  {
   "cell_type": "code",
   "execution_count": 17,
   "metadata": {},
   "outputs": [
    {
     "data": {
      "image/png": "[encoded data removed]",
      "text/plain": [
       "<Figure size 432x288 with 1 Axes>"
      ]
     },
     "metadata": {
      "needs_background": "light"
     },
     "output_type": "display_data"
    }
   ],
   "source": [
    "import matplotlib.pyplot as plt\n",
    "%matplotlib inline\n",
    "\n",
    "plt.figure()\n",
    "epoch_range = range(1, 31)\n",
    "\n",
    "plt.plot(epoch_range, history_noise.history['accuracy'], 'r-', label=\"train accuracy (noise)\")\n",
    "plt.plot(epoch_range, history_noise.history['val_accuracy'], 'b-', label=\"val accuracy (noise)\")\n",
    "plt.plot(epoch_range, history_zeros.history['accuracy'], 'r--', label=\"train accuracy (zeros)\")\n",
    "plt.plot(epoch_range, history_zeros.history['val_accuracy'], 'b--', label=\"train accuracy (zeros)\")\n",
    "\n",
    "plt.legend()\n",
    "plt.show()"
   ]
  },
  {
   "cell_type": "markdown",
   "metadata": {},
   "source": [
    "## Fiting a model on random data"
   ]
  },
  {
   "cell_type": "code",
   "execution_count": 21,
   "metadata": {},
   "outputs": [
    {
     "name": "stdout",
     "output_type": "stream",
     "text": [
      "Epoch 1/100\n",
      "375/375 [==============================] - 1s 3ms/step - loss: 2.3162 - accuracy: 0.1028 - val_loss: 2.3055 - val_accuracy: 0.1066\n",
      "Epoch 2/100\n",
      "375/375 [==============================] - 1s 3ms/step - loss: 2.2999 - accuracy: 0.1160 - val_loss: 2.3141 - val_accuracy: 0.1073\n",
      "Epoch 3/100\n",
      "375/375 [==============================] - 1s 3ms/step - loss: 2.2913 - accuracy: 0.1288 - val_loss: 2.3220 - val_accuracy: 0.1041\n",
      "Epoch 4/100\n",
      "375/375 [==============================] - 1s 3ms/step - loss: 2.2782 - accuracy: 0.1346 - val_loss: 2.3223 - val_accuracy: 0.1074\n",
      "Epoch 5/100\n",
      "375/375 [==============================] - 1s 3ms/step - loss: 2.2609 - accuracy: 0.1515 - val_loss: 2.3384 - val_accuracy: 0.1058\n",
      "Epoch 6/100\n",
      "375/375 [==============================] - 1s 3ms/step - loss: 2.2406 - accuracy: 0.1663 - val_loss: 2.3480 - val_accuracy: 0.1045\n",
      "Epoch 7/100\n",
      "375/375 [==============================] - 1s 3ms/step - loss: 2.2165 - accuracy: 0.1813 - val_loss: 2.3604 - val_accuracy: 0.1062\n",
      "Epoch 8/100\n",
      "375/375 [==============================] - 1s 3ms/step - loss: 2.1888 - accuracy: 0.1982 - val_loss: 2.3774 - val_accuracy: 0.1013\n",
      "Epoch 9/100\n",
      "375/375 [==============================] - 1s 3ms/step - loss: 2.1584 - accuracy: 0.2148 - val_loss: 2.4036 - val_accuracy: 0.1037\n",
      "Epoch 10/100\n",
      "375/375 [==============================] - 1s 3ms/step - loss: 2.1281 - accuracy: 0.2291 - val_loss: 2.4186 - val_accuracy: 0.1013\n",
      "Epoch 11/100\n",
      "375/375 [==============================] - 1s 3ms/step - loss: 2.0945 - accuracy: 0.2442 - val_loss: 2.4467 - val_accuracy: 0.1018\n",
      "Epoch 12/100\n",
      "375/375 [==============================] - 1s 3ms/step - loss: 2.0617 - accuracy: 0.2610 - val_loss: 2.4849 - val_accuracy: 0.0975\n",
      "Epoch 13/100\n",
      "375/375 [==============================] - 1s 3ms/step - loss: 2.0272 - accuracy: 0.2785 - val_loss: 2.5019 - val_accuracy: 0.0995\n",
      "Epoch 14/100\n",
      "375/375 [==============================] - 1s 3ms/step - loss: 1.9936 - accuracy: 0.2905 - val_loss: 2.5344 - val_accuracy: 0.0988\n",
      "Epoch 15/100\n",
      "375/375 [==============================] - 1s 3ms/step - loss: 1.9599 - accuracy: 0.3043 - val_loss: 2.5738 - val_accuracy: 0.1021\n",
      "Epoch 16/100\n",
      "375/375 [==============================] - 1s 3ms/step - loss: 1.9248 - accuracy: 0.3212 - val_loss: 2.6146 - val_accuracy: 0.0975\n",
      "Epoch 17/100\n",
      "375/375 [==============================] - 1s 3ms/step - loss: 1.8916 - accuracy: 0.3338 - val_loss: 2.6192 - val_accuracy: 0.0975\n",
      "Epoch 18/100\n",
      "375/375 [==============================] - 1s 3ms/step - loss: 1.8591 - accuracy: 0.3452 - val_loss: 2.6589 - val_accuracy: 0.0996\n",
      "Epoch 19/100\n",
      "375/375 [==============================] - 1s 3ms/step - loss: 1.8259 - accuracy: 0.3603 - val_loss: 2.7252 - val_accuracy: 0.0987\n",
      "Epoch 20/100\n",
      "375/375 [==============================] - 1s 3ms/step - loss: 1.7942 - accuracy: 0.3702 - val_loss: 2.7328 - val_accuracy: 0.1007\n",
      "Epoch 21/100\n",
      "375/375 [==============================] - 1s 3ms/step - loss: 1.7630 - accuracy: 0.3842 - val_loss: 2.7752 - val_accuracy: 0.0989\n",
      "Epoch 22/100\n",
      "375/375 [==============================] - 1s 3ms/step - loss: 1.7318 - accuracy: 0.3964 - val_loss: 2.8197 - val_accuracy: 0.0983\n",
      "Epoch 23/100\n",
      "375/375 [==============================] - 1s 3ms/step - loss: 1.7012 - accuracy: 0.4083 - val_loss: 2.8680 - val_accuracy: 0.0967\n",
      "Epoch 24/100\n",
      "375/375 [==============================] - 1s 3ms/step - loss: 1.6738 - accuracy: 0.4190 - val_loss: 2.9056 - val_accuracy: 0.0994\n",
      "Epoch 25/100\n",
      "375/375 [==============================] - 1s 3ms/step - loss: 1.6436 - accuracy: 0.4314 - val_loss: 2.9350 - val_accuracy: 0.1030\n",
      "Epoch 26/100\n",
      "375/375 [==============================] - 1s 3ms/step - loss: 1.6141 - accuracy: 0.4431 - val_loss: 2.9842 - val_accuracy: 0.0997\n",
      "Epoch 27/100\n",
      "375/375 [==============================] - 1s 3ms/step - loss: 1.5856 - accuracy: 0.4521 - val_loss: 3.0213 - val_accuracy: 0.0977\n",
      "Epoch 28/100\n",
      "375/375 [==============================] - 1s 3ms/step - loss: 1.5589 - accuracy: 0.4640 - val_loss: 3.0622 - val_accuracy: 0.0991\n",
      "Epoch 29/100\n",
      "375/375 [==============================] - 1s 3ms/step - loss: 1.5326 - accuracy: 0.4728 - val_loss: 3.1234 - val_accuracy: 0.0988\n",
      "Epoch 30/100\n",
      "375/375 [==============================] - 1s 3ms/step - loss: 1.5078 - accuracy: 0.4807 - val_loss: 3.1540 - val_accuracy: 0.0981\n",
      "Epoch 31/100\n",
      "375/375 [==============================] - 1s 3ms/step - loss: 1.4825 - accuracy: 0.4915 - val_loss: 3.1999 - val_accuracy: 0.1012\n",
      "Epoch 32/100\n",
      "375/375 [==============================] - 1s 3ms/step - loss: 1.4572 - accuracy: 0.5035 - val_loss: 3.2478 - val_accuracy: 0.0999\n",
      "Epoch 33/100\n",
      "375/375 [==============================] - 1s 3ms/step - loss: 1.4328 - accuracy: 0.5110 - val_loss: 3.2800 - val_accuracy: 0.1015\n",
      "Epoch 34/100\n",
      "375/375 [==============================] - 1s 3ms/step - loss: 1.4087 - accuracy: 0.5189 - val_loss: 3.3481 - val_accuracy: 0.1032\n",
      "Epoch 35/100\n",
      "375/375 [==============================] - 1s 3ms/step - loss: 1.3874 - accuracy: 0.5266 - val_loss: 3.3937 - val_accuracy: 0.1000\n",
      "Epoch 36/100\n",
      "375/375 [==============================] - 1s 3ms/step - loss: 1.3635 - accuracy: 0.5351 - val_loss: 3.4208 - val_accuracy: 0.1029\n",
      "Epoch 37/100\n",
      "375/375 [==============================] - 1s 3ms/step - loss: 1.3412 - accuracy: 0.5438 - val_loss: 3.4869 - val_accuracy: 0.1018\n",
      "Epoch 38/100\n",
      "375/375 [==============================] - 1s 3ms/step - loss: 1.3212 - accuracy: 0.5515 - val_loss: 3.5349 - val_accuracy: 0.1015\n",
      "Epoch 39/100\n",
      "375/375 [==============================] - 1s 3ms/step - loss: 1.3008 - accuracy: 0.5573 - val_loss: 3.5964 - val_accuracy: 0.0993\n",
      "Epoch 40/100\n",
      "375/375 [==============================] - 1s 3ms/step - loss: 1.2805 - accuracy: 0.5650 - val_loss: 3.6278 - val_accuracy: 0.1008\n",
      "Epoch 41/100\n",
      "375/375 [==============================] - 1s 3ms/step - loss: 1.2616 - accuracy: 0.5707 - val_loss: 3.6680 - val_accuracy: 0.1030\n",
      "Epoch 42/100\n",
      "375/375 [==============================] - 1s 3ms/step - loss: 1.2392 - accuracy: 0.5801 - val_loss: 3.7520 - val_accuracy: 0.1016\n",
      "Epoch 43/100\n",
      "375/375 [==============================] - 1s 3ms/step - loss: 1.2220 - accuracy: 0.5843 - val_loss: 3.8098 - val_accuracy: 0.0997\n",
      "Epoch 44/100\n",
      "375/375 [==============================] - 1s 3ms/step - loss: 1.2014 - accuracy: 0.5946 - val_loss: 3.8366 - val_accuracy: 0.0997\n",
      "Epoch 45/100\n",
      "375/375 [==============================] - 1s 3ms/step - loss: 1.1822 - accuracy: 0.6015 - val_loss: 3.9077 - val_accuracy: 0.1007\n",
      "Epoch 46/100\n",
      "375/375 [==============================] - 1s 3ms/step - loss: 1.1633 - accuracy: 0.6072 - val_loss: 3.9232 - val_accuracy: 0.1029\n",
      "Epoch 47/100\n",
      "375/375 [==============================] - 1s 3ms/step - loss: 1.1462 - accuracy: 0.6134 - val_loss: 3.9900 - val_accuracy: 0.1010\n",
      "Epoch 48/100\n",
      "375/375 [==============================] - 1s 3ms/step - loss: 1.1293 - accuracy: 0.6178 - val_loss: 4.0649 - val_accuracy: 0.0995\n",
      "Epoch 49/100\n",
      "375/375 [==============================] - 1s 3ms/step - loss: 1.1125 - accuracy: 0.6250 - val_loss: 4.1300 - val_accuracy: 0.1003\n",
      "Epoch 50/100\n",
      "375/375 [==============================] - 1s 3ms/step - loss: 1.0955 - accuracy: 0.6312 - val_loss: 4.1420 - val_accuracy: 0.1012\n",
      "Epoch 51/100\n",
      "375/375 [==============================] - 1s 3ms/step - loss: 1.0787 - accuracy: 0.6400 - val_loss: 4.1760 - val_accuracy: 0.1004\n",
      "Epoch 52/100\n",
      "375/375 [==============================] - 1s 3ms/step - loss: 1.0625 - accuracy: 0.6422 - val_loss: 4.2724 - val_accuracy: 0.0971\n",
      "Epoch 53/100\n",
      "375/375 [==============================] - 1s 3ms/step - loss: 1.0475 - accuracy: 0.6490 - val_loss: 4.3539 - val_accuracy: 0.1007\n",
      "Epoch 54/100\n",
      "375/375 [==============================] - 1s 3ms/step - loss: 1.0316 - accuracy: 0.6536 - val_loss: 4.3982 - val_accuracy: 0.1029\n",
      "Epoch 55/100\n",
      "375/375 [==============================] - 1s 3ms/step - loss: 1.0161 - accuracy: 0.6606 - val_loss: 4.4463 - val_accuracy: 0.1004\n",
      "Epoch 56/100\n",
      "375/375 [==============================] - 1s 3ms/step - loss: 1.0042 - accuracy: 0.6640 - val_loss: 4.5163 - val_accuracy: 0.1000\n",
      "Epoch 57/100\n",
      "375/375 [==============================] - 1s 3ms/step - loss: 0.9864 - accuracy: 0.6724 - val_loss: 4.5447 - val_accuracy: 0.0993\n",
      "Epoch 58/100\n",
      "375/375 [==============================] - 1s 3ms/step - loss: 0.9725 - accuracy: 0.6764 - val_loss: 4.6037 - val_accuracy: 0.1030\n",
      "Epoch 59/100\n",
      "375/375 [==============================] - 1s 3ms/step - loss: 0.9575 - accuracy: 0.6812 - val_loss: 4.6351 - val_accuracy: 0.0975\n",
      "Epoch 60/100\n",
      "375/375 [==============================] - 1s 3ms/step - loss: 0.9443 - accuracy: 0.6863 - val_loss: 4.7584 - val_accuracy: 0.1017\n",
      "Epoch 61/100\n",
      "375/375 [==============================] - 1s 3ms/step - loss: 0.9274 - accuracy: 0.6931 - val_loss: 4.7695 - val_accuracy: 0.0971\n",
      "Epoch 62/100\n",
      "375/375 [==============================] - 1s 3ms/step - loss: 0.9165 - accuracy: 0.6932 - val_loss: 4.8322 - val_accuracy: 0.1024\n",
      "Epoch 63/100\n",
      "375/375 [==============================] - 1s 3ms/step - loss: 0.9034 - accuracy: 0.6995 - val_loss: 4.8959 - val_accuracy: 0.0972\n",
      "Epoch 64/100\n",
      "375/375 [==============================] - 1s 3ms/step - loss: 0.8894 - accuracy: 0.7072 - val_loss: 4.9196 - val_accuracy: 0.1028\n",
      "Epoch 65/100\n",
      "375/375 [==============================] - 1s 3ms/step - loss: 0.8774 - accuracy: 0.7101 - val_loss: 5.0187 - val_accuracy: 0.0982\n",
      "Epoch 66/100\n",
      "375/375 [==============================] - 1s 3ms/step - loss: 0.8641 - accuracy: 0.7146 - val_loss: 5.0933 - val_accuracy: 0.1010\n",
      "Epoch 67/100\n",
      "375/375 [==============================] - 1s 3ms/step - loss: 0.8500 - accuracy: 0.7183 - val_loss: 5.1101 - val_accuracy: 0.1001\n",
      "Epoch 68/100\n",
      "375/375 [==============================] - 1s 3ms/step - loss: 0.8372 - accuracy: 0.7251 - val_loss: 5.1731 - val_accuracy: 0.0993\n",
      "Epoch 69/100\n",
      "375/375 [==============================] - 1s 3ms/step - loss: 0.8270 - accuracy: 0.7275 - val_loss: 5.2535 - val_accuracy: 0.0957\n",
      "Epoch 70/100\n",
      "375/375 [==============================] - 1s 3ms/step - loss: 0.8158 - accuracy: 0.7319 - val_loss: 5.2972 - val_accuracy: 0.0974\n",
      "Epoch 71/100\n",
      "375/375 [==============================] - 1s 3ms/step - loss: 0.8018 - accuracy: 0.7364 - val_loss: 5.3829 - val_accuracy: 0.0991\n",
      "Epoch 72/100\n",
      "375/375 [==============================] - 1s 3ms/step - loss: 0.7928 - accuracy: 0.7368 - val_loss: 5.4612 - val_accuracy: 0.1007\n",
      "Epoch 73/100\n",
      "375/375 [==============================] - 1s 3ms/step - loss: 0.7826 - accuracy: 0.7429 - val_loss: 5.4924 - val_accuracy: 0.1015\n",
      "Epoch 74/100\n",
      "375/375 [==============================] - 1s 3ms/step - loss: 0.7692 - accuracy: 0.7477 - val_loss: 5.6154 - val_accuracy: 0.1033\n",
      "Epoch 75/100\n",
      "375/375 [==============================] - 1s 3ms/step - loss: 0.7604 - accuracy: 0.7517 - val_loss: 5.6370 - val_accuracy: 0.1013\n",
      "Epoch 76/100\n",
      "375/375 [==============================] - 1s 3ms/step - loss: 0.7484 - accuracy: 0.7553 - val_loss: 5.6954 - val_accuracy: 0.0975\n",
      "Epoch 77/100\n",
      "375/375 [==============================] - 1s 3ms/step - loss: 0.7364 - accuracy: 0.7595 - val_loss: 5.7902 - val_accuracy: 0.1034\n",
      "Epoch 78/100\n",
      "375/375 [==============================] - 1s 3ms/step - loss: 0.7283 - accuracy: 0.7627 - val_loss: 5.8193 - val_accuracy: 0.1037\n",
      "Epoch 79/100\n",
      "375/375 [==============================] - 1s 3ms/step - loss: 0.7172 - accuracy: 0.7660 - val_loss: 5.9017 - val_accuracy: 0.0978\n",
      "Epoch 80/100\n",
      "375/375 [==============================] - 1s 3ms/step - loss: 0.7076 - accuracy: 0.7691 - val_loss: 5.9320 - val_accuracy: 0.1031\n",
      "Epoch 81/100\n",
      "375/375 [==============================] - 1s 3ms/step - loss: 0.6995 - accuracy: 0.7727 - val_loss: 6.0360 - val_accuracy: 0.0996\n",
      "Epoch 82/100\n",
      "375/375 [==============================] - 1s 3ms/step - loss: 0.6895 - accuracy: 0.7751 - val_loss: 6.0791 - val_accuracy: 0.1006\n",
      "Epoch 83/100\n",
      "375/375 [==============================] - 1s 3ms/step - loss: 0.6789 - accuracy: 0.7789 - val_loss: 6.1249 - val_accuracy: 0.1042\n",
      "Epoch 84/100\n",
      "375/375 [==============================] - 1s 3ms/step - loss: 0.6694 - accuracy: 0.7824 - val_loss: 6.2395 - val_accuracy: 0.1019\n",
      "Epoch 85/100\n",
      "375/375 [==============================] - 1s 3ms/step - loss: 0.6609 - accuracy: 0.7857 - val_loss: 6.2515 - val_accuracy: 0.1029\n",
      "Epoch 86/100\n",
      "375/375 [==============================] - 1s 3ms/step - loss: 0.6493 - accuracy: 0.7882 - val_loss: 6.3109 - val_accuracy: 0.0988\n",
      "Epoch 87/100\n",
      "375/375 [==============================] - 1s 3ms/step - loss: 0.6456 - accuracy: 0.7922 - val_loss: 6.4352 - val_accuracy: 0.1014\n",
      "Epoch 88/100\n",
      "375/375 [==============================] - 1s 3ms/step - loss: 0.6334 - accuracy: 0.7953 - val_loss: 6.4666 - val_accuracy: 0.1039\n",
      "Epoch 89/100\n",
      "375/375 [==============================] - 1s 3ms/step - loss: 0.6249 - accuracy: 0.7970 - val_loss: 6.5222 - val_accuracy: 0.0999\n",
      "Epoch 90/100\n",
      "375/375 [==============================] - 1s 3ms/step - loss: 0.6181 - accuracy: 0.7991 - val_loss: 6.5793 - val_accuracy: 0.1006\n",
      "Epoch 91/100\n",
      "375/375 [==============================] - 1s 3ms/step - loss: 0.6084 - accuracy: 0.8030 - val_loss: 6.6446 - val_accuracy: 0.1016\n",
      "Epoch 92/100\n",
      "375/375 [==============================] - 1s 3ms/step - loss: 0.5989 - accuracy: 0.8061 - val_loss: 6.7335 - val_accuracy: 0.1029\n",
      "Epoch 93/100\n",
      "375/375 [==============================] - 1s 3ms/step - loss: 0.5938 - accuracy: 0.8075 - val_loss: 6.8537 - val_accuracy: 0.0973\n",
      "Epoch 94/100\n",
      "375/375 [==============================] - 1s 3ms/step - loss: 0.5848 - accuracy: 0.8119 - val_loss: 6.8855 - val_accuracy: 0.0999\n",
      "Epoch 95/100\n",
      "375/375 [==============================] - 1s 3ms/step - loss: 0.5739 - accuracy: 0.8159 - val_loss: 6.9855 - val_accuracy: 0.1005\n",
      "Epoch 96/100\n",
      "375/375 [==============================] - 1s 3ms/step - loss: 0.5686 - accuracy: 0.8181 - val_loss: 6.9806 - val_accuracy: 0.1006\n",
      "Epoch 97/100\n",
      "375/375 [==============================] - 1s 3ms/step - loss: 0.5611 - accuracy: 0.8196 - val_loss: 7.0853 - val_accuracy: 0.0998\n",
      "Epoch 98/100\n",
      "375/375 [==============================] - 1s 3ms/step - loss: 0.5561 - accuracy: 0.8202 - val_loss: 7.1216 - val_accuracy: 0.1021\n",
      "Epoch 99/100\n",
      "375/375 [==============================] - 1s 3ms/step - loss: 0.5474 - accuracy: 0.8239 - val_loss: 7.2134 - val_accuracy: 0.0998\n",
      "Epoch 100/100\n",
      "375/375 [==============================] - 1s 3ms/step - loss: 0.5411 - accuracy: 0.8267 - val_loss: 7.2899 - val_accuracy: 0.0993\n"
     ]
    }
   ],
   "source": [
    "random_labels = train_labels.copy() # not random yet\n",
    "np.random.shuffle(random_labels) # now they are random\n",
    "\n",
    "model = get_model()\n",
    "\n",
    "random_history = model.fit(train_images, random_labels, epochs=100, batch_size=128, validation_split=.2)"
   ]
  },
  {
   "cell_type": "code",
   "execution_count": 22,
   "metadata": {},
   "outputs": [
    {
     "data": {
      "image/png": "[encoded data removed]",
      "text/plain": [
       "<Figure size 432x288 with 1 Axes>"
      ]
     },
     "metadata": {
      "needs_background": "light"
     },
     "output_type": "display_data"
    }
   ],
   "source": [
    "from plot_utils import plot_history\n",
    "\n",
    "plot_history(random_history, \"accuracy\")"
   ]
  },
  {
   "cell_type": "code",
   "execution_count": null,
   "metadata": {},
   "outputs": [],
   "source": []
  }
 ],
 "metadata": {
  "interpreter": {
   "hash": "916dbcbb3f70747c44a77c7bcd40155683ae19c65e1c03b4aa3499c5328201f1"
  },
  "kernelspec": {
   "display_name": "Python 3.8.10 64-bit",
   "language": "python",
   "name": "python3"
  },
  "language_info": {
   "codemirror_mode": {
    "name": "ipython",
    "version": 3
   },
   "file_extension": ".py",
   "mimetype": "text/x-python",
   "name": "python",
   "nbconvert_exporter": "python",
   "pygments_lexer": "ipython3",
   "version": "3.8.10"
  },
  "orig_nbformat": 4
 },
 "nbformat": 4,
 "nbformat_minor": 2
}
