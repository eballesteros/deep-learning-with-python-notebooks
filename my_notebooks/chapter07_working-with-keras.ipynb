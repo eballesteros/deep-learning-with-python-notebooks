{
 "cells": [
  {
   "cell_type": "code",
   "execution_count": 1,
   "metadata": {},
   "outputs": [
    {
     "name": "stdout",
     "output_type": "stream",
     "text": [
      "tf.__version__ = '2.6.1'\n"
     ]
    }
   ],
   "source": [
    "import tensorflow as tf\n",
    "from tensorflow import keras\n",
    "from tensorflow.keras import layers\n",
    "\n",
    "print(f\"{tf.__version__ = }\")"
   ]
  },
  {
   "cell_type": "markdown",
   "metadata": {},
   "source": [
    "## Different ways to build keras models"
   ]
  },
  {
   "cell_type": "markdown",
   "metadata": {},
   "source": [
    "### The squential model"
   ]
  },
  {
   "cell_type": "code",
   "execution_count": 2,
   "metadata": {},
   "outputs": [
    {
     "name": "stderr",
     "output_type": "stream",
     "text": [
      "2022-04-24 03:07:31.967812: I tensorflow/core/platform/cpu_feature_guard.cc:142] This TensorFlow binary is optimized with oneAPI Deep Neural Network Library (oneDNN) to use the following CPU instructions in performance-critical operations:  AVX2 FMA\n",
      "To enable them in other operations, rebuild TensorFlow with the appropriate compiler flags.\n",
      "2022-04-24 03:07:32.502443: I tensorflow/core/common_runtime/gpu/gpu_device.cc:1510] Created device /job:localhost/replica:0/task:0/device:GPU:0 with 10801 MB memory:  -> device: 0, name: Tesla K80, pci bus id: 0001:00:00.0, compute capability: 3.7\n"
     ]
    }
   ],
   "source": [
    "# default\n",
    "model = keras.Sequential(\n",
    "    [\n",
    "        layers.Dense(64, activation=\"relu\"),\n",
    "        layers.Dense(10, activation=\"softmax\")\n",
    "    ]\n",
    ")\n",
    "\n",
    "# using `add`\n",
    "\n",
    "model = keras.Sequential()\n",
    "model.add(layers.Dense(64, activation=\"relu\"))\n",
    "model.add(layers.Dense(10, activation=\"softmax\"))"
   ]
  },
  {
   "cell_type": "code",
   "execution_count": 3,
   "metadata": {},
   "outputs": [
    {
     "name": "stdout",
     "output_type": "stream",
     "text": [
      "Model weights haven't been initialized yet\n"
     ]
    }
   ],
   "source": [
    "# model.weights doen't exist until the model is built\n",
    "# (when you call `build()` or pass an input)\n",
    "try:\n",
    "    model.weights\n",
    "except ValueError as ex:\n",
    "    print(\"Model weights haven't been initialized yet\")"
   ]
  },
  {
   "cell_type": "code",
   "execution_count": 4,
   "metadata": {},
   "outputs": [
    {
     "name": "stdout",
     "output_type": "stream",
     "text": [
      "name: dense_2/kernel:0. shape: (3, 64)\n",
      "name: dense_2/bias:0. shape: (64,)\n",
      "name: dense_3/kernel:0. shape: (64, 10)\n",
      "name: dense_3/bias:0. shape: (10,)\n"
     ]
    }
   ],
   "source": [
    "model.build(input_shape=(None, 3))\n",
    "weights = model.weights\n",
    "assert weights\n",
    "\n",
    "for w in weights:\n",
    "    print(f\"name: {w.name}. shape: {w.shape}\")\n"
   ]
  },
  {
   "cell_type": "code",
   "execution_count": 5,
   "metadata": {},
   "outputs": [
    {
     "name": "stdout",
     "output_type": "stream",
     "text": [
      "Model: \"sequential_1\"\n",
      "_________________________________________________________________\n",
      "Layer (type)                 Output Shape              Param #   \n",
      "=================================================================\n",
      "dense_2 (Dense)              (None, 64)                256       \n",
      "_________________________________________________________________\n",
      "dense_3 (Dense)              (None, 10)                650       \n",
      "=================================================================\n",
      "Total params: 906\n",
      "Trainable params: 906\n",
      "Non-trainable params: 0\n",
      "_________________________________________________________________\n"
     ]
    }
   ],
   "source": [
    "model.summary()"
   ]
  },
  {
   "cell_type": "code",
   "execution_count": 6,
   "metadata": {},
   "outputs": [
    {
     "name": "stdout",
     "output_type": "stream",
     "text": [
      "Model: \"my_example_model\"\n",
      "_________________________________________________________________\n",
      "Layer (type)                 Output Shape              Param #   \n",
      "=================================================================\n",
      "my_dense_layer_0 (Dense)     (None, 64)                256       \n",
      "_________________________________________________________________\n",
      "my_dense_layer_1 (Dense)     (None, 10)                650       \n",
      "=================================================================\n",
      "Total params: 906\n",
      "Trainable params: 906\n",
      "Non-trainable params: 0\n",
      "_________________________________________________________________\n"
     ]
    }
   ],
   "source": [
    "# give your model and layers a name\n",
    "model = keras.Sequential(name=\"my_example_model\")\n",
    "model.add(layers.Dense(64, activation=\"relu\", name=\"my_dense_layer_0\"))\n",
    "model.add(layers.Dense(10, activation=\"softmax\", name=\"my_dense_layer_1\"))\n",
    "\n",
    "model.build((None, 3))\n",
    "model.summary()"
   ]
  },
  {
   "cell_type": "code",
   "execution_count": 7,
   "metadata": {},
   "outputs": [
    {
     "name": "stdout",
     "output_type": "stream",
     "text": [
      "Model: \"sequential_2\"\n",
      "_________________________________________________________________\n",
      "Layer (type)                 Output Shape              Param #   \n",
      "=================================================================\n",
      "dense_4 (Dense)              (None, 64)                256       \n",
      "=================================================================\n",
      "Total params: 256\n",
      "Trainable params: 256\n",
      "Non-trainable params: 0\n",
      "_________________________________________________________________\n",
      "None\n",
      "Model: \"sequential_2\"\n",
      "_________________________________________________________________\n",
      "Layer (type)                 Output Shape              Param #   \n",
      "=================================================================\n",
      "dense_4 (Dense)              (None, 64)                256       \n",
      "_________________________________________________________________\n",
      "dense_5 (Dense)              (None, 10)                650       \n",
      "=================================================================\n",
      "Total params: 906\n",
      "Trainable params: 906\n",
      "Non-trainable params: 0\n",
      "_________________________________________________________________\n",
      "None\n"
     ]
    }
   ],
   "source": [
    "# You can get your sequential model to build on the fly by passing an `Input`\n",
    "# This may be usefull if you want to call `model.summary()` before you finish building\n",
    "model = keras.Sequential()\n",
    "model.add(keras.Input(shape=(3,)))\n",
    "\n",
    "model.add(layers.Dense(64, activation=\"relu\"))\n",
    "print(model.summary())\n",
    "\n",
    "model.add(layers.Dense(10, activation=\"softmax\"))\n",
    "print(model.summary())\n",
    "\n",
    "# model.build((None, 3)) # no need for this any more!"
   ]
  },
  {
   "cell_type": "markdown",
   "metadata": {},
   "source": [
    "### The functional API"
   ]
  },
  {
   "cell_type": "markdown",
   "metadata": {},
   "source": [
    "Sequential is only good for single-input single-output model with one layer after another in a fully sequential (duh) way.\n",
    "\n",
    "The functional API is way more powerful."
   ]
  },
  {
   "cell_type": "markdown",
   "metadata": {},
   "source": [
    "#### Simple example\n",
    "\n",
    "Same model as before"
   ]
  },
  {
   "cell_type": "code",
   "execution_count": 8,
   "metadata": {},
   "outputs": [],
   "source": [
    "inputs = keras.Input(shape=(3,), name=\"my_input\")\n",
    "features = layers.Dense(64, activation=\"relu\")(inputs)\n",
    "outputs = layers.Dense(10, activation=\"softmax\")(features)\n",
    "model = keras.Model(inputs=inputs, outputs=outputs)"
   ]
  },
  {
   "cell_type": "code",
   "execution_count": 9,
   "metadata": {},
   "outputs": [
    {
     "name": "stdout",
     "output_type": "stream",
     "text": [
      "inputs.shape = TensorShape([None, 3])\n",
      "inputs.dtype = tf.float32\n"
     ]
    }
   ],
   "source": [
    "# the input tensor is a \"symbolic\" tensor. It encodes the specifications\n",
    "# of the actual tensor of data that the model will se when you use it\n",
    "# \"symbolic\" === future tensor of data\n",
    "\n",
    "print(f\"{inputs.shape = }\")\n",
    "print(f\"{inputs.dtype = }\")"
   ]
  },
  {
   "cell_type": "code",
   "execution_count": 10,
   "metadata": {},
   "outputs": [
    {
     "name": "stdout",
     "output_type": "stream",
     "text": [
      "features.shape = TensorShape([None, 64])\n",
      "features.dtype = tf.float32\n"
     ]
    }
   ],
   "source": [
    "# all keras Layers can be calles on \"real\" tensors of data and on these\n",
    "# symbolic tensors. In the later case, the return is a symbolic tensor as well\n",
    "# with updates shape and dtype\n",
    "\n",
    "print(f\"{features.shape = }\")\n",
    "print(f\"{features.dtype = }\")"
   ]
  },
  {
   "cell_type": "code",
   "execution_count": 11,
   "metadata": {},
   "outputs": [
    {
     "name": "stdout",
     "output_type": "stream",
     "text": [
      "Model: \"model\"\n",
      "_________________________________________________________________\n",
      "Layer (type)                 Output Shape              Param #   \n",
      "=================================================================\n",
      "my_input (InputLayer)        [(None, 3)]               0         \n",
      "_________________________________________________________________\n",
      "dense_6 (Dense)              (None, 64)                256       \n",
      "_________________________________________________________________\n",
      "dense_7 (Dense)              (None, 10)                650       \n",
      "=================================================================\n",
      "Total params: 906\n",
      "Trainable params: 906\n",
      "Non-trainable params: 0\n",
      "_________________________________________________________________\n"
     ]
    }
   ],
   "source": [
    "model.summary()"
   ]
  },
  {
   "cell_type": "markdown",
   "metadata": {},
   "source": [
    "#### Multi-input Multi-output models\n",
    "\n",
    "Lets try to build a system to rank customer support tickets by priority and route them to the appropriate department. The model will have 3 inputs:\n",
    "- Title of the ticket (text*)\n",
    "- Text body of the ticket (text*)\n",
    "- Any tags added by the user (categorical, assumed one-hot-encoded)\n",
    "\n",
    "*We will encode text as an array of 1s and 0s of size vocabulary_size\n",
    "\n",
    "As for the outputs:\n",
    "- The priority score will be a scalar between 0 and 1\n",
    "- Department as multi-class classification output"
   ]
  },
  {
   "cell_type": "code",
   "execution_count": 12,
   "metadata": {},
   "outputs": [
    {
     "name": "stdout",
     "output_type": "stream",
     "text": [
      "Model: \"model_1\"\n",
      "__________________________________________________________________________________________________\n",
      "Layer (type)                    Output Shape         Param #     Connected to                     \n",
      "==================================================================================================\n",
      "title (InputLayer)              [(None, 10000)]      0                                            \n",
      "__________________________________________________________________________________________________\n",
      "text_body (InputLayer)          [(None, 10000)]      0                                            \n",
      "__________________________________________________________________________________________________\n",
      "tags (InputLayer)               [(None, 100)]        0                                            \n",
      "__________________________________________________________________________________________________\n",
      "concat (Concatenate)            (None, 20100)        0           title[0][0]                      \n",
      "                                                                 text_body[0][0]                  \n",
      "                                                                 tags[0][0]                       \n",
      "__________________________________________________________________________________________________\n",
      "dense_features_layer (Dense)    (None, 64)           1286464     concat[0][0]                     \n",
      "__________________________________________________________________________________________________\n",
      "priority (Dense)                (None, 1)            65          dense_features_layer[0][0]       \n",
      "__________________________________________________________________________________________________\n",
      "department (Dense)              (None, 4)            260         dense_features_layer[0][0]       \n",
      "==================================================================================================\n",
      "Total params: 1,286,789\n",
      "Trainable params: 1,286,789\n",
      "Non-trainable params: 0\n",
      "__________________________________________________________________________________________________\n"
     ]
    }
   ],
   "source": [
    "vocabulary_size = 10_000\n",
    "num_tags = 100\n",
    "num_departments = 4\n",
    "\n",
    "# inputs\n",
    "title = keras.Input(shape=(vocabulary_size, ), name=\"title\")\n",
    "text_body = keras.Input(shape=(vocabulary_size, ), name=\"text_body\")\n",
    "tags = keras.Input(shape=(num_tags, ), name=\"tags\")\n",
    "model_inputs = [\n",
    "    title,\n",
    "    text_body,\n",
    "    tags,\n",
    "]\n",
    "\n",
    "# concat and apply Dense\n",
    "features = layers.Concatenate(name=\"concat\")(model_inputs)\n",
    "features = layers.Dense(64, activation=\"relu\", name=\"dense_features_layer\")(features)\n",
    "\n",
    "# outputs\n",
    "priority = layers.Dense(1, activation=\"sigmoid\", name=\"priority\")(features) # sigmoid to get 0-1\n",
    "department = layers.Dense(num_departments, activation=\"softmax\", name=\"department\")(features)\n",
    "\n",
    "# define model\n",
    "model = keras.Model(\n",
    "    inputs = model_inputs,\n",
    "    outputs = [\n",
    "        priority,\n",
    "        department,\n",
    "    ],\n",
    ")\n",
    "\n",
    "model.summary()"
   ]
  },
  {
   "cell_type": "code",
   "execution_count": 13,
   "metadata": {},
   "outputs": [],
   "source": [
    "import numpy as np\n",
    "\n",
    "num_samples = 1280\n",
    "\n",
    "title_data = np.random.randint(0, 2, size=(num_samples, vocabulary_size))\n",
    "text_body_data = np.random.randint(0, 2, size=(num_samples, vocabulary_size))\n",
    "tags_data = np.random.randint(0, 2, size=(num_samples, num_tags))\n",
    "\n",
    "priority_data = np.random.random(size=(num_samples, 1))\n",
    "# department_data = np.random.randint(0, 2, size=(num_samples, num_departments)) # this yields multi-label. I want mylty-class\n",
    "\n",
    "def get_department_data():\n",
    "    random_floats = np.random.random(size=(num_samples, num_departments))\n",
    "    department_data = np.zeros_like(random_floats)\n",
    "\n",
    "    for data_row, random_row in zip(department_data, random_floats):\n",
    "        data_row[random_row.argmax()]=1.\n",
    "\n",
    "    assert (department_data.sum(axis=1) == 1.).all()\n",
    "\n",
    "    return department_data\n",
    "\n",
    "department_data = get_department_data()"
   ]
  },
  {
   "cell_type": "markdown",
   "metadata": {},
   "source": [
    "you can train a multi-input model by calling `fit()`, caveat being you need either to pass your data in the same order as defined in the Model constructor"
   ]
  },
  {
   "cell_type": "code",
   "execution_count": 14,
   "metadata": {},
   "outputs": [
    {
     "name": "stderr",
     "output_type": "stream",
     "text": [
      "2022-04-24 03:07:34.748089: I tensorflow/compiler/mlir/mlir_graph_optimization_pass.cc:185] None of the MLIR Optimization Passes are enabled (registered 2)\n"
     ]
    },
    {
     "name": "stdout",
     "output_type": "stream",
     "text": [
      "40/40 [==============================] - 1s 5ms/step - loss: 7.3180 - priority_loss: 0.2702 - department_loss: 7.0478 - priority_mean_absolute_error: 0.4379 - department_accuracy: 0.2422\n",
      "40/40 [==============================] - 0s 3ms/step - loss: 2.7628 - priority_loss: 0.3083 - department_loss: 2.4545 - priority_mean_absolute_error: 0.4754 - department_accuracy: 0.3484\n"
     ]
    }
   ],
   "source": [
    "model.compile(optimizer=\"rmsprop\",\n",
    "              loss=[\"mean_squared_error\", \"categorical_crossentropy\"],\n",
    "              metrics=[[\"mean_absolute_error\"], [\"accuracy\"]])\n",
    "model.fit([title_data, text_body_data, tags_data],\n",
    "          [priority_data, department_data],\n",
    "          epochs=1)\n",
    "model.evaluate([title_data, text_body_data, tags_data],\n",
    "               [priority_data, department_data])\n",
    "priority_preds, department_preds = model.predict([title_data, text_body_data, tags_data])"
   ]
  },
  {
   "cell_type": "markdown",
   "metadata": {},
   "source": [
    "or even better leverage the names you gave the `Input`"
   ]
  },
  {
   "cell_type": "code",
   "execution_count": 15,
   "metadata": {},
   "outputs": [
    {
     "name": "stdout",
     "output_type": "stream",
     "text": [
      "40/40 [==============================] - 1s 5ms/step - loss: 6.5625 - priority_loss: 0.2698 - department_loss: 6.2927 - priority_mean_absolute_error: 0.4392 - department_accuracy: 0.2875\n",
      "40/40 [==============================] - 0s 3ms/step - loss: 2.6310 - priority_loss: 0.3294 - department_loss: 2.3016 - priority_mean_absolute_error: 0.4963 - department_accuracy: 0.2836\n"
     ]
    }
   ],
   "source": [
    "model.compile(optimizer=\"rmsprop\",\n",
    "              loss=[\"mean_squared_error\", \"categorical_crossentropy\"],\n",
    "              metrics=[[\"mean_absolute_error\"], [\"accuracy\"]])\n",
    "\n",
    "inputs_dict = {\n",
    "    \"title\" : title_data,\n",
    "    \"text_body\" : text_body_data,\n",
    "    \"tags\" : tags_data   ,\n",
    "}\n",
    "\n",
    "outputs_dict = {\n",
    "    \"priority\": priority_data,\n",
    "    \"department\": department_data\n",
    "}\n",
    "\n",
    "model.fit(inputs_dict, outputs_dict, epochs=1)\n",
    "\n",
    "model.evaluate(inputs_dict, outputs_dict)\n",
    "priority_preds, department_preds = model.predict(inputs_dict)"
   ]
  },
  {
   "cell_type": "code",
   "execution_count": 16,
   "metadata": {},
   "outputs": [
    {
     "data": {
      "image/png": "[encoded data removed]",
      "text/plain": [
       "<IPython.core.display.Image object>"
      ]
     },
     "execution_count": 16,
     "metadata": {},
     "output_type": "execute_result"
    }
   ],
   "source": [
    "keras.utils.plot_model(model)"
   ]
  },
  {
   "cell_type": "markdown",
   "metadata": {},
   "source": [
    "#### feature extraction\n",
    "\n",
    "Lets say you want to add another output to the previous model: Some kind of difficulty rating with 3 categories \"quick\", \"medium\" and \"difficult\"."
   ]
  },
  {
   "cell_type": "code",
   "execution_count": 17,
   "metadata": {},
   "outputs": [],
   "source": [
    "# you can access intermediate features from your previous model\n",
    "features = model.get_layer(name=\"dense_features_layer\").output\n",
    "difficulty = layers.Dense(3, activation=\"softmax\", name=\"difficulty\")(features)\n",
    "\n",
    "new_model = keras.Model(\n",
    "    inputs=[title, text_body, tags],\n",
    "    outputs=[priority, department, difficulty]\n",
    ")"
   ]
  },
  {
   "cell_type": "code",
   "execution_count": 18,
   "metadata": {},
   "outputs": [
    {
     "data": {
      "image/png": "[encoded data removed]",
      "text/plain": [
       "<IPython.core.display.Image object>"
      ]
     },
     "execution_count": 18,
     "metadata": {},
     "output_type": "execute_result"
    }
   ],
   "source": [
    "keras.utils.plot_model(new_model)"
   ]
  },
  {
   "cell_type": "markdown",
   "metadata": {},
   "source": [
    "### Subclassing the Model Class\n",
    "\n",
    "Lets re-implement the last model"
   ]
  },
  {
   "cell_type": "code",
   "execution_count": 19,
   "metadata": {},
   "outputs": [],
   "source": [
    "class CustomTicketModel(keras.Model):\n",
    "    def __init__(self, num_departments):\n",
    "        super().__init__() ## dont forget this\n",
    "\n",
    "        # define internal layers\n",
    "        self.concat_layer = layers.Concatenate()\n",
    "        self.mixing_layer = layers.Dense(64, activation=\"relu\")\n",
    "        \n",
    "        # define output layers\n",
    "        self.priority_scorer = layers.Dense(1, activation=\"sigmoid\")\n",
    "        self.department_classifier = layers.Dense(num_departments, activation=\"softmax\")\n",
    "\n",
    "    def call(self, inputs):\n",
    "        title = inputs[\"title\"]\n",
    "        text_body = inputs[\"text_body\"]\n",
    "        tags = inputs[\"tags\"]\n",
    "\n",
    "        features = self.concat_layer([title, text_body, tags])\n",
    "        features = self.mixing_layer(features)\n",
    "\n",
    "        priority = self.priority_scorer(features)\n",
    "        department = self.department_classifier(features)\n",
    "\n",
    "        return priority, department"
   ]
  },
  {
   "cell_type": "code",
   "execution_count": 20,
   "metadata": {},
   "outputs": [],
   "source": [
    "model = CustomTicketModel(num_departments=4)\n",
    "priority, department = model({\"title\": title_data, \"text_body\": text_body_data, \"tags\": tags_data})"
   ]
  },
  {
   "cell_type": "code",
   "execution_count": 21,
   "metadata": {},
   "outputs": [
    {
     "name": "stdout",
     "output_type": "stream",
     "text": [
      "40/40 [==============================] - 1s 5ms/step - loss: 3.7215 - output_1_loss: 0.1125 - output_2_loss: 3.6091 - output_1_mean_absolute_error: 0.2791 - output_2_accuracy: 0.2547\n",
      "40/40 [==============================] - 0s 3ms/step - loss: 1.4610 - output_1_loss: 0.0833 - output_2_loss: 1.3777 - output_1_mean_absolute_error: 0.2499 - output_2_accuracy: 0.2867\n"
     ]
    }
   ],
   "source": [
    "# [1] the order is important here\n",
    "model.compile(\n",
    "    optimizer=\"rmsprop\",\n",
    "    loss=[\"mean_squared_error\", \"categorical_crossentropy\"], #[1]\n",
    "    metrics=[[\"mean_absolute_error\"], [\"accuracy\"]] #[1]\n",
    ")\n",
    "\n",
    "model.fit(\n",
    "    inputs_dict, # structure of the input must match exacly `inputs`\n",
    "    [priority_data, department_data], # this must match exatly what the model returns. Here, a list.\n",
    "    epochs=1\n",
    ")\n",
    "\n",
    "model.evaluate(\n",
    "    inputs_dict,\n",
    "    [priority_data, department_data], # this must match exatly what the model returns. Here, a list.\n",
    ")\n",
    "\n",
    "priority_preds, department_preds = model.predict(inputs_dict)"
   ]
  },
  {
   "cell_type": "markdown",
   "metadata": {},
   "source": [
    "Subclassing API is the most flexible. Useful when your model can't be defined as a DAG\n",
    "\n",
    "**Beware**: funtional yields a data structure (graph). Subclassed yields bytecode, which is more flexible but as a results:\n",
    "- you can not inspect a subclassed model (`summary` won't display layer connectivity and `plot_model` wont display layers at all)\n",
    "- you can not access the nodes of the \"graph\" to do feature extraction, because there is no graph!"
   ]
  },
  {
   "cell_type": "code",
   "execution_count": 22,
   "metadata": {},
   "outputs": [
    {
     "name": "stdout",
     "output_type": "stream",
     "text": [
      "Model: \"custom_ticket_model\"\n",
      "_________________________________________________________________\n",
      "Layer (type)                 Output Shape              Param #   \n",
      "=================================================================\n",
      "concatenate (Concatenate)    multiple                  0         \n",
      "_________________________________________________________________\n",
      "dense_8 (Dense)              multiple                  1286464   \n",
      "_________________________________________________________________\n",
      "dense_9 (Dense)              multiple                  65        \n",
      "_________________________________________________________________\n",
      "dense_10 (Dense)             multiple                  260       \n",
      "=================================================================\n",
      "Total params: 1,286,789\n",
      "Trainable params: 1,286,789\n",
      "Non-trainable params: 0\n",
      "_________________________________________________________________\n"
     ]
    }
   ],
   "source": [
    "model.summary()"
   ]
  },
  {
   "cell_type": "code",
   "execution_count": 23,
   "metadata": {},
   "outputs": [
    {
     "data": {
      "image/png": "[encoded data removed]",
      "text/plain": [
       "<IPython.core.display.Image object>"
      ]
     },
     "execution_count": 23,
     "metadata": {},
     "output_type": "execute_result"
    }
   ],
   "source": [
    "keras.utils.plot_model(model)"
   ]
  },
  {
   "cell_type": "code",
   "execution_count": 24,
   "metadata": {},
   "outputs": [
    {
     "name": "stdout",
     "output_type": "stream",
     "text": [
      "40/40 [==============================] - 1s 5ms/step - loss: 6.7891 - department_loss: 6.4895 - priority_loss: 0.2996 - department_accuracy: 0.2539 - priority_mean_absolute_error: 0.4633\n",
      "40/40 [==============================] - 0s 3ms/step - loss: 1.4570 - department_loss: 1.3738 - priority_loss: 0.0832 - department_accuracy: 0.2609 - priority_mean_absolute_error: 0.2496\n"
     ]
    }
   ],
   "source": [
    "# let me repeat that with model outputing a dictionary\n",
    "\n",
    "class CustomTicketModel(keras.Model):\n",
    "    def __init__(self, num_departments):\n",
    "        super().__init__() ## dont forget this\n",
    "\n",
    "        # define internal layers\n",
    "        self.concat_layer = layers.Concatenate()\n",
    "        self.mixing_layer = layers.Dense(64, activation=\"relu\")\n",
    "        \n",
    "        # define output layers\n",
    "        self.priority_scorer = layers.Dense(1, activation=\"sigmoid\")\n",
    "        self.department_classifier = layers.Dense(num_departments, activation=\"softmax\")\n",
    "\n",
    "    def call(self, inputs):\n",
    "        title = inputs[\"title\"]\n",
    "        text_body = inputs[\"text_body\"]\n",
    "        tags = inputs[\"tags\"]\n",
    "\n",
    "        features = self.concat_layer([title, text_body, tags])\n",
    "        features = self.mixing_layer(features)\n",
    "\n",
    "        priority = self.priority_scorer(features)\n",
    "        department = self.department_classifier(features)\n",
    "\n",
    "        return {\"priority\": priority, \"department\": department}\n",
    "\n",
    "model = CustomTicketModel(num_departments=4)\n",
    "\n",
    "model.compile(\n",
    "    optimizer=\"rmsprop\",\n",
    "    loss={\"priority\": \"mean_squared_error\", \"department\" : \"categorical_crossentropy\"}, #[1]\n",
    "    metrics={\"priority\": [\"mean_absolute_error\"], \"department\": [\"accuracy\"]} #[1]\n",
    ")\n",
    "\n",
    "model.fit(\n",
    "    inputs_dict, # structure of the input must match exacly `inputs`\n",
    "    {\"priority\": priority_data, \"department\": department_data}, # this must match exatly what the model returns. Here, a list.\n",
    "    epochs=1\n",
    ")\n",
    "\n",
    "model.evaluate(\n",
    "    inputs_dict,\n",
    "    {\"priority\": priority_data, \"department\": department_data}, # this must match exatly what the model returns. Here, a list.\n",
    ")\n",
    "\n",
    "predictions_dict = model.predict(inputs_dict)"
   ]
  },
  {
   "cell_type": "code",
   "execution_count": 25,
   "metadata": {},
   "outputs": [
    {
     "data": {
      "text/plain": [
       "{'priority': array([[0.5004947],\n",
       "        [0.5004947],\n",
       "        [0.5004947],\n",
       "        ...,\n",
       "        [0.5004947],\n",
       "        [0.5004947],\n",
       "        [0.5004947]], dtype=float32),\n",
       " 'department': array([[0.24805784, 0.24675103, 0.24944372, 0.2557474 ],\n",
       "        [0.24805784, 0.24675103, 0.24944372, 0.2557474 ],\n",
       "        [0.24805784, 0.24675103, 0.24944372, 0.2557474 ],\n",
       "        ...,\n",
       "        [0.24805784, 0.24675103, 0.24944372, 0.2557474 ],\n",
       "        [0.24805784, 0.24675103, 0.24944372, 0.2557474 ],\n",
       "        [0.24805784, 0.24675103, 0.24944372, 0.2557474 ]], dtype=float32)}"
      ]
     },
     "execution_count": 25,
     "metadata": {},
     "output_type": "execute_result"
    }
   ],
   "source": [
    "predictions_dict"
   ]
  },
  {
   "cell_type": "markdown",
   "metadata": {},
   "source": [
    "I like this one better, although it is significantly more verbose"
   ]
  },
  {
   "cell_type": "markdown",
   "metadata": {},
   "source": [
    "### Mixing and Matching different components"
   ]
  },
  {
   "cell_type": "code",
   "execution_count": 26,
   "metadata": {},
   "outputs": [],
   "source": [
    "# use subclassed model in Functional API\n",
    "\n",
    "class Classifier(keras.Model):\n",
    "    \"\"\"Binary or multi-class classifier\"\"\"\n",
    "    def __init__(self, num_classes):\n",
    "        super().__init__()\n",
    "        if num_classes == 2:\n",
    "            num_units = 1\n",
    "            activation = \"sigmoid\"\n",
    "        else:\n",
    "            num_units = num_classes\n",
    "            activation = \"softmax\"\n",
    "\n",
    "        self.dense = layers.Dense(num_units, activation=activation)\n",
    "\n",
    "    def call(self, inputs):\n",
    "        return self.dense(inputs)\n",
    "\n",
    "inputs = keras.Input(shape=(3, ))\n",
    "features = layers.Dense(64, activation=\"relu\")(inputs)\n",
    "outputs = Classifier(num_classes=10)(features)\n",
    "model = keras.Model(inputs=inputs, outputs=outputs)\n",
    "\n",
    "_ = model.predict(np.random.random(size=(num_samples, 3)))"
   ]
  },
  {
   "cell_type": "code",
   "execution_count": 27,
   "metadata": {},
   "outputs": [],
   "source": [
    "# functional model as part of subclassed layer or model\n",
    "inputs = keras.Input(shape=(64,))\n",
    "outputs = layers.Dense(1, activation=\"sigmoid\")(inputs)\n",
    "binary_classifier = keras.Model(inputs=inputs, outputs=outputs)\n",
    "\n",
    "class MyModel(keras.Model):\n",
    "    def __init__(self):\n",
    "        super().__init__()\n",
    "        self.dense = layers.Dense(64, activation=\"relu\")\n",
    "        self.clasifier = binary_classifier\n",
    "\n",
    "    def call(self, inputs):\n",
    "        features = self.dense(inputs),\n",
    "        return self.clasifier(features)\n",
    "\n",
    "model = MyModel()\n",
    "\n",
    "_ = model.predict(np.random.random(size=(num_samples, 64)))"
   ]
  },
  {
   "cell_type": "markdown",
   "metadata": {},
   "source": [
    "### My Takeaways"
   ]
  },
  {
   "cell_type": "markdown",
   "metadata": {},
   "source": [
    "use the right tool for the job. But basically if your model can be defined as a DAG, use functional API + subclassed layers"
   ]
  },
  {
   "cell_type": "markdown",
   "metadata": {},
   "source": [
    "## The built in training and evaluation loops"
   ]
  },
  {
   "cell_type": "code",
   "execution_count": 3,
   "metadata": {},
   "outputs": [
    {
     "name": "stderr",
     "output_type": "stream",
     "text": [
      "2022-04-29 23:49:09.946858: I tensorflow/core/platform/cpu_feature_guard.cc:142] This TensorFlow binary is optimized with oneAPI Deep Neural Network Library (oneDNN) to use the following CPU instructions in performance-critical operations:  AVX2 FMA\n",
      "To enable them in other operations, rebuild TensorFlow with the appropriate compiler flags.\n",
      "2022-04-29 23:49:15.435416: I tensorflow/core/common_runtime/gpu/gpu_device.cc:1510] Created device /job:localhost/replica:0/task:0/device:GPU:0 with 10801 MB memory:  -> device: 0, name: Tesla K80, pci bus id: 0001:00:00.0, compute capability: 3.7\n",
      "2022-04-29 23:49:16.957646: I tensorflow/compiler/mlir/mlir_graph_optimization_pass.cc:185] None of the MLIR Optimization Passes are enabled (registered 2)\n"
     ]
    },
    {
     "name": "stdout",
     "output_type": "stream",
     "text": [
      "Epoch 1/3\n",
      "1563/1563 [==============================] - 9s 3ms/step - loss: 0.2907 - Accuracy: 0.9142 - val_loss: 0.1544 - val_Accuracy: 0.9555\n",
      "Epoch 2/3\n",
      "1563/1563 [==============================] - 4s 2ms/step - loss: 0.1656 - Accuracy: 0.9536 - val_loss: 0.1274 - val_Accuracy: 0.9663\n",
      "Epoch 3/3\n",
      "1563/1563 [==============================] - 4s 2ms/step - loss: 0.1394 - Accuracy: 0.9625 - val_loss: 0.1170 - val_Accuracy: 0.9704\n"
     ]
    },
    {
     "data": {
      "text/plain": [
       "<keras.callbacks.History at 0x7efabcccc5e0>"
      ]
     },
     "execution_count": 3,
     "metadata": {},
     "output_type": "execute_result"
    }
   ],
   "source": [
    "from tensorflow.keras.datasets import  mnist\n",
    "\n",
    "def get_mnist_model():\n",
    "    inputs = keras.Input(shape= (28 * 28, ))\n",
    "    features = layers.Dense(515, activation=\"relu\")(inputs)\n",
    "    features = layers.Dropout(.5)(features)\n",
    "    outputs = layers.Dense(10, activation=\"softmax\")(features)\n",
    "    model = keras.Model(inputs, outputs)\n",
    "    return model\n",
    "\n",
    "(images, labels), (test_images, test_labels) = mnist.load_data()\n",
    "images = images.reshape((60_000, 28 * 28)).astype(\"float32\") / 255\n",
    "test_images = test_images.reshape((10_000, 28 * 28)).astype(\"float32\") / 255\n",
    "\n",
    "train_images, val_images = images[10_000:], images[:10_000]\n",
    "train_labels, val_labels = labels[10_000:], labels[:10_000]\n",
    "\n",
    "model = get_mnist_model()\n",
    "model.compile(optimizer=\"rmsprop\", loss=\"sparse_categorical_crossentropy\", metrics=[\"Accuracy\"])\n",
    "\n",
    "model.fit(train_images, train_labels, epochs=3, validation_data=(val_images, val_labels))"
   ]
  },
  {
   "cell_type": "code",
   "execution_count": 4,
   "metadata": {},
   "outputs": [
    {
     "name": "stdout",
     "output_type": "stream",
     "text": [
      "313/313 [==============================] - 0s 1ms/step - loss: 0.1091 - Accuracy: 0.9720\n"
     ]
    }
   ],
   "source": [
    "test_metrics = model.evaluate(test_images, test_labels)\n",
    "predictions = model.predict(test_images)"
   ]
  },
  {
   "cell_type": "markdown",
   "metadata": {},
   "source": [
    "### Writing your own metrics"
   ]
  },
  {
   "cell_type": "code",
   "execution_count": 6,
   "metadata": {},
   "outputs": [],
   "source": [
    "import tensorflow as tf\n",
    "\n",
    "class RootMeanSquaredError(keras.metrics.Metric):\n",
    "    def __init__(self, name=\"rmse\", **kwargs):\n",
    "        super().__init__(name=name, **kwargs)\n",
    "        self.se_sum = self.add_weight(name=\"se_sum\", initializer=\"zeros\")\n",
    "        self.total_samples = self.add_weight(name=\"total_samples\", initializer=\"zeros\", dtype=\"int32\")\n",
    "\n",
    "    def update_state(self, y_true, y_pred, sample_weight=None):\n",
    "        # integer-label to categorical predictions\n",
    "        y_true = tf.one_hot(y_true, depth=tf.shape(y_pred)[1])\n",
    "        \n",
    "        # squared error (se)\n",
    "        se = tf.reduce_sum(tf.square(y_true - y_pred))\n",
    "        self.se_sum.assign_add(se)\n",
    "\n",
    "        num_samples = tf.shape(y_pred)[0]\n",
    "        self.total_samples.assign_add(num_samples)\n",
    "\n",
    "    def result(self):\n",
    "        return tf.sqrt(self.se_sum / tf.cast(self.total_samples, tf.float32))\n",
    "\n",
    "    def reset_state(self):\n",
    "        self.se_sum.assign(0.)\n",
    "        self.total_samples.assign(0)\n"
   ]
  },
  {
   "cell_type": "code",
   "execution_count": 7,
   "metadata": {},
   "outputs": [
    {
     "name": "stdout",
     "output_type": "stream",
     "text": [
      "Epoch 1/3\n",
      "1563/1563 [==============================] - 5s 3ms/step - loss: 0.1287 - Accuracy: 0.9668 - rmse: 7.4058 - val_loss: 0.1048 - val_Accuracy: 0.9732 - val_rmse: 7.4292\n",
      "Epoch 2/3\n",
      "1563/1563 [==============================] - 4s 3ms/step - loss: 0.1166 - Accuracy: 0.9706 - rmse: 7.4149 - val_loss: 0.1077 - val_Accuracy: 0.9751 - val_rmse: 7.4361\n",
      "Epoch 3/3\n",
      "1563/1563 [==============================] - 4s 3ms/step - loss: 0.1079 - Accuracy: 0.9740 - rmse: 7.4202 - val_loss: 0.1079 - val_Accuracy: 0.9764 - val_rmse: 7.4427\n"
     ]
    },
    {
     "data": {
      "text/plain": [
       "<keras.callbacks.History at 0x7efabc19b940>"
      ]
     },
     "execution_count": 7,
     "metadata": {},
     "output_type": "execute_result"
    }
   ],
   "source": [
    "model.compile(optimizer=\"rmsprop\", loss=\"sparse_categorical_crossentropy\", metrics=[\"Accuracy\", RootMeanSquaredError()])\n",
    "model.fit(train_images, train_labels, epochs=3, validation_data=(val_images, val_labels))"
   ]
  },
  {
   "cell_type": "markdown",
   "metadata": {},
   "source": [
    "### Using callbacks"
   ]
  },
  {
   "cell_type": "code",
   "execution_count": 11,
   "metadata": {},
   "outputs": [
    {
     "name": "stdout",
     "output_type": "stream",
     "text": [
      "Epoch 1/3\n",
      "1563/1563 [==============================] - 4s 2ms/step - loss: 0.2956 - Accuracy: 0.9125 - val_loss: 0.1569 - val_Accuracy: 0.9558\n",
      "Epoch 2/3\n",
      "1563/1563 [==============================] - 4s 2ms/step - loss: 0.1662 - Accuracy: 0.9542 - val_loss: 0.1197 - val_Accuracy: 0.9672\n",
      "Epoch 3/3\n",
      "1563/1563 [==============================] - 4s 2ms/step - loss: 0.1374 - Accuracy: 0.9631 - val_loss: 0.1159 - val_Accuracy: 0.9702\n"
     ]
    },
    {
     "data": {
      "text/plain": [
       "<keras.callbacks.History at 0x7efabca275b0>"
      ]
     },
     "execution_count": 11,
     "metadata": {},
     "output_type": "execute_result"
    }
   ],
   "source": [
    "# early stop + checkpointing\n",
    "callback_list = [\n",
    "    keras.callbacks.EarlyStopping(\n",
    "        monitor=\"val_accuracy\", patience=2,\n",
    "    ),\n",
    "    keras.callbacks.ModelCheckpoint(\n",
    "        filepath=\"checkpoint_path.keras\", monitor=\"val_loss\", save_best_only=True\n",
    "    )\n",
    "]\n",
    "\n",
    "model = get_mnist_model()\n",
    "model.compile(optimizer=\"rmsprop\", loss=\"sparse_categorical_crossentropy\", metrics=[\"accuracy\"])\n",
    "model.fit(train_images, train_labels, epochs=3, validation_data=(val_images, val_labels), callbacks=callback_list)"
   ]
  },
  {
   "cell_type": "code",
   "execution_count": 12,
   "metadata": {},
   "outputs": [],
   "source": [
    "# to reload the checkpoint\n",
    "model = keras.models.load_model(\"checkpoint_path.keras\")"
   ]
  },
  {
   "cell_type": "markdown",
   "metadata": {},
   "source": [
    "### Writing your own callbacks"
   ]
  },
  {
   "cell_type": "code",
   "execution_count": 15,
   "metadata": {},
   "outputs": [
    {
     "name": "stdout",
     "output_type": "stream",
     "text": [
      "Epoch 1/3\n",
      "1563/1563 [==============================] - 4s 3ms/step - loss: 0.2943 - accuracy: 0.9129 - val_loss: 0.1664 - val_accuracy: 0.9514\n",
      "Epoch 2/3\n",
      "1563/1563 [==============================] - 4s 3ms/step - loss: 0.1654 - accuracy: 0.9537 - val_loss: 0.1405 - val_accuracy: 0.9617\n",
      "Epoch 3/3\n",
      "1563/1563 [==============================] - 4s 3ms/step - loss: 0.1397 - accuracy: 0.9622 - val_loss: 0.1194 - val_accuracy: 0.9698\n"
     ]
    },
    {
     "data": {
      "text/plain": [
       "<keras.callbacks.History at 0x7efaa2971670>"
      ]
     },
     "execution_count": 15,
     "metadata": {},
     "output_type": "execute_result"
    },
    {
     "data": {
      "image/png": "[encoded data removed]",
      "text/plain": [
       "<Figure size 432x288 with 1 Axes>"
      ]
     },
     "metadata": {
      "needs_background": "light"
     },
     "output_type": "display_data"
    }
   ],
   "source": [
    "from matplotlib import pyplot as plt\n",
    "\n",
    "class LossHistory(keras.callbacks.Callback):\n",
    "    \"\"\"generate a plot with the train loss for each batch\"\"\"\n",
    "    def on_train_begin(self, logs):\n",
    "        self.per_batch_loss=[]\n",
    "\n",
    "    def on_batch_end(self, batch, logs):\n",
    "        self.per_batch_loss.append(logs[\"loss\"])\n",
    "\n",
    "    def on_epoch_end(self, epoch, logs):\n",
    "        plt.clf()\n",
    "        plt.plot(range(len(self.per_batch_loss)), self.per_batch_loss, label=\"Training loss for each batch\")\n",
    "        plt.xlabel(f\"Batch (epoch {epoch})\")\n",
    "        plt.ylabel(\"Loss\")\n",
    "        plt.legend()\n",
    "        plt.savefig(f\"plot_at_epoch_{epoch}\")\n",
    "        self.per_batch_loss.clear()\n",
    "\n",
    "model = get_mnist_model()\n",
    "model.compile(optimizer=\"rmsprop\", loss=\"sparse_categorical_crossentropy\", metrics=[\"accuracy\"])\n",
    "model.fit(train_images, train_labels, epochs=3, validation_data=(val_images, val_labels), callbacks=[LossHistory()])"
   ]
  },
  {
   "cell_type": "markdown",
   "metadata": {},
   "source": [
    "### Tensorboard"
   ]
  },
  {
   "cell_type": "code",
   "execution_count": 17,
   "metadata": {},
   "outputs": [
    {
     "name": "stderr",
     "output_type": "stream",
     "text": [
      "2022-04-30 00:27:13.327240: I tensorflow/core/profiler/lib/profiler_session.cc:131] Profiler session initializing.\n",
      "2022-04-30 00:27:13.327277: I tensorflow/core/profiler/lib/profiler_session.cc:146] Profiler session started.\n",
      "2022-04-30 00:27:13.448961: I tensorflow/core/profiler/lib/profiler_session.cc:164] Profiler session tear down.\n",
      "2022-04-30 00:27:13.451230: I tensorflow/core/profiler/internal/gpu/cupti_tracer.cc:1748] CUPTI activity buffer flushed\n"
     ]
    },
    {
     "name": "stdout",
     "output_type": "stream",
     "text": [
      "Epoch 1/3\n",
      "   3/1563 [..............................] - ETA: 2:46 - loss: 2.2782 - accuracy: 0.2500"
     ]
    },
    {
     "name": "stderr",
     "output_type": "stream",
     "text": [
      "2022-04-30 00:27:14.037001: I tensorflow/core/profiler/lib/profiler_session.cc:131] Profiler session initializing.\n",
      "2022-04-30 00:27:14.037042: I tensorflow/core/profiler/lib/profiler_session.cc:146] Profiler session started.\n",
      "2022-04-30 00:27:14.165941: I tensorflow/core/profiler/lib/profiler_session.cc:66] Profiler session collecting data.\n",
      "2022-04-30 00:27:14.168291: I tensorflow/core/profiler/internal/gpu/cupti_tracer.cc:1748] CUPTI activity buffer flushed\n",
      "2022-04-30 00:27:14.193405: I tensorflow/core/profiler/internal/gpu/cupti_collector.cc:673]  GpuTracer has collected 105 callback api events and 102 activity events. \n",
      "2022-04-30 00:27:14.196303: I tensorflow/core/profiler/lib/profiler_session.cc:164] Profiler session tear down.\n",
      "2022-04-30 00:27:14.200974: I tensorflow/core/profiler/rpc/client/save_profile.cc:136] Creating directory: ./tb_logs/train/plugins/profile/2022_04_30_00_27_14\n",
      "\n",
      "2022-04-30 00:27:14.203057: I tensorflow/core/profiler/rpc/client/save_profile.cc:142] Dumped gzipped tool data for trace.json.gz to ./tb_logs/train/plugins/profile/2022_04_30_00_27_14/2d520e901841.trace.json.gz\n",
      "2022-04-30 00:27:14.219773: I tensorflow/core/profiler/rpc/client/save_profile.cc:136] Creating directory: ./tb_logs/train/plugins/profile/2022_04_30_00_27_14\n",
      "\n",
      "2022-04-30 00:27:14.220451: I tensorflow/core/profiler/rpc/client/save_profile.cc:142] Dumped gzipped tool data for memory_profile.json.gz to ./tb_logs/train/plugins/profile/2022_04_30_00_27_14/2d520e901841.memory_profile.json.gz\n",
      "2022-04-30 00:27:14.220814: I tensorflow/core/profiler/rpc/client/capture_profile.cc:251] Creating directory: ./tb_logs/train/plugins/profile/2022_04_30_00_27_14\n",
      "Dumped tool data for xplane.pb to ./tb_logs/train/plugins/profile/2022_04_30_00_27_14/2d520e901841.xplane.pb\n",
      "Dumped tool data for overview_page.pb to ./tb_logs/train/plugins/profile/2022_04_30_00_27_14/2d520e901841.overview_page.pb\n",
      "Dumped tool data for input_pipeline.pb to ./tb_logs/train/plugins/profile/2022_04_30_00_27_14/2d520e901841.input_pipeline.pb\n",
      "Dumped tool data for tensorflow_stats.pb to ./tb_logs/train/plugins/profile/2022_04_30_00_27_14/2d520e901841.tensorflow_stats.pb\n",
      "Dumped tool data for kernel_stats.pb to ./tb_logs/train/plugins/profile/2022_04_30_00_27_14/2d520e901841.kernel_stats.pb\n",
      "\n"
     ]
    },
    {
     "name": "stdout",
     "output_type": "stream",
     "text": [
      "1563/1563 [==============================] - 4s 3ms/step - loss: 0.2970 - accuracy: 0.9117 - val_loss: 0.1601 - val_accuracy: 0.9550\n",
      "Epoch 2/3\n",
      "1563/1563 [==============================] - 4s 2ms/step - loss: 0.1702 - accuracy: 0.9524 - val_loss: 0.1273 - val_accuracy: 0.9643\n",
      "Epoch 3/3\n",
      "1563/1563 [==============================] - 4s 2ms/step - loss: 0.1405 - accuracy: 0.9634 - val_loss: 0.1212 - val_accuracy: 0.9691\n"
     ]
    },
    {
     "data": {
      "text/plain": [
       "<keras.callbacks.History at 0x7efaa1bd88e0>"
      ]
     },
     "execution_count": 17,
     "metadata": {},
     "output_type": "execute_result"
    }
   ],
   "source": [
    "model = get_mnist_model()\n",
    "model.compile(optimizer=\"rmsprop\", loss=\"sparse_categorical_crossentropy\", metrics=[\"accuracy\"])\n",
    "tensorboard = keras.callbacks.TensorBoard(log_dir=\"./tb_logs\")\n",
    "model.fit(train_images, train_labels, epochs=3, validation_data=(val_images, val_labels), callbacks=[tensorboard])"
   ]
  },
  {
   "cell_type": "markdown",
   "metadata": {},
   "source": [
    "## Writing your own training and evaluation loops"
   ]
  },
  {
   "cell_type": "markdown",
   "metadata": {},
   "source": [
    "### training vs inference"
   ]
  },
  {
   "cell_type": "code",
   "execution_count": 30,
   "metadata": {},
   "outputs": [],
   "source": [
    "# training step pseudo-code\n",
    "def training_step(inputs, targets):\n",
    "    with tf.GradientTape() as tape:\n",
    "        predictions = model(\n",
    "            inputs, \n",
    "            training=True #puts layers (like Fropout) in training norm\n",
    "            )\n",
    "        loss = loss_fn(targets, predictions)\n",
    "        gradients = tape.gradient(\n",
    "            loss, \n",
    "            model.trainable_weights #instead of model weights, to exclude non-trainable weights like BatchNorm moving averages\n",
    "            )\n",
    "        optimizer.apply_gradients(zip(model.trainable_weights, gradients))"
   ]
  },
  {
   "cell_type": "markdown",
   "metadata": {},
   "source": [
    "### low-level usage of metrics"
   ]
  },
  {
   "cell_type": "code",
   "execution_count": 18,
   "metadata": {},
   "outputs": [
    {
     "name": "stdout",
     "output_type": "stream",
     "text": [
      "current_result = <tf.Tensor: shape=(), dtype=float32, numpy=1.0>\n"
     ]
    }
   ],
   "source": [
    "metrics = keras.metrics.SparseCategoricalAccuracy()\n",
    "targets = [0, 1, 2]\n",
    "predictions = [[1, 0, 0], [0, 1, 0], [0, 0, 1]]\n",
    "metrics.update_state(targets, predictions)\n",
    "current_result = metrics.result()\n",
    "print(f\"{current_result = }\")"
   ]
  },
  {
   "cell_type": "code",
   "execution_count": 19,
   "metadata": {},
   "outputs": [
    {
     "name": "stdout",
     "output_type": "stream",
     "text": [
      "mean_tracker.result() = <tf.Tensor: shape=(), dtype=float32, numpy=2.0>\n"
     ]
    }
   ],
   "source": [
    "values = [0, 1, 2, 3, 4]\n",
    "mean_tracker = keras.metrics.Mean()\n",
    "for value in values:\n",
    "    mean_tracker.update_state(value)\n",
    "\n",
    "print(f\"{mean_tracker.result() = }\")"
   ]
  },
  {
   "cell_type": "markdown",
   "metadata": {},
   "source": [
    "remember to call `metric.reset_state()` when you want to reset (start of epoch or start of eval)"
   ]
  },
  {
   "cell_type": "markdown",
   "metadata": {},
   "source": [
    "### Complete training and evaluation loop"
   ]
  },
  {
   "cell_type": "code",
   "execution_count": 31,
   "metadata": {},
   "outputs": [],
   "source": [
    "model = get_mnist_model()\n",
    "loss_fn = keras.losses.SparseCategoricalCrossentropy()\n",
    "optimizer = keras.optimizers.RMSprop()\n",
    "metrics = [keras.metrics.SparseCategoricalAccuracy()]\n",
    "loss_tracking_metrics = keras.metrics.Mean()\n",
    "\n",
    "@tf.function\n",
    "def train_step(inputs, targets):\n",
    "    with tf.GradientTape() as tape:\n",
    "        predictions = model(inputs, training=True)\n",
    "        loss = loss_fn(targets, predictions)\n",
    "\n",
    "    gradients = tape.gradient(loss, model.trainable_weights)\n",
    "    optimizer.apply_gradients(zip(gradients, model.trainable_weights))\n",
    "\n",
    "    logs = {}\n",
    "    for metric in metrics:\n",
    "        metric.update_state(targets, predictions)\n",
    "        logs[metric.name] = metric.result()\n",
    "\n",
    "    loss_tracking_metrics.update_state(loss)\n",
    "    logs[\"loss\"] = loss_tracking_metrics.result()\n",
    "    return logs\n",
    "\n",
    "def reset_metrics():\n",
    "    \"\"\"Utility script to reset all metrics\"\"\"\n",
    "    for metric in metrics:\n",
    "        metric.reset_state()\n",
    "    loss_tracking_metrics.reset_state()\n"
   ]
  },
  {
   "cell_type": "code",
   "execution_count": 32,
   "metadata": {},
   "outputs": [
    {
     "name": "stdout",
     "output_type": "stream",
     "text": [
      "Results at the end of epoch 0: \n",
      "...sparse_categorical_accuracy: 0.9153\n",
      "...loss: 0.2872\n",
      "Results at the end of epoch 1: \n",
      "...sparse_categorical_accuracy: 0.9546\n",
      "...loss: 0.1637\n",
      "Results at the end of epoch 2: \n",
      "...sparse_categorical_accuracy: 0.9631\n",
      "...loss: 0.1402\n"
     ]
    }
   ],
   "source": [
    "training_ds = tf.data.Dataset.from_tensor_slices((train_images, train_labels)).batch(32)\n",
    "epochs = 3\n",
    "\n",
    "for epoch in range(epochs):\n",
    "    reset_metrics()\n",
    "    for inputs_batch, targets_batch in training_ds:\n",
    "        logs = train_step(inputs_batch, targets_batch)\n",
    "    print(f\"Results at the end of epoch {epoch}: \")\n",
    "    for key, value in logs.items():\n",
    "        print(f\"...{key}: {value:.4f}\")\n"
   ]
  },
  {
   "cell_type": "markdown",
   "metadata": {},
   "source": [
    "### Make it fast with tf.function"
   ]
  },
  {
   "cell_type": "markdown",
   "metadata": {},
   "source": [
    "Notice that manual loop took 52.6s while the previous `.fit` ones were taking 12s. Go back and add `@tf.function` to compile it. Now it took 7.3s !!!! :brain-explodes:"
   ]
  },
  {
   "cell_type": "markdown",
   "metadata": {},
   "source": [
    "### Leveraging fit() with a custom training loop"
   ]
  },
  {
   "cell_type": "markdown",
   "metadata": {},
   "source": [
    "Create a new class that subclasses keras.Model, override `train_step` method (and maybe the `metrics` property if you won't mass metrics to compile), and instantiate it functional-API style"
   ]
  },
  {
   "cell_type": "code",
   "execution_count": 35,
   "metadata": {},
   "outputs": [],
   "source": [
    "loss_fn = keras.losses.SparseCategoricalCrossentropy()\n",
    "loss_tracker = keras.metrics.Mean(name=\"loss\")\n",
    "\n",
    "class CustomModel(keras.Model):\n",
    "    def train_step(self, data):\n",
    "        inputs, targets = data\n",
    "        with tf.GradientTape() as tape:\n",
    "            predictions = self(inputs, training=True)\n",
    "            loss = loss_fn(targets, predictions)\n",
    "\n",
    "        gradients = tape.gradient(loss, model.trainable_weights)\n",
    "        optimizer.apply_gradients(zip(gradients, model.trainable_weights))\n",
    "\n",
    "        loss_tracker.update_state(loss)\n",
    "        return {\"loss\": loss_tracker.result()}\n",
    "\n",
    "    @property\n",
    "    def metrics(self):\n",
    "        \"\"\"\n",
    "        you need to pass the metrics you want reset this if you don't pass metrics to compole\n",
    "        \"\"\"\n",
    "        return [loss_tracker]"
   ]
  },
  {
   "cell_type": "code",
   "execution_count": 36,
   "metadata": {},
   "outputs": [
    {
     "name": "stdout",
     "output_type": "stream",
     "text": [
      "Epoch 1/3\n",
      "1563/1563 [==============================] - 3s 2ms/step - loss: 0.2946\n",
      "Epoch 2/3\n",
      "1563/1563 [==============================] - 3s 2ms/step - loss: 0.1651\n",
      "Epoch 3/3\n",
      "1563/1563 [==============================] - 3s 2ms/step - loss: 0.1371\n"
     ]
    },
    {
     "data": {
      "text/plain": [
       "<keras.callbacks.History at 0x7efaa066afa0>"
      ]
     },
     "execution_count": 36,
     "metadata": {},
     "output_type": "execute_result"
    }
   ],
   "source": [
    "inputs = keras.Input(shape= (28 * 28, ))\n",
    "features = layers.Dense(515, activation=\"relu\")(inputs)\n",
    "features = layers.Dropout(.5)(features)\n",
    "outputs = layers.Dense(10, activation=\"softmax\")(features)\n",
    "model = CustomModel(inputs, outputs)\n",
    "\n",
    "model.compile(optimizer=\"rmsprop\") #we already defined loss and metrics in the CustomModel\n",
    "model.fit(train_images, train_labels, epochs=3)"
   ]
  },
  {
   "cell_type": "markdown",
   "metadata": {},
   "source": [
    "after you call compile(), you get access to:\n",
    "- `self.compiled_loss`\n",
    "- `self.compiled_metrics` wrapper around the list of metrics, you can do self.compiled_metrics.update_state() to update all\n",
    "- `self.metrics` actual list of metrics you passed to compile. It also includes the metric to track the loss."
   ]
  },
  {
   "cell_type": "code",
   "execution_count": 41,
   "metadata": {},
   "outputs": [],
   "source": [
    "class CustomModel(keras.Model):\n",
    "    def train_step(self, data):\n",
    "        inputs, targets = data\n",
    "        with tf.GradientTape() as tape:\n",
    "            predictions = self(inputs, training=True)\n",
    "            loss = self.compiled_loss(targets, predictions) # <------\n",
    "\n",
    "        gradients = tape.gradient(loss, model.trainable_weights)\n",
    "        optimizer.apply_gradients(zip(gradients, model.trainable_weights))\n",
    "        self.compiled_metrics.update_state(targets, predictions) # <-----\n",
    "        return {m.name: m.result() for m in self.metrics} # < -------"
   ]
  },
  {
   "cell_type": "code",
   "execution_count": 42,
   "metadata": {},
   "outputs": [
    {
     "name": "stdout",
     "output_type": "stream",
     "text": [
      "Epoch 1/3\n",
      "1563/1563 [==============================] - 4s 2ms/step - loss: 0.2948 - accuracy: 0.9122\n",
      "Epoch 2/3\n",
      "1563/1563 [==============================] - 3s 2ms/step - loss: 0.1606 - accuracy: 0.9551\n",
      "Epoch 3/3\n",
      "1563/1563 [==============================] - 3s 2ms/step - loss: 0.1391 - accuracy: 0.9626\n"
     ]
    },
    {
     "data": {
      "text/plain": [
       "<keras.callbacks.History at 0x7efaa2867a60>"
      ]
     },
     "execution_count": 42,
     "metadata": {},
     "output_type": "execute_result"
    }
   ],
   "source": [
    "inputs = keras.Input(shape= (28 * 28, ))\n",
    "features = layers.Dense(515, activation=\"relu\")(inputs)\n",
    "features = layers.Dropout(.5)(features)\n",
    "outputs = layers.Dense(10, activation=\"softmax\")(features)\n",
    "model = CustomModel(inputs, outputs)\n",
    "\n",
    "model.compile(optimizer=\"rmsprop\", loss=\"sparse_categorical_crossentropy\", metrics=[\"accuracy\"])\n",
    "model.fit(train_images, train_labels, epochs=3)"
   ]
  },
  {
   "cell_type": "code",
   "execution_count": null,
   "metadata": {},
   "outputs": [],
   "source": []
  }
 ],
 "metadata": {
  "interpreter": {
   "hash": "916dbcbb3f70747c44a77c7bcd40155683ae19c65e1c03b4aa3499c5328201f1"
  },
  "kernelspec": {
   "display_name": "Python 3.8.10 64-bit",
   "language": "python",
   "name": "python3"
  },
  "language_info": {
   "codemirror_mode": {
    "name": "ipython",
    "version": 3
   },
   "file_extension": ".py",
   "mimetype": "text/x-python",
   "name": "python",
   "nbconvert_exporter": "python",
   "pygments_lexer": "ipython3",
   "version": "3.8.10"
  },
  "orig_nbformat": 4
 },
 "nbformat": 4,
 "nbformat_minor": 2
}
