{
 "cells": [
  {
   "cell_type": "code",
   "execution_count": 1,
   "metadata": {},
   "outputs": [
    {
     "name": "stdout",
     "output_type": "stream",
     "text": [
      "tf.__version__ = '2.6.1'\n"
     ]
    }
   ],
   "source": [
    "# imports\n",
    "import tensorflow as tf\n",
    "from tensorflow import keras\n",
    "from tensorflow.keras import layers\n",
    "\n",
    "\n",
    "print(f\"{tf.__version__ = }\")"
   ]
  },
  {
   "cell_type": "code",
   "execution_count": 2,
   "metadata": {},
   "outputs": [
    {
     "name": "stdout",
     "output_type": "stream",
     "text": [
      "n_gpus = 1\n"
     ]
    }
   ],
   "source": [
    "n_gpus = len(tf.config.list_physical_devices(\"GPU\"))\n",
    "print(f\"{n_gpus = }\")"
   ]
  },
  {
   "cell_type": "markdown",
   "metadata": {},
   "source": [
    "## 1. Classifying movie reviews: Binary classification"
   ]
  },
  {
   "cell_type": "code",
   "execution_count": 3,
   "metadata": {},
   "outputs": [
    {
     "name": "stdout",
     "output_type": "stream",
     "text": [
      "Downloading data from https://storage.googleapis.com/tensorflow/tf-keras-datasets/imdb.npz\n",
      "17465344/17464789 [==============================] - 0s 0us/step\n",
      "17473536/17464789 [==============================] - 0s 0us/step\n"
     ]
    }
   ],
   "source": [
    "# load pre-processed imdb\n",
    "\n",
    "from keras.datasets import imdb\n",
    "\n",
    "(train_data, train_labels), (test_data, test_labels) = imdb.load_data(num_words=10_000)"
   ]
  },
  {
   "cell_type": "code",
   "execution_count": 4,
   "metadata": {},
   "outputs": [
    {
     "name": "stdout",
     "output_type": "stream",
     "text": [
      "len(train_data[0]) = 218\n",
      "train_data[0][:10] = [1, 14, 22, 16, 43, 530, 973, 1622, 1385, 65]\n",
      "train_labels[0] = 1\n"
     ]
    }
   ],
   "source": [
    "print(f\"{len(train_data[0]) = }\")\n",
    "print(f\"{train_data[0][:10] = }\")\n",
    "print(f\"{train_labels[0] = }\")"
   ]
  },
  {
   "cell_type": "code",
   "execution_count": 5,
   "metadata": {},
   "outputs": [
    {
     "name": "stdout",
     "output_type": "stream",
     "text": [
      "i = 0: sample_len = 218\n",
      "i = 1: sample_len = 189\n",
      "i = 2: sample_len = 141\n",
      "i = 3: sample_len = 550\n",
      "i = 4: sample_len = 147\n"
     ]
    }
   ],
   "source": [
    "for i in range(5):\n",
    "    sample_len = len(train_data[i])\n",
    "    print(f\"{i = }: {sample_len = }\")"
   ]
  },
  {
   "cell_type": "code",
   "execution_count": 2,
   "metadata": {},
   "outputs": [],
   "source": [
    "import numpy as np\n",
    "from typing import List\n",
    "\n",
    "def multi_hot_encode(sequences: List[List], dimension: int = 10_000):\n",
    "    results = np.zeros(shape=(len(sequences), dimension))\n",
    "\n",
    "    for i, seq in enumerate(sequences):\n",
    "        results[i, seq] = 1.\n",
    "    \n",
    "    return results\n"
   ]
  },
  {
   "cell_type": "code",
   "execution_count": 7,
   "metadata": {},
   "outputs": [],
   "source": [
    "x_train = multi_hot_encode(train_data)\n",
    "x_test = multi_hot_encode(test_data)"
   ]
  },
  {
   "cell_type": "code",
   "execution_count": 8,
   "metadata": {},
   "outputs": [],
   "source": [
    "# also vectorize labels\n",
    "y_train = np.asarray(train_labels).astype(\"float32\") \n",
    "y_test = np.asarray(test_labels).astype(\"float32\") "
   ]
  },
  {
   "cell_type": "code",
   "execution_count": 29,
   "metadata": {},
   "outputs": [],
   "source": [
    "# build 3 layer model\n",
    "def get_model(*, n_representation_layers=3, n_units=16, intermediate_activation=\"relu\", loss=\"binary_crossentropy\"):\n",
    "    \n",
    "    # representation layers\n",
    "    layer_list = n_representation_layers * [layers.Dense(n_units, activation=intermediate_activation)]\n",
    "\n",
    "    # final layer\n",
    "    layer_list.append(layers.Dense(1, activation=\"sigmoid\"))\n",
    "    \n",
    "    model = keras.Sequential(layer_list)\n",
    "    model.compile(\n",
    "        optimizer=\"rmsprop\",\n",
    "        loss=loss,\n",
    "        metrics=[\"accuracy\"]\n",
    "    )\n",
    "\n",
    "    return model\n",
    "\n",
    "model = get_model()"
   ]
  },
  {
   "cell_type": "code",
   "execution_count": 12,
   "metadata": {},
   "outputs": [],
   "source": [
    "# create validation set\n",
    "\n",
    "x_val = x_train[:10_000]\n",
    "partial_x_train = x_train[10_000:]\n",
    "y_val = y_train[:10_000]\n",
    "partial_y_train = y_train[10_000:]"
   ]
  },
  {
   "cell_type": "code",
   "execution_count": 13,
   "metadata": {},
   "outputs": [
    {
     "name": "stderr",
     "output_type": "stream",
     "text": [
      "2022-03-02 01:45:33.775739: I tensorflow/compiler/mlir/mlir_graph_optimization_pass.cc:185] None of the MLIR Optimization Passes are enabled (registered 2)\n"
     ]
    },
    {
     "name": "stdout",
     "output_type": "stream",
     "text": [
      "Epoch 1/20\n",
      "30/30 [==============================] - 7s 35ms/step - loss: 0.5146 - accuracy: 0.7903 - val_loss: 0.4406 - val_accuracy: 0.8021\n",
      "Epoch 2/20\n",
      "30/30 [==============================] - 0s 10ms/step - loss: 0.3181 - accuracy: 0.9010 - val_loss: 0.3120 - val_accuracy: 0.8891\n",
      "Epoch 3/20\n",
      "30/30 [==============================] - 0s 10ms/step - loss: 0.2349 - accuracy: 0.9245 - val_loss: 0.2829 - val_accuracy: 0.8898\n",
      "Epoch 4/20\n",
      "30/30 [==============================] - 0s 10ms/step - loss: 0.1844 - accuracy: 0.9423 - val_loss: 0.2741 - val_accuracy: 0.8907\n",
      "Epoch 5/20\n",
      "30/30 [==============================] - 0s 11ms/step - loss: 0.1494 - accuracy: 0.9543 - val_loss: 0.2809 - val_accuracy: 0.8877\n",
      "Epoch 6/20\n",
      "30/30 [==============================] - 0s 10ms/step - loss: 0.1232 - accuracy: 0.9619 - val_loss: 0.2896 - val_accuracy: 0.8888\n",
      "Epoch 7/20\n",
      "30/30 [==============================] - 0s 13ms/step - loss: 0.1048 - accuracy: 0.9681 - val_loss: 0.3028 - val_accuracy: 0.8850\n",
      "Epoch 8/20\n",
      "30/30 [==============================] - 0s 10ms/step - loss: 0.0873 - accuracy: 0.9746 - val_loss: 0.3533 - val_accuracy: 0.8706\n",
      "Epoch 9/20\n",
      "30/30 [==============================] - 0s 13ms/step - loss: 0.0748 - accuracy: 0.9803 - val_loss: 0.3437 - val_accuracy: 0.8819\n",
      "Epoch 10/20\n",
      "30/30 [==============================] - 0s 9ms/step - loss: 0.0610 - accuracy: 0.9851 - val_loss: 0.3719 - val_accuracy: 0.8718\n",
      "Epoch 11/20\n",
      "30/30 [==============================] - 0s 13ms/step - loss: 0.0518 - accuracy: 0.9877 - val_loss: 0.4172 - val_accuracy: 0.8748\n",
      "Epoch 12/20\n",
      "30/30 [==============================] - 0s 10ms/step - loss: 0.0405 - accuracy: 0.9922 - val_loss: 0.4125 - val_accuracy: 0.8758\n",
      "Epoch 13/20\n",
      "30/30 [==============================] - 0s 12ms/step - loss: 0.0349 - accuracy: 0.9930 - val_loss: 0.4584 - val_accuracy: 0.8749\n",
      "Epoch 14/20\n",
      "30/30 [==============================] - 0s 10ms/step - loss: 0.0281 - accuracy: 0.9945 - val_loss: 0.4701 - val_accuracy: 0.8717\n",
      "Epoch 15/20\n",
      "30/30 [==============================] - 0s 12ms/step - loss: 0.0227 - accuracy: 0.9960 - val_loss: 0.5035 - val_accuracy: 0.8729\n",
      "Epoch 16/20\n",
      "30/30 [==============================] - 0s 10ms/step - loss: 0.0183 - accuracy: 0.9963 - val_loss: 0.5368 - val_accuracy: 0.8727\n",
      "Epoch 17/20\n",
      "30/30 [==============================] - 0s 12ms/step - loss: 0.0172 - accuracy: 0.9962 - val_loss: 0.5609 - val_accuracy: 0.8689\n",
      "Epoch 18/20\n",
      "30/30 [==============================] - 0s 9ms/step - loss: 0.0089 - accuracy: 0.9995 - val_loss: 0.6165 - val_accuracy: 0.8689\n",
      "Epoch 19/20\n",
      "30/30 [==============================] - 0s 13ms/step - loss: 0.0101 - accuracy: 0.9987 - val_loss: 0.6196 - val_accuracy: 0.8677\n",
      "Epoch 20/20\n",
      "30/30 [==============================] - 0s 9ms/step - loss: 0.0071 - accuracy: 0.9995 - val_loss: 0.6582 - val_accuracy: 0.8668\n"
     ]
    }
   ],
   "source": [
    "history = model.fit(\n",
    "    partial_x_train,\n",
    "    partial_y_train,\n",
    "    epochs=20,\n",
    "    batch_size=512,\n",
    "    validation_data=(x_val, y_val),\n",
    ")"
   ]
  },
  {
   "cell_type": "code",
   "execution_count": 16,
   "metadata": {},
   "outputs": [],
   "source": [
    "# plot train and val losses\n",
    "import matplotlib.pyplot as plt\n",
    "def plot_history(history: keras.callbacks.History, variable_name: str):\n",
    "    history_dict = history.history\n",
    "\n",
    "    train_values = history_dict[variable_name]\n",
    "    val_values = history_dict[f\"val_{variable_name}\"]\n",
    "    epochs = range(1, len(train_values) + 1)\n",
    "\n",
    "    plt.figure()\n",
    "    plt.plot(epochs, train_values, \"bo\", label=f\"Training {variable_name}\")\n",
    "    plt.plot(epochs, val_values, \"b\", label=f\"Validation {variable_name}\")\n",
    "    plt.title(f\"Training and validation {variable_name}\")\n",
    "    plt.xlabel(\"Epochs\")\n",
    "    plt.ylabel(f\"{variable_name}\")\n",
    "    plt.legend()\n",
    "    plt.show()\n"
   ]
  },
  {
   "cell_type": "code",
   "execution_count": 18,
   "metadata": {},
   "outputs": [
    {
     "data": {
      "image/png": "[encoded data removed]",
      "text/plain": [
       "<Figure size 432x288 with 1 Axes>"
      ]
     },
     "metadata": {
      "needs_background": "light"
     },
     "output_type": "display_data"
    }
   ],
   "source": [
    "\n",
    "plot_history(history, \"loss\")\n"
   ]
  },
  {
   "cell_type": "code",
   "execution_count": 19,
   "metadata": {},
   "outputs": [
    {
     "data": {
      "image/png": "[encoded data removed]",
      "text/plain": [
       "<Figure size 432x288 with 1 Axes>"
      ]
     },
     "metadata": {
      "needs_background": "light"
     },
     "output_type": "display_data"
    }
   ],
   "source": [
    "plot_history(history, \"accuracy\")"
   ]
  },
  {
   "cell_type": "markdown",
   "metadata": {},
   "source": [
    "model is clearly overfitting. For now, just re-init and train on full data for just 4 epochs"
   ]
  },
  {
   "cell_type": "code",
   "execution_count": 25,
   "metadata": {},
   "outputs": [
    {
     "name": "stdout",
     "output_type": "stream",
     "text": [
      "Epoch 1/4\n",
      "49/49 [==============================] - 1s 6ms/step - loss: 0.4430 - accuracy: 0.8200\n",
      "Epoch 2/4\n",
      "49/49 [==============================] - 0s 6ms/step - loss: 0.2563 - accuracy: 0.9104\n",
      "Epoch 3/4\n",
      "49/49 [==============================] - 0s 6ms/step - loss: 0.1976 - accuracy: 0.9288\n",
      "Epoch 4/4\n",
      "49/49 [==============================] - 0s 6ms/step - loss: 0.1685 - accuracy: 0.9392\n",
      "782/782 [==============================] - 2s 2ms/step - loss: 0.2975 - accuracy: 0.8819\n"
     ]
    }
   ],
   "source": [
    "model = get_model()\n",
    "model.fit(x_train, y_train, epochs=4, batch_size=512)\n",
    "results = model.evaluate(x_test, y_test)"
   ]
  },
  {
   "cell_type": "code",
   "execution_count": 26,
   "metadata": {},
   "outputs": [
    {
     "name": "stdout",
     "output_type": "stream",
     "text": [
      "results = [0.29747629165649414, 0.881879985332489]\n"
     ]
    }
   ],
   "source": [
    "print(f\"{results = }\")"
   ]
  },
  {
   "cell_type": "markdown",
   "metadata": {},
   "source": [
    "### Additional experiments"
   ]
  },
  {
   "cell_type": "code",
   "execution_count": 31,
   "metadata": {},
   "outputs": [
    {
     "name": "stdout",
     "output_type": "stream",
     "text": [
      "Epoch 1/20\n",
      "30/30 [==============================] - 1s 36ms/step - loss: 0.1628 - accuracy: 0.7862 - val_loss: 0.1155 - val_accuracy: 0.8761\n",
      "Epoch 2/20\n",
      "30/30 [==============================] - 0s 10ms/step - loss: 0.0899 - accuracy: 0.9078 - val_loss: 0.0948 - val_accuracy: 0.8903\n",
      "Epoch 3/20\n",
      "30/30 [==============================] - 0s 11ms/step - loss: 0.0673 - accuracy: 0.9300 - val_loss: 0.0872 - val_accuracy: 0.8891\n",
      "Epoch 4/20\n",
      "30/30 [==============================] - 0s 10ms/step - loss: 0.0557 - accuracy: 0.9423 - val_loss: 0.0844 - val_accuracy: 0.8905\n",
      "Epoch 5/20\n",
      "30/30 [==============================] - 0s 13ms/step - loss: 0.0458 - accuracy: 0.9541 - val_loss: 0.0837 - val_accuracy: 0.8882\n",
      "Epoch 6/20\n",
      "30/30 [==============================] - 0s 9ms/step - loss: 0.0386 - accuracy: 0.9661 - val_loss: 0.0831 - val_accuracy: 0.8893\n",
      "Epoch 7/20\n",
      "30/30 [==============================] - 0s 13ms/step - loss: 0.0340 - accuracy: 0.9684 - val_loss: 0.0858 - val_accuracy: 0.8824\n",
      "Epoch 8/20\n",
      "30/30 [==============================] - 0s 9ms/step - loss: 0.0292 - accuracy: 0.9760 - val_loss: 0.0866 - val_accuracy: 0.8814\n",
      "Epoch 9/20\n",
      "30/30 [==============================] - 0s 13ms/step - loss: 0.0256 - accuracy: 0.9784 - val_loss: 0.0869 - val_accuracy: 0.8809\n",
      "Epoch 10/20\n",
      "30/30 [==============================] - 0s 9ms/step - loss: 0.0219 - accuracy: 0.9835 - val_loss: 0.0878 - val_accuracy: 0.8794\n",
      "Epoch 11/20\n",
      "30/30 [==============================] - 0s 13ms/step - loss: 0.0198 - accuracy: 0.9851 - val_loss: 0.0941 - val_accuracy: 0.8749\n",
      "Epoch 12/20\n",
      "30/30 [==============================] - 0s 9ms/step - loss: 0.0170 - accuracy: 0.9883 - val_loss: 0.0908 - val_accuracy: 0.8783\n",
      "Epoch 13/20\n",
      "30/30 [==============================] - 0s 13ms/step - loss: 0.0148 - accuracy: 0.9903 - val_loss: 0.0934 - val_accuracy: 0.8749\n",
      "Epoch 14/20\n",
      "30/30 [==============================] - 0s 9ms/step - loss: 0.0134 - accuracy: 0.9910 - val_loss: 0.0940 - val_accuracy: 0.8762\n",
      "Epoch 15/20\n",
      "30/30 [==============================] - 0s 14ms/step - loss: 0.0113 - accuracy: 0.9932 - val_loss: 0.0964 - val_accuracy: 0.8722\n",
      "Epoch 16/20\n",
      "30/30 [==============================] - 0s 9ms/step - loss: 0.0105 - accuracy: 0.9935 - val_loss: 0.0981 - val_accuracy: 0.8713\n",
      "Epoch 17/20\n",
      "30/30 [==============================] - 0s 13ms/step - loss: 0.0091 - accuracy: 0.9946 - val_loss: 0.1001 - val_accuracy: 0.8720\n",
      "Epoch 18/20\n",
      "30/30 [==============================] - 0s 9ms/step - loss: 0.0080 - accuracy: 0.9951 - val_loss: 0.1010 - val_accuracy: 0.8691\n",
      "Epoch 19/20\n",
      "30/30 [==============================] - 0s 13ms/step - loss: 0.0069 - accuracy: 0.9961 - val_loss: 0.1029 - val_accuracy: 0.8682\n",
      "Epoch 20/20\n",
      "30/30 [==============================] - 0s 9ms/step - loss: 0.0062 - accuracy: 0.9967 - val_loss: 0.1043 - val_accuracy: 0.8661\n"
     ]
    },
    {
     "data": {
      "image/png": "[encoded data removed]",
      "text/plain": [
       "<Figure size 432x288 with 1 Axes>"
      ]
     },
     "metadata": {
      "needs_background": "light"
     },
     "output_type": "display_data"
    },
    {
     "data": {
      "image/png": "[encoded data removed]",
      "text/plain": [
       "<Figure size 432x288 with 1 Axes>"
      ]
     },
     "metadata": {
      "needs_background": "light"
     },
     "output_type": "display_data"
    }
   ],
   "source": [
    "# mse as loss\n",
    "model = get_model(loss=\"mse\")\n",
    "\n",
    "history = model.fit(\n",
    "    partial_x_train,\n",
    "    partial_y_train,\n",
    "    epochs=20,\n",
    "    batch_size=512,\n",
    "    validation_data=(x_val, y_val),\n",
    ")\n",
    "\n",
    "plot_history(history, 'loss')\n",
    "plot_history(history, 'accuracy')"
   ]
  },
  {
   "cell_type": "code",
   "execution_count": 33,
   "metadata": {},
   "outputs": [
    {
     "name": "stdout",
     "output_type": "stream",
     "text": [
      "Epoch 1/20\n",
      "30/30 [==============================] - 1s 33ms/step - loss: 0.4938 - accuracy: 0.7953 - val_loss: 0.3866 - val_accuracy: 0.8751\n",
      "Epoch 2/20\n",
      "30/30 [==============================] - 0s 9ms/step - loss: 0.3146 - accuracy: 0.9038 - val_loss: 0.3168 - val_accuracy: 0.8874\n",
      "Epoch 3/20\n",
      "30/30 [==============================] - 0s 10ms/step - loss: 0.2430 - accuracy: 0.9246 - val_loss: 0.2907 - val_accuracy: 0.8875\n",
      "Epoch 4/20\n",
      "30/30 [==============================] - 0s 9ms/step - loss: 0.1981 - accuracy: 0.9399 - val_loss: 0.2754 - val_accuracy: 0.8902\n",
      "Epoch 5/20\n",
      "30/30 [==============================] - 0s 14ms/step - loss: 0.1661 - accuracy: 0.9507 - val_loss: 0.2708 - val_accuracy: 0.8910\n",
      "Epoch 6/20\n",
      "30/30 [==============================] - 0s 11ms/step - loss: 0.1422 - accuracy: 0.9585 - val_loss: 0.2733 - val_accuracy: 0.8892\n",
      "Epoch 7/20\n",
      "30/30 [==============================] - 0s 11ms/step - loss: 0.1225 - accuracy: 0.9655 - val_loss: 0.2820 - val_accuracy: 0.8864\n",
      "Epoch 8/20\n",
      "30/30 [==============================] - 0s 9ms/step - loss: 0.1063 - accuracy: 0.9695 - val_loss: 0.2870 - val_accuracy: 0.8863\n",
      "Epoch 9/20\n",
      "30/30 [==============================] - 0s 13ms/step - loss: 0.0915 - accuracy: 0.9769 - val_loss: 0.3172 - val_accuracy: 0.8763\n",
      "Epoch 10/20\n",
      "30/30 [==============================] - 0s 9ms/step - loss: 0.0800 - accuracy: 0.9801 - val_loss: 0.3237 - val_accuracy: 0.8777\n",
      "Epoch 11/20\n",
      "30/30 [==============================] - 0s 14ms/step - loss: 0.0689 - accuracy: 0.9837 - val_loss: 0.3257 - val_accuracy: 0.8793\n",
      "Epoch 12/20\n",
      "30/30 [==============================] - 0s 9ms/step - loss: 0.0598 - accuracy: 0.9862 - val_loss: 0.3559 - val_accuracy: 0.8725\n",
      "Epoch 13/20\n",
      "30/30 [==============================] - 0s 13ms/step - loss: 0.0504 - accuracy: 0.9899 - val_loss: 0.3673 - val_accuracy: 0.8722\n",
      "Epoch 14/20\n",
      "30/30 [==============================] - 0s 9ms/step - loss: 0.0438 - accuracy: 0.9918 - val_loss: 0.3799 - val_accuracy: 0.8769\n",
      "Epoch 15/20\n",
      "30/30 [==============================] - 0s 13ms/step - loss: 0.0370 - accuracy: 0.9939 - val_loss: 0.4059 - val_accuracy: 0.8748\n",
      "Epoch 16/20\n",
      "30/30 [==============================] - 0s 9ms/step - loss: 0.0326 - accuracy: 0.9945 - val_loss: 0.4198 - val_accuracy: 0.8741\n",
      "Epoch 17/20\n",
      "30/30 [==============================] - 0s 13ms/step - loss: 0.0272 - accuracy: 0.9959 - val_loss: 0.4437 - val_accuracy: 0.8687\n",
      "Epoch 18/20\n",
      "30/30 [==============================] - 0s 9ms/step - loss: 0.0231 - accuracy: 0.9966 - val_loss: 0.4716 - val_accuracy: 0.8662\n",
      "Epoch 19/20\n",
      "30/30 [==============================] - 0s 13ms/step - loss: 0.0194 - accuracy: 0.9977 - val_loss: 0.4913 - val_accuracy: 0.8709\n",
      "Epoch 20/20\n",
      "30/30 [==============================] - 0s 9ms/step - loss: 0.0162 - accuracy: 0.9985 - val_loss: 0.5173 - val_accuracy: 0.8698\n"
     ]
    },
    {
     "data": {
      "image/png": "[encoded data removed]",
      "text/plain": [
       "<Figure size 432x288 with 1 Axes>"
      ]
     },
     "metadata": {
      "needs_background": "light"
     },
     "output_type": "display_data"
    },
    {
     "data": {
      "image/png": "[encoded data removed]",
      "text/plain": [
       "<Figure size 432x288 with 1 Axes>"
      ]
     },
     "metadata": {
      "needs_background": "light"
     },
     "output_type": "display_data"
    }
   ],
   "source": [
    "# tanh activation\n",
    "model = get_model(intermediate_activation=\"tanh\")\n",
    "\n",
    "history = model.fit(\n",
    "    partial_x_train,\n",
    "    partial_y_train,\n",
    "    epochs=20,\n",
    "    batch_size=512,\n",
    "    validation_data=(x_val, y_val),\n",
    ")\n",
    "\n",
    "plot_history(history, 'loss')\n",
    "plot_history(history, 'accuracy')"
   ]
  },
  {
   "cell_type": "markdown",
   "metadata": {},
   "source": [
    "## 2. Classifying newswires: Multi-class classification"
   ]
  },
  {
   "cell_type": "code",
   "execution_count": 3,
   "metadata": {},
   "outputs": [],
   "source": [
    "from keras.datasets import reuters\n",
    "(train_data, train_labels), (test_data, test_labels) = reuters.load_data(num_words=10_000)"
   ]
  },
  {
   "cell_type": "code",
   "execution_count": 4,
   "metadata": {},
   "outputs": [
    {
     "name": "stdout",
     "output_type": "stream",
     "text": [
      "len(train_data) = 8982\n",
      "len(test_data) = 2246\n"
     ]
    }
   ],
   "source": [
    "print(f\"{len(train_data) = }\")\n",
    "print(f\"{len(test_data) = }\")"
   ]
  },
  {
   "cell_type": "code",
   "execution_count": 5,
   "metadata": {},
   "outputs": [
    {
     "name": "stdout",
     "output_type": "stream",
     "text": [
      "train_data[10] = [1, 245, 273, 207, 156, 53, 74, 160, 26, 14, 46, 296, 26, 39, 74, 2979, 3554, 14, 46, 4689, 4329, 86, 61, 3499, 4795, 14, 61, 451, 4329, 17, 12]\n",
      "train_labels[10] = 3\n"
     ]
    }
   ],
   "source": [
    "print(f\"{train_data[10] = }\")\n",
    "print(f\"{train_labels[10] = }\")"
   ]
  },
  {
   "cell_type": "code",
   "execution_count": 6,
   "metadata": {},
   "outputs": [],
   "source": [
    "# vectorize inputs\n",
    "x_train = multi_hot_encode(train_data)\n",
    "x_test = multi_hot_encode(test_data)"
   ]
  },
  {
   "cell_type": "code",
   "execution_count": 7,
   "metadata": {},
   "outputs": [],
   "source": [
    "y_train = multi_hot_encode(train_labels, dimension=46) # this should be equivalent to one-hot-oncoding\n",
    "y_test = multi_hot_encode(test_labels, dimension=46)"
   ]
  },
  {
   "cell_type": "code",
   "execution_count": 8,
   "metadata": {},
   "outputs": [],
   "source": [
    "# check that it's actually equivalent\n",
    "assert (y_train.sum(axis=1) == 1.).all()\n",
    "assert (y_test.sum(axis=1) == 1.).all()"
   ]
  },
  {
   "cell_type": "code",
   "execution_count": 11,
   "metadata": {},
   "outputs": [],
   "source": [
    "# lets use the build-in versions of this instead\n",
    "from tensorflow.keras.utils import to_categorical\n",
    "\n",
    "y_train = to_categorical(train_labels)\n",
    "y_test = to_categorical(test_labels)"
   ]
  },
  {
   "cell_type": "code",
   "execution_count": 13,
   "metadata": {},
   "outputs": [],
   "source": [
    "# very similar to previous one, just change: \n",
    "# - units last layer\n",
    "# - default n_units (more capacity)\n",
    "# - loss\n",
    "def get_model(*, n_representation_layers=3, n_units=64, intermediate_activation=\"relu\", loss=\"categorical_crossentropy\"):\n",
    "    \n",
    "    # representation layers\n",
    "    layer_list = n_representation_layers * [layers.Dense(n_units, activation=intermediate_activation)]\n",
    "\n",
    "    # final layer\n",
    "    layer_list.append(layers.Dense(46, activation=\"softmax\"))\n",
    "    \n",
    "    model = keras.Sequential(layer_list)\n",
    "    model.compile(\n",
    "        optimizer=\"rmsprop\",\n",
    "        loss=loss,\n",
    "        metrics=[\"accuracy\"]\n",
    "    )\n",
    "\n",
    "    return model\n",
    "\n",
    "model = get_model()"
   ]
  },
  {
   "cell_type": "code",
   "execution_count": 14,
   "metadata": {},
   "outputs": [],
   "source": [
    "# validation split\n",
    "x_val = x_train[:1_000]\n",
    "partial_x_train = x_train[1_000:]\n",
    "y_val = y_train[:1_000]\n",
    "partial_y_train = y_train[1_000:]"
   ]
  },
  {
   "cell_type": "code",
   "execution_count": 15,
   "metadata": {},
   "outputs": [
    {
     "name": "stderr",
     "output_type": "stream",
     "text": [
      "2022-03-04 00:30:11.249236: I tensorflow/compiler/mlir/mlir_graph_optimization_pass.cc:185] None of the MLIR Optimization Passes are enabled (registered 2)\n"
     ]
    },
    {
     "name": "stdout",
     "output_type": "stream",
     "text": [
      "Epoch 1/20\n",
      "16/16 [==============================] - 5s 24ms/step - loss: 2.5884 - accuracy: 0.5535 - val_loss: 1.8567 - val_accuracy: 0.6520\n",
      "Epoch 2/20\n",
      "16/16 [==============================] - 0s 11ms/step - loss: 1.4932 - accuracy: 0.7196 - val_loss: 1.3697 - val_accuracy: 0.7130\n",
      "Epoch 3/20\n",
      "16/16 [==============================] - 0s 12ms/step - loss: 1.0749 - accuracy: 0.7886 - val_loss: 1.1444 - val_accuracy: 0.7710\n",
      "Epoch 4/20\n",
      "16/16 [==============================] - 0s 11ms/step - loss: 0.8359 - accuracy: 0.8348 - val_loss: 1.0233 - val_accuracy: 0.7930\n",
      "Epoch 5/20\n",
      "16/16 [==============================] - 0s 11ms/step - loss: 0.6695 - accuracy: 0.8686 - val_loss: 0.9399 - val_accuracy: 0.8080\n",
      "Epoch 6/20\n",
      "16/16 [==============================] - 0s 11ms/step - loss: 0.5466 - accuracy: 0.8933 - val_loss: 0.8865 - val_accuracy: 0.8130\n",
      "Epoch 7/20\n",
      "16/16 [==============================] - 0s 10ms/step - loss: 0.4521 - accuracy: 0.9077 - val_loss: 0.8575 - val_accuracy: 0.8230\n",
      "Epoch 8/20\n",
      "16/16 [==============================] - 0s 11ms/step - loss: 0.3763 - accuracy: 0.9245 - val_loss: 0.8422 - val_accuracy: 0.8200\n",
      "Epoch 9/20\n",
      "16/16 [==============================] - 0s 11ms/step - loss: 0.3164 - accuracy: 0.9341 - val_loss: 0.8322 - val_accuracy: 0.8250\n",
      "Epoch 10/20\n",
      "16/16 [==============================] - 0s 12ms/step - loss: 0.2701 - accuracy: 0.9405 - val_loss: 0.8438 - val_accuracy: 0.8250\n",
      "Epoch 11/20\n",
      "16/16 [==============================] - 0s 10ms/step - loss: 0.2359 - accuracy: 0.9451 - val_loss: 0.8240 - val_accuracy: 0.8280\n",
      "Epoch 12/20\n",
      "16/16 [==============================] - 0s 11ms/step - loss: 0.2048 - accuracy: 0.9498 - val_loss: 0.8312 - val_accuracy: 0.8270\n",
      "Epoch 13/20\n",
      "16/16 [==============================] - 0s 10ms/step - loss: 0.1833 - accuracy: 0.9503 - val_loss: 0.8396 - val_accuracy: 0.8320\n",
      "Epoch 14/20\n",
      "16/16 [==============================] - 0s 11ms/step - loss: 0.1646 - accuracy: 0.9543 - val_loss: 0.8501 - val_accuracy: 0.8190\n",
      "Epoch 15/20\n",
      "16/16 [==============================] - 0s 10ms/step - loss: 0.1476 - accuracy: 0.9559 - val_loss: 0.8665 - val_accuracy: 0.8220\n",
      "Epoch 16/20\n",
      "16/16 [==============================] - 0s 11ms/step - loss: 0.1387 - accuracy: 0.9559 - val_loss: 0.8874 - val_accuracy: 0.8200\n",
      "Epoch 17/20\n",
      "16/16 [==============================] - 0s 10ms/step - loss: 0.1283 - accuracy: 0.9562 - val_loss: 0.8920 - val_accuracy: 0.8140\n",
      "Epoch 18/20\n",
      "16/16 [==============================] - 0s 11ms/step - loss: 0.1196 - accuracy: 0.9574 - val_loss: 0.9004 - val_accuracy: 0.8170\n",
      "Epoch 19/20\n",
      "16/16 [==============================] - 0s 10ms/step - loss: 0.1154 - accuracy: 0.9572 - val_loss: 0.9234 - val_accuracy: 0.8130\n",
      "Epoch 20/20\n",
      "16/16 [==============================] - 0s 10ms/step - loss: 0.1083 - accuracy: 0.9582 - val_loss: 0.9225 - val_accuracy: 0.8210\n"
     ]
    }
   ],
   "source": [
    "# train for 20 epochs\n",
    "history = model.fit(\n",
    "    partial_x_train,\n",
    "    partial_y_train,\n",
    "    epochs=20,\n",
    "    batch_size=512,\n",
    "    validation_data=(x_val, y_val)\n",
    ")"
   ]
  },
  {
   "cell_type": "code",
   "execution_count": 17,
   "metadata": {},
   "outputs": [
    {
     "data": {
      "image/png": "[encoded data removed]",
      "text/plain": [
       "<Figure size 432x288 with 1 Axes>"
      ]
     },
     "metadata": {
      "needs_background": "light"
     },
     "output_type": "display_data"
    }
   ],
   "source": [
    "plot_history(history, \"loss\")"
   ]
  },
  {
   "cell_type": "code",
   "execution_count": 18,
   "metadata": {},
   "outputs": [
    {
     "data": {
      "image/png": "[encoded data removed]",
      "text/plain": [
       "<Figure size 432x288 with 1 Axes>"
      ]
     },
     "metadata": {
      "needs_background": "light"
     },
     "output_type": "display_data"
    }
   ],
   "source": [
    "plot_history(history, \"accuracy\")"
   ]
  },
  {
   "cell_type": "code",
   "execution_count": 19,
   "metadata": {},
   "outputs": [
    {
     "name": "stdout",
     "output_type": "stream",
     "text": [
      "Epoch 1/9\n",
      "18/18 [==============================] - 1s 8ms/step - loss: 2.4486 - accuracy: 0.5597\n",
      "Epoch 2/9\n",
      "18/18 [==============================] - 0s 9ms/step - loss: 1.3727 - accuracy: 0.7266\n",
      "Epoch 3/9\n",
      "18/18 [==============================] - 0s 9ms/step - loss: 0.9997 - accuracy: 0.7975\n",
      "Epoch 4/9\n",
      "18/18 [==============================] - 0s 8ms/step - loss: 0.7794 - accuracy: 0.8451\n",
      "Epoch 5/9\n",
      "18/18 [==============================] - 0s 9ms/step - loss: 0.6246 - accuracy: 0.8770\n",
      "Epoch 6/9\n",
      "18/18 [==============================] - 0s 8ms/step - loss: 0.5093 - accuracy: 0.9009\n",
      "Epoch 7/9\n",
      "18/18 [==============================] - 0s 9ms/step - loss: 0.4184 - accuracy: 0.9143\n",
      "Epoch 8/9\n",
      "18/18 [==============================] - 0s 8ms/step - loss: 0.3484 - accuracy: 0.9289\n",
      "Epoch 9/9\n",
      "18/18 [==============================] - 0s 8ms/step - loss: 0.2941 - accuracy: 0.9368\n",
      "71/71 [==============================] - 0s 2ms/step - loss: 0.8684 - accuracy: 0.8059\n",
      "results = [0.8684013485908508, 0.8058770895004272]\n"
     ]
    }
   ],
   "source": [
    "# starts to overfit after 9 epochs. Retrain with full data\n",
    "model = get_model()\n",
    "model.fit(x_train, y_train, epochs=9, batch_size=512)\n",
    "results = model.evaluate(x_test, y_test)\n",
    "print(f\"{results = }\")"
   ]
  },
  {
   "cell_type": "code",
   "execution_count": 24,
   "metadata": {},
   "outputs": [
    {
     "name": "stdout",
     "output_type": "stream",
     "text": [
      "accuracy = 17.854%\n"
     ]
    }
   ],
   "source": [
    "# how does that compare to random classifier?\n",
    "import copy\n",
    "\n",
    "# this is a cool way to ensure random predictions\n",
    "# with perfect distribution!\n",
    "random_predictions = copy.copy(test_labels) #not really random just yet\n",
    "np.random.shuffle(random_predictions) #now they are random\n",
    "accuracy = 100 * (random_predictions == test_labels).mean()\n",
    "print(f\"{accuracy = :.3f}%\")\n"
   ]
  },
  {
   "cell_type": "code",
   "execution_count": 25,
   "metadata": {},
   "outputs": [
    {
     "name": "stdout",
     "output_type": "stream",
     "text": [
      "y_train.shape = (8982,)\n",
      "y_test.shape = (2246,)\n"
     ]
    }
   ],
   "source": [
    "# we could have used a different encoding for the targets, just an integer tensor\n",
    "y_train = np.array(train_labels)\n",
    "y_test = np.array(test_labels)\n",
    "\n",
    "print(f\"{y_train.shape = }\")\n",
    "print(f\"{y_test.shape = }\")"
   ]
  },
  {
   "cell_type": "code",
   "execution_count": 26,
   "metadata": {},
   "outputs": [
    {
     "name": "stdout",
     "output_type": "stream",
     "text": [
      "Epoch 1/9\n",
      "18/18 [==============================] - 1s 8ms/step - loss: 2.6561 - accuracy: 0.5839\n",
      "Epoch 2/9\n",
      "18/18 [==============================] - 0s 8ms/step - loss: 1.4867 - accuracy: 0.7277\n",
      "Epoch 3/9\n",
      "18/18 [==============================] - 0s 8ms/step - loss: 1.0473 - accuracy: 0.7956\n",
      "Epoch 4/9\n",
      "18/18 [==============================] - 0s 7ms/step - loss: 0.8068 - accuracy: 0.8412\n",
      "Epoch 5/9\n",
      "18/18 [==============================] - 0s 7ms/step - loss: 0.6436 - accuracy: 0.8723\n",
      "Epoch 6/9\n",
      "18/18 [==============================] - 0s 7ms/step - loss: 0.5240 - accuracy: 0.8980\n",
      "Epoch 7/9\n",
      "18/18 [==============================] - 0s 7ms/step - loss: 0.4312 - accuracy: 0.9141\n",
      "Epoch 8/9\n",
      "18/18 [==============================] - 0s 7ms/step - loss: 0.3599 - accuracy: 0.9283\n",
      "Epoch 9/9\n",
      "18/18 [==============================] - 0s 7ms/step - loss: 0.3036 - accuracy: 0.9360\n",
      "71/71 [==============================] - 0s 2ms/step - loss: 0.8713 - accuracy: 0.8019\n",
      "results = [0.8713235259056091, 0.8018699884414673]\n"
     ]
    }
   ],
   "source": [
    "# we just need to change the loss\n",
    "model = get_model(loss=\"sparse_categorical_crossentropy\")\n",
    "model.fit(x_train, y_train, epochs=9, batch_size=512)\n",
    "results = model.evaluate(x_test, y_test)\n",
    "print(f\"{results = }\")"
   ]
  },
  {
   "cell_type": "markdown",
   "metadata": {},
   "source": [
    "## 3. Predicting house prices: Regression"
   ]
  },
  {
   "cell_type": "code",
   "execution_count": 28,
   "metadata": {},
   "outputs": [
    {
     "name": "stdout",
     "output_type": "stream",
     "text": [
      "Downloading data from https://storage.googleapis.com/tensorflow/tf-keras-datasets/boston_housing.npz\n",
      "57344/57026 [==============================] - 0s 0us/step\n",
      "65536/57026 [==================================] - 0s 0us/step\n"
     ]
    }
   ],
   "source": [
    "from keras.datasets import boston_housing\n",
    "(train_data, train_labels), (test_data, test_labels) = boston_housing.load_data()"
   ]
  },
  {
   "cell_type": "code",
   "execution_count": 29,
   "metadata": {},
   "outputs": [
    {
     "name": "stdout",
     "output_type": "stream",
     "text": [
      "train_data.shape = (404, 13)\n",
      "train_labels.shape = (404,)\n",
      "test_data.shape = (102, 13)\n",
      "test_labels.shape = (102,)\n"
     ]
    }
   ],
   "source": [
    "print(f\"{train_data.shape = }\")\n",
    "print(f\"{train_labels.shape = }\")\n",
    "print(f\"{test_data.shape = }\")\n",
    "print(f\"{test_labels.shape = }\")"
   ]
  },
  {
   "cell_type": "code",
   "execution_count": 30,
   "metadata": {},
   "outputs": [
    {
     "name": "stdout",
     "output_type": "stream",
     "text": [
      "train_data[0] = array([  1.23247,   0.     ,   8.14   ,   0.     ,   0.538  ,   6.142  ,\n",
      "        91.7    ,   3.9769 ,   4.     , 307.     ,  21.     , 396.9    ,\n",
      "        18.72   ])\n",
      "train_labels[0] = 15.2\n"
     ]
    }
   ],
   "source": [
    "print(f\"{train_data[0] = }\")\n",
    "print(f\"{train_labels[0] = }\")"
   ]
  },
  {
   "cell_type": "code",
   "execution_count": 31,
   "metadata": {},
   "outputs": [],
   "source": [
    "# normalize inputs \n",
    "\n",
    "# compute mean and std, apply to train\n",
    "mean = train_data.mean(axis=0)\n",
    "train_data -= mean\n",
    "std = train_data.std(axis=0)\n",
    "train_data /= std\n",
    "\n",
    "# apply to test\n",
    "test_data -= mean\n",
    "test_data /= std\n"
   ]
  },
  {
   "cell_type": "code",
   "execution_count": 32,
   "metadata": {},
   "outputs": [],
   "source": [
    "def get_model(*, n_representation_layers=2, n_units=64, intermediate_activation=\"relu\", loss=\"mse\"):\n",
    "    \n",
    "    # representation layers\n",
    "    layer_list = n_representation_layers * [layers.Dense(n_units, activation=intermediate_activation)]\n",
    "\n",
    "    # final layer\n",
    "    layer_list.append(layers.Dense(1))\n",
    "    \n",
    "    model = keras.Sequential(layer_list)\n",
    "    model.compile(\n",
    "        optimizer=\"rmsprop\",\n",
    "        loss=loss,\n",
    "        metrics=[\"mae\"]\n",
    "    )\n",
    "\n",
    "    return model\n",
    "\n",
    "model = get_model()"
   ]
  },
  {
   "cell_type": "code",
   "execution_count": 48,
   "metadata": {},
   "outputs": [
    {
     "name": "stdout",
     "output_type": "stream",
     "text": [
      "Processing fold 0\n",
      "Processing fold 1\n",
      "Processing fold 2\n",
      "Processing fold 3\n"
     ]
    }
   ],
   "source": [
    "# lets use k-fold cross validation\n",
    "k = 4\n",
    "num_val_samples = len(train_data) // k\n",
    "num_epochs = 200\n",
    "all_mae_histories = []\n",
    "\n",
    "for i in range(k):\n",
    "    print(f\"Processing fold {i}\")\n",
    "    val_start = i * num_val_samples\n",
    "    val_end = (i + 1) * num_val_samples\n",
    "    \n",
    "    val_data = train_data[val_start:val_end]\n",
    "    val_labels = train_labels[val_start:val_end]\n",
    "\n",
    "    partial_train_data = np.concatenate((train_data[:val_start], train_data[val_end:]), axis=0)\n",
    "    partial_train_labels = np.concatenate((train_labels[:val_start], train_labels[val_end:]), axis=0)\n",
    "\n",
    "    model = get_model()\n",
    "\n",
    "    history = model.fit(partial_train_data, partial_train_labels, epochs=num_epochs, batch_size=16, verbose=0, \n",
    "                        validation_data=(val_data, val_labels))\n",
    "    all_mae_histories.append(history.history[\"val_mae\"])"
   ]
  },
  {
   "cell_type": "code",
   "execution_count": 49,
   "metadata": {},
   "outputs": [
    {
     "data": {
      "image/png": "[encoded data removed]",
      "text/plain": [
       "<Figure size 432x288 with 1 Axes>"
      ]
     },
     "metadata": {
      "needs_background": "light"
     },
     "output_type": "display_data"
    }
   ],
   "source": [
    "average_mae_history = np.stack(all_mae_histories).mean(axis=0)\n",
    "\n",
    "plt.plot(range(1, len(average_mae_history) + 1), average_mae_history)\n",
    "plt.xlabel(\"Epochs\")\n",
    "plt.ylabel(\"Validation MAE\")\n",
    "plt.show()"
   ]
  },
  {
   "cell_type": "code",
   "execution_count": 52,
   "metadata": {},
   "outputs": [
    {
     "data": {
      "image/png": "[encoded data removed]",
      "text/plain": [
       "<Figure size 432x288 with 1 Axes>"
      ]
     },
     "metadata": {
      "needs_background": "light"
     },
     "output_type": "display_data"
    }
   ],
   "source": [
    "# zoom in \n",
    "zoom_average_mae_history = average_mae_history[25:]\n",
    "\n",
    "plt.plot(range(1, len(zoom_average_mae_history) + 1), zoom_average_mae_history)\n",
    "plt.xlabel(\"Epochs\")\n",
    "plt.ylabel(\"Validation MAE\")\n",
    "plt.show()"
   ]
  },
  {
   "cell_type": "code",
   "execution_count": null,
   "metadata": {},
   "outputs": [],
   "source": []
  }
 ],
 "metadata": {
  "interpreter": {
   "hash": "916dbcbb3f70747c44a77c7bcd40155683ae19c65e1c03b4aa3499c5328201f1"
  },
  "kernelspec": {
   "display_name": "Python 3.8.10 64-bit",
   "language": "python",
   "name": "python3"
  },
  "language_info": {
   "codemirror_mode": {
    "name": "ipython",
    "version": 3
   },
   "file_extension": ".py",
   "mimetype": "text/x-python",
   "name": "python",
   "nbconvert_exporter": "python",
   "pygments_lexer": "ipython3",
   "version": "3.8.10"
  },
  "orig_nbformat": 4
 },
 "nbformat": 4,
 "nbformat_minor": 2
}
